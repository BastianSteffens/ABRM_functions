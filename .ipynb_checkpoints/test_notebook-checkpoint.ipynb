{
 "cells": [
  {
   "cell_type": "code",
   "execution_count": 1,
   "metadata": {},
   "outputs": [
    {
     "ename": "ModuleNotFoundError",
     "evalue": "No module named 'umap'",
     "output_type": "error",
     "traceback": [
      "\u001b[1;31m---------------------------------------------------------------------------\u001b[0m",
      "\u001b[1;31mModuleNotFoundError\u001b[0m                       Traceback (most recent call last)",
      "\u001b[1;32m<ipython-input-1-9f3d3fd7da91>\u001b[0m in \u001b[0;36m<module>\u001b[1;34m\u001b[0m\n\u001b[0;32m     12\u001b[0m \u001b[1;32mimport\u001b[0m \u001b[0mos\u001b[0m\u001b[1;33m\u001b[0m\u001b[1;33m\u001b[0m\u001b[0m\n\u001b[0;32m     13\u001b[0m \u001b[1;32mimport\u001b[0m \u001b[0mre\u001b[0m\u001b[1;33m\u001b[0m\u001b[1;33m\u001b[0m\u001b[0m\n\u001b[1;32m---> 14\u001b[1;33m \u001b[1;32mimport\u001b[0m \u001b[0mABRM_functions\u001b[0m\u001b[1;33m\u001b[0m\u001b[1;33m\u001b[0m\u001b[0m\n\u001b[0m\u001b[0;32m     15\u001b[0m \u001b[1;32mimport\u001b[0m \u001b[0mcsv\u001b[0m\u001b[1;33m\u001b[0m\u001b[1;33m\u001b[0m\u001b[0m\n\u001b[0;32m     16\u001b[0m \u001b[1;32mfrom\u001b[0m \u001b[0msix\u001b[0m\u001b[1;33m.\u001b[0m\u001b[0mmoves\u001b[0m \u001b[1;32mimport\u001b[0m \u001b[0mcPickle\u001b[0m \u001b[1;32mas\u001b[0m \u001b[0mpickle\u001b[0m\u001b[1;33m\u001b[0m\u001b[1;33m\u001b[0m\u001b[0m\n",
      "\u001b[1;32mC:\\AgentBased_RM\\ABRM_functions\\ABRM_functions.py\u001b[0m in \u001b[0;36m<module>\u001b[1;34m\u001b[0m\n\u001b[0;32m     18\u001b[0m \u001b[1;32mimport\u001b[0m \u001b[0mmatplotlib\u001b[0m\u001b[1;33m.\u001b[0m\u001b[0mpyplot\u001b[0m \u001b[1;32mas\u001b[0m \u001b[0mplt\u001b[0m\u001b[1;33m\u001b[0m\u001b[1;33m\u001b[0m\u001b[0m\n\u001b[0;32m     19\u001b[0m \u001b[1;32mimport\u001b[0m \u001b[0mshutil\u001b[0m\u001b[1;33m\u001b[0m\u001b[1;33m\u001b[0m\u001b[0m\n\u001b[1;32m---> 20\u001b[1;33m \u001b[1;32mimport\u001b[0m \u001b[0mumap\u001b[0m\u001b[1;33m\u001b[0m\u001b[1;33m\u001b[0m\u001b[0m\n\u001b[0m\u001b[0;32m     21\u001b[0m \u001b[1;32mimport\u001b[0m \u001b[0mhdbscan\u001b[0m\u001b[1;33m\u001b[0m\u001b[1;33m\u001b[0m\u001b[0m\n\u001b[0;32m     22\u001b[0m \u001b[1;32mimport\u001b[0m \u001b[0mplotly\u001b[0m\u001b[1;33m.\u001b[0m\u001b[0mgraph_objects\u001b[0m \u001b[1;32mas\u001b[0m \u001b[0mgo\u001b[0m\u001b[1;33m\u001b[0m\u001b[1;33m\u001b[0m\u001b[0m\n",
      "\u001b[1;31mModuleNotFoundError\u001b[0m: No module named 'umap'"
     ]
    }
   ],
   "source": [
    "import numpy as np\n",
    "import pandas as pd\n",
    "from numpy.random import seed\n",
    "from numpy.random import rand\n",
    "import random\n",
    "import matplotlib.pyplot as plt\n",
    "from os import path\n",
    "import datetime\n",
    "from datetime import date\n",
    "import random \n",
    "import pickle\n",
    "import os\n",
    "import re\n",
    "import ABRM_functions\n",
    "import csv\n",
    "from six.moves import cPickle as pickle\n",
    "from sklearn.preprocessing import scale\n",
    "from sklearn import ensemble\n",
    "from sklearn import preprocessing\n",
    "from sklearn.utils import shuffle\n",
    "from sklearn.metrics import mean_squared_error\n",
    "from sklearn.neighbors import KNeighborsClassifier\n",
    "import pyswarms as ps\n",
    "from pyswarms.utils.functions import single_obj as fx"
   ]
  },
  {
   "cell_type": "code",
   "execution_count": 2,
   "metadata": {},
   "outputs": [],
   "source": [
    "n_particles = 26\n",
    "\n"
   ]
  },
  {
   "cell_type": "code",
   "execution_count": 2,
   "metadata": {},
   "outputs": [
    {
     "name": "stdout",
     "output_type": "stream",
     "text": [
      "['#0d0887', '#46039f', '#7201a8', '#9c179e', '#bd3786', '#d8576b', '#ed7953', '#fb9f3a', '#fdca26', '#f0f921']\n"
     ]
    }
   ],
   "source": [
    "import plotly.express as px\n",
    "\n",
    "print(px.colors.sequential.Plasma)"
   ]
  },
  {
   "cell_type": "code",
   "execution_count": 7,
   "metadata": {},
   "outputs": [],
   "source": [
    "parameters =  np.array([ ['None'] * 4 ]*n_particles)"
   ]
  },
  {
   "cell_type": "code",
   "execution_count": 8,
   "metadata": {},
   "outputs": [
    {
     "ename": "ValueError",
     "evalue": "setting an array element with a sequence",
     "output_type": "error",
     "traceback": [
      "\u001b[1;31m---------------------------------------------------------------------------\u001b[0m",
      "\u001b[1;31mValueError\u001b[0m                                Traceback (most recent call last)",
      "\u001b[1;32m<ipython-input-8-ea7e30f8e001>\u001b[0m in \u001b[0;36m<module>\u001b[1;34m\u001b[0m\n\u001b[1;32m----> 1\u001b[1;33m \u001b[0mparameters\u001b[0m\u001b[1;33m[\u001b[0m\u001b[1;36m1\u001b[0m\u001b[1;33m,\u001b[0m\u001b[1;36m1\u001b[0m\u001b[1;33m]\u001b[0m \u001b[1;33m=\u001b[0m \u001b[1;33m[\u001b[0m\u001b[1;34m'Not_in_Use'\u001b[0m\u001b[1;33m]\u001b[0m\u001b[1;33m\u001b[0m\u001b[1;33m\u001b[0m\u001b[0m\n\u001b[0m",
      "\u001b[1;31mValueError\u001b[0m: setting an array element with a sequence"
     ]
    }
   ],
   "source": [
    "parameters[1,1] = ['Not_in_Use']"
   ]
  },
  {
   "cell_type": "code",
   "execution_count": 31,
   "metadata": {},
   "outputs": [
    {
     "data": {
      "text/plain": [
       "'   col1  col2\\n0     1     4\\n1     2     5\\n2     3     6'"
      ]
     },
     "execution_count": 31,
     "metadata": {},
     "output_type": "execute_result"
    }
   ],
   "source": [
    "d = {'col1': [1, 2, 3], 'col2': [4, 5, 6]}\n",
    "df = pd.DataFrame(d)\n",
    "\n",
    "df_string = df.to_string()\n",
    "df_string\n",
    ">>> my_list2 = [66, 77, 88, 99]\n",
    "\n",
    ">>> print \" \".join(map(str, my_list2))"
   ]
  },
  {
   "cell_type": "code",
   "execution_count": 53,
   "metadata": {},
   "outputs": [
    {
     "name": "stdout",
     "output_type": "stream",
     "text": [
      "['0', '1', '2', '0', '1', '2', '0', '1', '2', '0', '1', '2', '0', '1', '2', '0', '1', '2', '0', '1', '2', '0', '1', '2', '0', '1', '2', '0', '1', '2', '0', '1', '2', '0', '1', '2', '0', '1', '2', '0', '1', '2', '0', '1', '2', '0', '1', '2', '0', '1', '2', '0', '1', '2', '0', '1', '2', '0', '1', '2', '0', '1', '2', '0', '1', '2', '0', '1', '2', '0', '1', '2', '0', '1', '2', '0', '1', '2']\n"
     ]
    }
   ],
   "source": [
    "a = [str(i) for i in x]\n",
    "single_wf = [str(i) for i in np.tile(n_particlesperwf,n_particles)]\n",
    "print(single_wf)"
   ]
  },
  {
   "cell_type": "code",
   "execution_count": 69,
   "metadata": {},
   "outputs": [
    {
     "name": "stdout",
     "output_type": "stream",
     "text": [
      "run_petrel_0.bat\n",
      "run_petrel_1.bat\n",
      "run_petrel_2.bat\n",
      "run_petrel_3.bat\n"
     ]
    }
   ],
   "source": [
    "slicer = np.arange(0,4,1)\n",
    "for index,i in enumerate(slicer):\n",
    "\n",
    "# path to petrel project \n",
    "    path = projectpath[index]\n",
    "\n",
    "        # path to batch file\n",
    "    run_petrel = 'run_petrel_{}.bat'.format(index)\n",
    "    print(run_petrel)"
   ]
  },
  {
   "cell_type": "code",
   "execution_count": 75,
   "metadata": {},
   "outputs": [],
   "source": [
    "index = 15\n",
    "run_petrel_batch = 'run_pet_{}.bat'.format(index)\n",
    "f= open(run_petrel_batch,\"w+\")\n",
    "for i in range(0,10):\n",
    "     f.write(\"This is line %d\\r\\n\" % (i+1))\n",
    "f.close() \n"
   ]
  },
  {
   "cell_type": "markdown",
   "metadata": {},
   "source": [
    "x2 = [1,2,3,4]\n",
    "x2_str = map(str,x2)\n",
    "print(x2_str)\n",
    "# generate random numbers between 0-1\n",
    "x = rand(26)\n",
    "x_str = set(map(str,x))\n",
    "# df.astype(float).sum().astype(str)\n",
    "# x_df = x_df.to_string()\n",
    "x_str_df = pd.DataFrame(x_str)\n"
   ]
  },
  {
   "cell_type": "code",
   "execution_count": 16,
   "metadata": {},
   "outputs": [],
   "source": [
    "particle = x_df\n",
    "n_modelsperbatch = 3\n",
    "n_particlesperwf = np.arange(0,n_modelsperbatch)\n",
    "\n",
    "n_particles = particle.shape[0]\n",
    "n_particles_str = str(np.tile(n_particlesperwf, n_particles))\n",
    "n_particles_models_str = str(np.arange(1,n_particles))\n",
    "particle_str = str(particle)\n",
    "slicer = np.arange(0,(n_particles/n_modelsperbatch))\n",
    "\n"
   ]
  },
  {
   "cell_type": "code",
   "execution_count": 17,
   "metadata": {},
   "outputs": [
    {
     "data": {
      "text/plain": [
       "array([0, 1, 2])"
      ]
     },
     "execution_count": 17,
     "metadata": {},
     "output_type": "execute_result"
    }
   ],
   "source": [
    "n_particlesperwf"
   ]
  },
  {
   "cell_type": "code",
   "execution_count": null,
   "metadata": {},
   "outputs": [],
   "source": [
    "type(particle_str)"
   ]
  },
  {
   "cell_type": "code",
   "execution_count": null,
   "metadata": {},
   "outputs": [],
   "source": [
    "parameters =np.arrayrand(26)))"
   ]
  },
  {
   "cell_type": "code",
   "execution_count": null,
   "metadata": {},
   "outputs": [],
   "source": [
    "parameters"
   ]
  },
  {
   "cell_type": "code",
   "execution_count": 10,
   "metadata": {},
   "outputs": [
    {
     "data": {
      "text/html": [
       "<div>\n",
       "<style scoped>\n",
       "    .dataframe tbody tr th:only-of-type {\n",
       "        vertical-align: middle;\n",
       "    }\n",
       "\n",
       "    .dataframe tbody tr th {\n",
       "        vertical-align: top;\n",
       "    }\n",
       "\n",
       "    .dataframe thead th {\n",
       "        text-align: right;\n",
       "    }\n",
       "</style>\n",
       "<table border=\"1\" class=\"dataframe\">\n",
       "  <thead>\n",
       "    <tr style=\"text-align: right;\">\n",
       "      <th></th>\n",
       "      <th>0</th>\n",
       "    </tr>\n",
       "  </thead>\n",
       "  <tbody>\n",
       "    <tr>\n",
       "      <th>0</th>\n",
       "      <td>0.629733</td>\n",
       "    </tr>\n",
       "    <tr>\n",
       "      <th>1</th>\n",
       "      <td>0.918404</td>\n",
       "    </tr>\n",
       "    <tr>\n",
       "      <th>2</th>\n",
       "      <td>0.221167</td>\n",
       "    </tr>\n",
       "    <tr>\n",
       "      <th>3</th>\n",
       "      <td>0.547177</td>\n",
       "    </tr>\n",
       "    <tr>\n",
       "      <th>4</th>\n",
       "      <td>0.386879</td>\n",
       "    </tr>\n",
       "    <tr>\n",
       "      <th>5</th>\n",
       "      <td>0.526124</td>\n",
       "    </tr>\n",
       "    <tr>\n",
       "      <th>6</th>\n",
       "      <td>0.850153</td>\n",
       "    </tr>\n",
       "    <tr>\n",
       "      <th>7</th>\n",
       "      <td>0.481533</td>\n",
       "    </tr>\n",
       "    <tr>\n",
       "      <th>8</th>\n",
       "      <td>0.681240</td>\n",
       "    </tr>\n",
       "    <tr>\n",
       "      <th>9</th>\n",
       "      <td>0.231846</td>\n",
       "    </tr>\n",
       "    <tr>\n",
       "      <th>10</th>\n",
       "      <td>0.483617</td>\n",
       "    </tr>\n",
       "    <tr>\n",
       "      <th>11</th>\n",
       "      <td>0.116452</td>\n",
       "    </tr>\n",
       "    <tr>\n",
       "      <th>12</th>\n",
       "      <td>0.753397</td>\n",
       "    </tr>\n",
       "    <tr>\n",
       "      <th>13</th>\n",
       "      <td>0.548450</td>\n",
       "    </tr>\n",
       "    <tr>\n",
       "      <th>14</th>\n",
       "      <td>0.916787</td>\n",
       "    </tr>\n",
       "    <tr>\n",
       "      <th>15</th>\n",
       "      <td>0.296377</td>\n",
       "    </tr>\n",
       "    <tr>\n",
       "      <th>16</th>\n",
       "      <td>0.985496</td>\n",
       "    </tr>\n",
       "    <tr>\n",
       "      <th>17</th>\n",
       "      <td>0.274142</td>\n",
       "    </tr>\n",
       "    <tr>\n",
       "      <th>18</th>\n",
       "      <td>0.025587</td>\n",
       "    </tr>\n",
       "    <tr>\n",
       "      <th>19</th>\n",
       "      <td>0.616117</td>\n",
       "    </tr>\n",
       "    <tr>\n",
       "      <th>20</th>\n",
       "      <td>0.143472</td>\n",
       "    </tr>\n",
       "    <tr>\n",
       "      <th>21</th>\n",
       "      <td>0.154849</td>\n",
       "    </tr>\n",
       "    <tr>\n",
       "      <th>22</th>\n",
       "      <td>0.834250</td>\n",
       "    </tr>\n",
       "    <tr>\n",
       "      <th>23</th>\n",
       "      <td>0.569611</td>\n",
       "    </tr>\n",
       "    <tr>\n",
       "      <th>24</th>\n",
       "      <td>0.967653</td>\n",
       "    </tr>\n",
       "    <tr>\n",
       "      <th>25</th>\n",
       "      <td>0.342902</td>\n",
       "    </tr>\n",
       "  </tbody>\n",
       "</table>\n",
       "</div>"
      ],
      "text/plain": [
       "           0\n",
       "0   0.629733\n",
       "1   0.918404\n",
       "2   0.221167\n",
       "3   0.547177\n",
       "4   0.386879\n",
       "5   0.526124\n",
       "6   0.850153\n",
       "7   0.481533\n",
       "8   0.681240\n",
       "9   0.231846\n",
       "10  0.483617\n",
       "11  0.116452\n",
       "12  0.753397\n",
       "13  0.548450\n",
       "14  0.916787\n",
       "15  0.296377\n",
       "16  0.985496\n",
       "17  0.274142\n",
       "18  0.025587\n",
       "19  0.616117\n",
       "20  0.143472\n",
       "21  0.154849\n",
       "22  0.834250\n",
       "23  0.569611\n",
       "24  0.967653\n",
       "25  0.342902"
      ]
     },
     "execution_count": 10,
     "metadata": {},
     "output_type": "execute_result"
    }
   ],
   "source": [
    "x_df"
   ]
  },
  {
   "cell_type": "code",
   "execution_count": 102,
   "metadata": {},
   "outputs": [
    {
     "data": {
      "text/plain": [
       "array([0, 1, 2])"
      ]
     },
     "execution_count": 102,
     "metadata": {},
     "output_type": "execute_result"
    }
   ],
   "source": [
    "np.arange(0,3)"
   ]
  },
  {
   "cell_type": "code",
   "execution_count": 5,
   "metadata": {},
   "outputs": [
    {
     "data": {
      "text/plain": [
       "array([25, 26, 27])"
      ]
     },
     "execution_count": 5,
     "metadata": {},
     "output_type": "execute_result"
    }
   ],
   "source": [
    "np.linspace(25,27,3, endpoint = True,dtype = int)"
   ]
  },
  {
   "cell_type": "code",
   "execution_count": 100,
   "metadata": {},
   "outputs": [
    {
     "data": {
      "text/plain": [
       "24"
      ]
     },
     "execution_count": 100,
     "metadata": {},
     "output_type": "execute_result"
    }
   ],
   "source": [
    "int(np.ceil(23.01))\n"
   ]
  },
  {
   "cell_type": "code",
   "execution_count": 106,
   "metadata": {},
   "outputs": [
    {
     "data": {
      "text/plain": [
       "5.0"
      ]
     },
     "execution_count": 106,
     "metadata": {},
     "output_type": "execute_result"
    }
   ],
   "source": [
    "np.ceil(60/3/4)"
   ]
  },
  {
   "cell_type": "code",
   "execution_count": 543,
   "metadata": {},
   "outputs": [
    {
     "name": "stdout",
     "output_type": "stream",
     "text": [
      "None\n"
     ]
    }
   ],
   "source": [
    "# import random\n",
    "# random seed test\n",
    "seed = random.seed(1)\n",
    "print(seed)\n"
   ]
  },
  {
   "cell_type": "code",
   "execution_count": 541,
   "metadata": {},
   "outputs": [
    {
     "name": "stdout",
     "output_type": "stream",
     "text": [
      "None\n"
     ]
    }
   ],
   "source": [
    "set_seed = random.randint(0,10000000)\n",
    "random.seed(set_seed)\n",
    "seed = random.seed(set_seed)\n",
    "print(seed)"
   ]
  },
  {
   "cell_type": "code",
   "execution_count": 20,
   "metadata": {},
   "outputs": [],
   "source": [
    "x1 = np.array([1,4])\n",
    "x2 = np.array([1,200])\n",
    "x3 = np.array([1,200])\n",
    "tt = np.array([x1,x2,x3])\n"
   ]
  },
  {
   "cell_type": "code",
   "execution_count": 548,
   "metadata": {},
   "outputs": [
    {
     "name": "stdout",
     "output_type": "stream",
     "text": [
      "['\\n\"C:/AgentBased_RM/Petrel_Projects/ABRM_0.pet\"', '\\n\"C:/AgentBased_RM/Petrel_Projects/ABRM_1.pet\"', '\\n\"C:/AgentBased_RM/Petrel_Projects/ABRM_2.pet\"', '\\n\"C:/AgentBased_RM/Petrel_Projects/ABRM_0.pet\"', '\\n\"C:/AgentBased_RM/Petrel_Projects/ABRM_1.pet\"', '\\n\"C:/AgentBased_RM/Petrel_Projects/ABRM_2.pet\"', '\\n\"C:/AgentBased_RM/Petrel_Projects/ABRM_0.pet\"', '\\n\"C:/AgentBased_RM/Petrel_Projects/ABRM_1.pet\"', '\\n\"C:/AgentBased_RM/Petrel_Projects/ABRM_2.pet\"', '\\n\"C:/AgentBased_RM/Petrel_Projects/ABRM_0.pet\"', '\\n\"C:/AgentBased_RM/Petrel_Projects/ABRM_1.pet\"', '\\n\"C:/AgentBased_RM/Petrel_Projects/ABRM_2.pet\"', '\\n\"C:/AgentBased_RM/Petrel_Projects/ABRM_0.pet\"', '\\n\"C:/AgentBased_RM/Petrel_Projects/ABRM_1.pet\"', '\\n\"C:/AgentBased_RM/Petrel_Projects/ABRM_2.pet\"']\n"
     ]
    }
   ],
   "source": [
    "projectpath = ['\\n\"C:/AgentBased_RM/Petrel_Projects/ABRM_0.pet\"','\\n\"C:/AgentBased_RM/Petrel_Projects/ABRM_1.pet\"','\\n\"C:/AgentBased_RM/Petrel_Projects/ABRM_2.pet\"']\n",
    "projectpath_repeat = projectpath * 5\n",
    "print(projectpath_repeat)"
   ]
  },
  {
   "cell_type": "code",
   "execution_count": 166,
   "metadata": {},
   "outputs": [],
   "source": [
    "import pickle\n",
    "filename = \"C:/AgentBased_RM/Output/variable_settings.pickle\"\n",
    "with open(filename, \"rb\") as f:\n",
    "    a,b,c,d,e,f,g,h,i = pickle.load(f)"
   ]
  },
  {
   "cell_type": "code",
   "execution_count": 29,
   "metadata": {},
   "outputs": [],
   "source": [
    "    pickle_file = \"C:/AgentBased_RM/Output/variable_settings.pickle\"\n",
    "    with open(pickle_file, \"rb\") as f:\n",
    "        dummy_0,dummy_1,dummy_2,dummy_3,dummy_4,dummy_5, folder_path = pickle.load(f)"
   ]
  },
  {
   "cell_type": "code",
   "execution_count": 172,
   "metadata": {},
   "outputs": [
    {
     "name": "stdout",
     "output_type": "stream",
     "text": [
      "C:/AgentBased_RM/Output/2020_04_08_12_51\n"
     ]
    }
   ],
   "source": [
    "print(g)"
   ]
  },
  {
   "cell_type": "code",
   "execution_count": 31,
   "metadata": {},
   "outputs": [],
   "source": [
    "import datetime\n",
    "from datetime import date"
   ]
  },
  {
   "cell_type": "code",
   "execution_count": 33,
   "metadata": {},
   "outputs": [],
   "source": [
    "date_object = datetime.datetime.today()\n"
   ]
  },
  {
   "cell_type": "code",
   "execution_count": 34,
   "metadata": {},
   "outputs": [
    {
     "name": "stdout",
     "output_type": "stream",
     "text": [
      "2020-03-27 16:33:20.492556\n"
     ]
    }
   ],
   "source": [
    "print(date_object)"
   ]
  },
  {
   "cell_type": "code",
   "execution_count": 3,
   "metadata": {},
   "outputs": [],
   "source": [
    "import csv\n",
    "from six.moves import cPickle as pickle\n",
    "import numpy as np\n",
    "\n",
    "\n",
    "def main(path_pickle,path_csv):\n",
    "\n",
    "    a = []\n",
    "    b = []\n",
    "    c = []\n",
    "    d = []\n",
    "    e = []\n",
    "    f = []\n",
    "    g = []\n",
    "    with open(path_pickle,'rb') as f:\n",
    "        a,b,c,d,e,f,g = pickle.load(f)\n",
    "    print(\"pickle_open_worked\")\n",
    "\n",
    "    with open(path_csv,'w') as f:\n",
    "        writer = csv.writer(f)\n",
    "        for line in a: writer.writerow(line)\n",
    "        for line in b: writer.writerow(line)\n",
    "        for line in c: writer.writerow(line)\n",
    "        for line in d: writer.writerow(line)\n",
    "        for line in e: writer.writerow(line)\n",
    "        for line in f: writer.writerow(line)\n",
    "        for line in g: writer.writerow(line)\n",
    "\n"
   ]
  },
  {
   "cell_type": "code",
   "execution_count": 59,
   "metadata": {},
   "outputs": [
    {
     "name": "stdout",
     "output_type": "stream",
     "text": [
      "pickle_open_worked\n"
     ]
    },
    {
     "ename": "TypeError",
     "evalue": "'float' object is not iterable",
     "output_type": "error",
     "traceback": [
      "\u001b[1;31m---------------------------------------------------------------------------\u001b[0m",
      "\u001b[1;31mTypeError\u001b[0m                                 Traceback (most recent call last)",
      "\u001b[1;32m<ipython-input-59-302cf0f95496>\u001b[0m in \u001b[0;36m<module>\u001b[1;34m\u001b[0m\n\u001b[1;32m----> 1\u001b[1;33m \u001b[0mmain\u001b[0m\u001b[1;33m(\u001b[0m\u001b[1;34m\"C:/AgentBased_RM/Output/2020_03_27_16_58/variable_settings_saved.pickel\"\u001b[0m\u001b[1;33m,\u001b[0m\u001b[1;34m\"C:/AgentBased_RM/Output/2020_03_27_16_58/variable_settings_saved.csv\"\u001b[0m\u001b[1;33m)\u001b[0m\u001b[1;33m\u001b[0m\u001b[1;33m\u001b[0m\u001b[0m\n\u001b[0m",
      "\u001b[1;32m<ipython-input-58-a28b59854135>\u001b[0m in \u001b[0;36mmain\u001b[1;34m(path_pickle, path_csv)\u001b[0m\n\u001b[0;32m     21\u001b[0m         \u001b[1;32mfor\u001b[0m \u001b[0mline\u001b[0m \u001b[1;32min\u001b[0m \u001b[0ma\u001b[0m\u001b[1;33m:\u001b[0m \u001b[0mwriter\u001b[0m\u001b[1;33m.\u001b[0m\u001b[0mwriterow\u001b[0m\u001b[1;33m(\u001b[0m\u001b[0mline\u001b[0m\u001b[1;33m)\u001b[0m\u001b[1;33m\u001b[0m\u001b[1;33m\u001b[0m\u001b[0m\n\u001b[0;32m     22\u001b[0m         \u001b[1;32mfor\u001b[0m \u001b[0mline\u001b[0m \u001b[1;32min\u001b[0m \u001b[0mb\u001b[0m\u001b[1;33m:\u001b[0m \u001b[0mwriter\u001b[0m\u001b[1;33m.\u001b[0m\u001b[0mwriterow\u001b[0m\u001b[1;33m(\u001b[0m\u001b[0mline\u001b[0m\u001b[1;33m)\u001b[0m\u001b[1;33m\u001b[0m\u001b[1;33m\u001b[0m\u001b[0m\n\u001b[1;32m---> 23\u001b[1;33m         \u001b[1;32mfor\u001b[0m \u001b[0mline\u001b[0m \u001b[1;32min\u001b[0m \u001b[0mc\u001b[0m\u001b[1;33m:\u001b[0m \u001b[0mwriter\u001b[0m\u001b[1;33m.\u001b[0m\u001b[0mwriterow\u001b[0m\u001b[1;33m(\u001b[0m\u001b[0mline\u001b[0m\u001b[1;33m)\u001b[0m\u001b[1;33m\u001b[0m\u001b[1;33m\u001b[0m\u001b[0m\n\u001b[0m\u001b[0;32m     24\u001b[0m         \u001b[1;32mfor\u001b[0m \u001b[0mline\u001b[0m \u001b[1;32min\u001b[0m \u001b[0md\u001b[0m\u001b[1;33m:\u001b[0m \u001b[0mwriter\u001b[0m\u001b[1;33m.\u001b[0m\u001b[0mwriterow\u001b[0m\u001b[1;33m(\u001b[0m\u001b[0mline\u001b[0m\u001b[1;33m)\u001b[0m\u001b[1;33m\u001b[0m\u001b[1;33m\u001b[0m\u001b[0m\n\u001b[0;32m     25\u001b[0m         \u001b[1;32mfor\u001b[0m \u001b[0mline\u001b[0m \u001b[1;32min\u001b[0m \u001b[0me\u001b[0m\u001b[1;33m:\u001b[0m \u001b[0mwriter\u001b[0m\u001b[1;33m.\u001b[0m\u001b[0mwriterow\u001b[0m\u001b[1;33m(\u001b[0m\u001b[0mline\u001b[0m\u001b[1;33m)\u001b[0m\u001b[1;33m\u001b[0m\u001b[1;33m\u001b[0m\u001b[0m\n",
      "\u001b[1;31mTypeError\u001b[0m: 'float' object is not iterable"
     ]
    }
   ],
   "source": [
    "main(\"C:/AgentBased_RM/Output/2020_03_27_16_58/variable_settings_saved.pickle\",\"C:/AgentBased_RM/Output/2020_03_27_16_58/variable_settings_saved.csv\")"
   ]
  },
  {
   "cell_type": "code",
   "execution_count": 42,
   "metadata": {},
   "outputs": [],
   "source": [
    "path_pickle = \"C:/AgentBased_RM/Output/2020_03_27_16_58/variable_settings_saved.pickle\"\n",
    "with open(path_pickle,'rb') as f:\n",
    "    a,b,c,d,e,f,g= pickle.load(f)"
   ]
  },
  {
   "cell_type": "code",
   "execution_count": 43,
   "metadata": {},
   "outputs": [
    {
     "name": "stdout",
     "output_type": "stream",
     "text": [
      "[[1.e+00 4.e+00]\n",
      " [1.e+00 2.e+02]\n",
      " [1.e+00 2.e+02]\n",
      " [1.e+00 1.e+02]\n",
      " [1.e+00 1.e+02]\n",
      " [1.e+00 7.e+00]\n",
      " [1.e+00 7.e+00]\n",
      " [1.e+00 4.e+00]\n",
      " [1.e+00 2.e+02]\n",
      " [1.e+00 2.e+02]\n",
      " [1.e+00 1.e+02]\n",
      " [1.e+00 1.e+02]\n",
      " [1.e+00 7.e+00]\n",
      " [1.e+00 7.e+00]\n",
      " [1.e+00 4.e+00]\n",
      " [1.e+00 2.e+02]\n",
      " [1.e+00 2.e+02]\n",
      " [1.e+00 1.e+02]\n",
      " [1.e+00 1.e+02]\n",
      " [1.e+00 7.e+00]\n",
      " [1.e+00 7.e+00]\n",
      " [0.e+00 1.e+00]\n",
      " [0.e+00 1.e+00]\n",
      " [0.e+00 1.e+00]\n",
      " [1.e+02 1.e+03]\n",
      " [1.e-01 1.e+02]]\n"
     ]
    }
   ],
   "source": [
    "print(a)"
   ]
  },
  {
   "cell_type": "code",
   "execution_count": 2,
   "metadata": {},
   "outputs": [
    {
     "data": {
      "text/plain": [
       "[0.4147244624835802]"
      ]
     },
     "execution_count": 2,
     "metadata": {},
     "output_type": "execute_result"
    }
   ],
   "source": [
    "df = pd.read_csv('C:/AgentBased_RM/Output/2020_04_20_17_24/swarm_performance_all_iter.csv')  \n",
    "Phi = df.loc[(df.iteration == 0) & (df.particle_no == 0), \"Phi\"]\n",
    "F = df.loc[(df.iteration == 0) & (df.particle_no == 0), \"F\"]\n",
    "LC = df.loc[(df.iteration == 0) & (df.particle_no == 0), \"LC\"].unique().tolist()\n",
    "LC"
   ]
  },
  {
   "cell_type": "code",
   "execution_count": 3,
   "metadata": {},
   "outputs": [
    {
     "data": {
      "text/plain": [
       "[<matplotlib.lines.Line2D at 0x2cb7e6b2608>,\n",
       " <matplotlib.lines.Line2D at 0x2cb7e33aa08>]"
      ]
     },
     "execution_count": 3,
     "metadata": {},
     "output_type": "execute_result"
    },
    {
     "data": {
      "image/png": "[encoded data removed]",
      "text/plain": [
       "<Figure size 432x288 with 1 Axes>"
      ]
     },
     "metadata": {
      "needs_background": "light"
     },
     "output_type": "display_data"
    }
   ],
   "source": [
    "plt.plot(Phi,F,[0,1],[0,1])"
   ]
  },
  {
   "cell_type": "code",
   "execution_count": 428,
   "metadata": {},
   "outputs": [
    {
     "data": {
      "text/plain": [
       "140"
      ]
     },
     "execution_count": 428,
     "metadata": {},
     "output_type": "execute_result"
    }
   ],
   "source": [
    "\n"
   ]
  },
  {
   "cell_type": "code",
   "execution_count": 27,
   "metadata": {},
   "outputs": [],
   "source": [
    "def compute_LC(F,Phi):\n",
    "    v = np.diff(Phi,1)\n",
    "    \n",
    "    LC = 2*(np.sum(((np.array(F[0:-1]) + np.array(F[1:]))/2*v))-0.5)\n",
    "    return LC"
   ]
  },
  {
   "cell_type": "code",
   "execution_count": 8,
   "metadata": {},
   "outputs": [
    {
     "ename": "NameError",
     "evalue": "name 'Phi_array' is not defined",
     "output_type": "error",
     "traceback": [
      "\u001b[1;31m---------------------------------------------------------------------------\u001b[0m",
      "\u001b[1;31mNameError\u001b[0m                                 Traceback (most recent call last)",
      "\u001b[1;32m<ipython-input-8-5524a032469f>\u001b[0m in \u001b[0;36m<module>\u001b[1;34m\u001b[0m\n\u001b[1;32m----> 1\u001b[1;33m \u001b[0mcompute_LC\u001b[0m\u001b[1;33m(\u001b[0m\u001b[0mPhi_array\u001b[0m\u001b[1;33m,\u001b[0m\u001b[0mF_array\u001b[0m\u001b[1;33m)\u001b[0m\u001b[1;33m\u001b[0m\u001b[1;33m\u001b[0m\u001b[0m\n\u001b[0m",
      "\u001b[1;31mNameError\u001b[0m: name 'Phi_array' is not defined"
     ]
    }
   ],
   "source": [
    "compute_LC(Phi_array,F_array)"
   ]
  },
  {
   "cell_type": "code",
   "execution_count": 4,
   "metadata": {},
   "outputs": [],
   "source": [
    "from scipy.interpolate import interp1d\n",
    "from scipy.interpolate import UnivariateSpline\n",
    "from scipy import interpolate\n",
    "\n",
    "Phi_target = np.linspace(0, 1, num=11, endpoint=True)\n",
    "F_target = np.array([0, 0.55, 0.35, 0.55, 0.68, 0.75, 0.88, 0.9, 0.95, 0.99, 1])\n"
   ]
  },
  {
   "cell_type": "code",
   "execution_count": 111,
   "metadata": {},
   "outputs": [
    {
     "data": {
      "text/plain": [
       "[<matplotlib.lines.Line2D at 0x1e48c990588>]"
      ]
     },
     "execution_count": 111,
     "metadata": {},
     "output_type": "execute_result"
    },
    {
     "data": {
      "image/png": "[encoded data removed]",
      "text/plain": [
       "<Figure size 432x288 with 1 Axes>"
      ]
     },
     "metadata": {
      "needs_background": "light"
     },
     "output_type": "display_data"
    }
   ],
   "source": [
    "plt.plot(Phi_target,F_target)"
   ]
  },
  {
   "cell_type": "code",
   "execution_count": 112,
   "metadata": {},
   "outputs": [
    {
     "data": {
      "text/plain": [
       "0.41999999999999993"
      ]
     },
     "execution_count": 112,
     "metadata": {},
     "output_type": "execute_result"
    }
   ],
   "source": [
    "compute_LC(F_target,Phi_target)"
   ]
  },
  {
   "cell_type": "code",
   "execution_count": 113,
   "metadata": {},
   "outputs": [],
   "source": [
    "f = interp1d(Phi_target, F_target)\n",
    "f2 = interp1d(Phi_target, F_target, kind='cubic')\n",
    "spl = UnivariateSpline(Phi_target,F_target)\n",
    "spl.set_smoothing_factor(0)"
   ]
  },
  {
   "cell_type": "code",
   "execution_count": 114,
   "metadata": {},
   "outputs": [],
   "source": [
    "tck = interpolate.splrep(Phi_target,F_target, s = 0)\n",
    "s = interpolate.InterpolatedUnivariateSpline(Phi_target,F_target)"
   ]
  },
  {
   "cell_type": "code",
   "execution_count": 115,
   "metadata": {},
   "outputs": [],
   "source": [
    "Phi_interpolation = np.linspace(0,1,num = 140)\n",
    "F_interpolation = s(Phi_interpolation)\n",
    "# F_interpolation = interpolate.splev(Phi_interpolation,tck,der = 0)\n",
    "y_der = interpolate.splev(Phi_interpolation,tck,der = 2)"
   ]
  },
  {
   "cell_type": "code",
   "execution_count": 116,
   "metadata": {},
   "outputs": [
    {
     "data": {
      "text/plain": [
       "[<matplotlib.lines.Line2D at 0x1e48c9f3548>]"
      ]
     },
     "execution_count": 116,
     "metadata": {},
     "output_type": "execute_result"
    },
    {
     "data": {
      "image/png": "[encoded data removed]",
      "text/plain": [
       "<Figure size 432x288 with 1 Axes>"
      ]
     },
     "metadata": {
      "needs_background": "light"
     },
     "output_type": "display_data"
    }
   ],
   "source": [
    "plt.plot(Phi_interpolation,F_interpolation)"
   ]
  },
  {
   "cell_type": "code",
   "execution_count": 109,
   "metadata": {},
   "outputs": [
    {
     "name": "stdout",
     "output_type": "stream",
     "text": [
      "[0.         0.00719424 0.01438849 0.02158273 0.02877698 0.03597122\n",
      " 0.04316547 0.05035971 0.05755396 0.0647482  0.07194245 0.07913669\n",
      " 0.08633094 0.09352518 0.10071942 0.10791367 0.11510791 0.12230216\n",
      " 0.1294964  0.13669065 0.14388489 0.15107914 0.15827338 0.16546763\n",
      " 0.17266187 0.17985612 0.18705036 0.1942446  0.20143885 0.20863309\n",
      " 0.21582734 0.22302158 0.23021583 0.23741007 0.24460432 0.25179856\n",
      " 0.25899281 0.26618705 0.27338129 0.28057554 0.28776978 0.29496403\n",
      " 0.30215827 0.30935252 0.31654676 0.32374101 0.33093525 0.3381295\n",
      " 0.34532374 0.35251799 0.35971223 0.36690647 0.37410072 0.38129496\n",
      " 0.38848921 0.39568345 0.4028777  0.41007194 0.41726619 0.42446043\n",
      " 0.43165468 0.43884892 0.44604317 0.45323741 0.46043165 0.4676259\n",
      " 0.47482014 0.48201439 0.48920863 0.49640288 0.50359712 0.51079137\n",
      " 0.51798561 0.52517986 0.5323741  0.53956835 0.54676259 0.55395683\n",
      " 0.56115108 0.56834532 0.57553957 0.58273381 0.58992806 0.5971223\n",
      " 0.60431655 0.61151079 0.61870504 0.62589928 0.63309353 0.64028777\n",
      " 0.64748201 0.65467626 0.6618705  0.66906475 0.67625899 0.68345324\n",
      " 0.69064748 0.69784173 0.70503597 0.71223022 0.71942446 0.72661871\n",
      " 0.73381295 0.74100719 0.74820144 0.75539568 0.76258993 0.76978417\n",
      " 0.77697842 0.78417266 0.79136691 0.79856115 0.8057554  0.81294964\n",
      " 0.82014388 0.82733813 0.83453237 0.84172662 0.84892086 0.85611511\n",
      " 0.86330935 0.8705036  0.87769784 0.88489209 0.89208633 0.89928058\n",
      " 0.90647482 0.91366906 0.92086331 0.92805755 0.9352518  0.94244604\n",
      " 0.94964029 0.95683453 0.96402878 0.97122302 0.97841727 0.98561151\n",
      " 0.99280576 1.        ]\n"
     ]
    }
   ],
   "source": [
    "print(Phi_interpolation)"
   ]
  },
  {
   "cell_type": "markdown",
   "metadata": {},
   "source": [
    "### Feature Importance ABRM"
   ]
  },
  {
   "cell_type": "code",
   "execution_count": 5,
   "metadata": {},
   "outputs": [],
   "source": [
    "from sklearn.preprocessing import scale\n",
    "from sklearn import ensemble\n",
    "from sklearn import preprocessing\n",
    "from sklearn.utils import shuffle\n",
    "from sklearn.metrics import mean_squared_error\n",
    "from sklearn.neighbors import KNeighborsClassifier\n",
    "\n",
    "\n",
    "from matplotlib import pyplot"
   ]
  },
  {
   "cell_type": "code",
   "execution_count": 10,
   "metadata": {
    "scrolled": true
   },
   "outputs": [
    {
     "data": {
      "text/html": [
       "<div>\n",
       "<style scoped>\n",
       "    .dataframe tbody tr th:only-of-type {\n",
       "        vertical-align: middle;\n",
       "    }\n",
       "\n",
       "    .dataframe tbody tr th {\n",
       "        vertical-align: top;\n",
       "    }\n",
       "\n",
       "    .dataframe thead th {\n",
       "        text-align: right;\n",
       "    }\n",
       "</style>\n",
       "<table border=\"1\" class=\"dataframe\">\n",
       "  <thead>\n",
       "    <tr style=\"text-align: right;\">\n",
       "      <th></th>\n",
       "      <th>Region</th>\n",
       "      <th>Perm</th>\n",
       "      <th>misfit</th>\n",
       "      <th>particle_no</th>\n",
       "      <th>LC</th>\n",
       "      <th>iteration</th>\n",
       "    </tr>\n",
       "  </thead>\n",
       "  <tbody>\n",
       "    <tr>\n",
       "      <th>count</th>\n",
       "      <td>45.000000</td>\n",
       "      <td>45.000000</td>\n",
       "      <td>45.000000</td>\n",
       "      <td>45.000000</td>\n",
       "      <td>45.000000</td>\n",
       "      <td>45.000000</td>\n",
       "    </tr>\n",
       "    <tr>\n",
       "      <th>mean</th>\n",
       "      <td>104.711111</td>\n",
       "      <td>610.822222</td>\n",
       "      <td>0.437135</td>\n",
       "      <td>4.000000</td>\n",
       "      <td>0.232871</td>\n",
       "      <td>2.000000</td>\n",
       "    </tr>\n",
       "    <tr>\n",
       "      <th>std</th>\n",
       "      <td>54.659534</td>\n",
       "      <td>260.104724</td>\n",
       "      <td>0.176298</td>\n",
       "      <td>2.611165</td>\n",
       "      <td>0.251168</td>\n",
       "      <td>1.430194</td>\n",
       "    </tr>\n",
       "    <tr>\n",
       "      <th>min</th>\n",
       "      <td>8.000000</td>\n",
       "      <td>55.000000</td>\n",
       "      <td>0.081802</td>\n",
       "      <td>0.000000</td>\n",
       "      <td>0.021857</td>\n",
       "      <td>0.000000</td>\n",
       "    </tr>\n",
       "    <tr>\n",
       "      <th>25%</th>\n",
       "      <td>55.000000</td>\n",
       "      <td>455.000000</td>\n",
       "      <td>0.270114</td>\n",
       "      <td>2.000000</td>\n",
       "      <td>0.021857</td>\n",
       "      <td>1.000000</td>\n",
       "    </tr>\n",
       "    <tr>\n",
       "      <th>50%</th>\n",
       "      <td>106.000000</td>\n",
       "      <td>568.000000</td>\n",
       "      <td>0.588047</td>\n",
       "      <td>4.000000</td>\n",
       "      <td>0.021857</td>\n",
       "      <td>2.000000</td>\n",
       "    </tr>\n",
       "    <tr>\n",
       "      <th>75%</th>\n",
       "      <td>157.000000</td>\n",
       "      <td>909.000000</td>\n",
       "      <td>0.588047</td>\n",
       "      <td>6.000000</td>\n",
       "      <td>0.531254</td>\n",
       "      <td>3.000000</td>\n",
       "    </tr>\n",
       "    <tr>\n",
       "      <th>max</th>\n",
       "      <td>197.000000</td>\n",
       "      <td>975.000000</td>\n",
       "      <td>0.588047</td>\n",
       "      <td>8.000000</td>\n",
       "      <td>0.618773</td>\n",
       "      <td>4.000000</td>\n",
       "    </tr>\n",
       "  </tbody>\n",
       "</table>\n",
       "</div>"
      ],
      "text/plain": [
       "           Region        Perm     misfit  particle_no         LC  iteration\n",
       "count   45.000000   45.000000  45.000000    45.000000  45.000000  45.000000\n",
       "mean   104.711111  610.822222   0.437135     4.000000   0.232871   2.000000\n",
       "std     54.659534  260.104724   0.176298     2.611165   0.251168   1.430194\n",
       "min      8.000000   55.000000   0.081802     0.000000   0.021857   0.000000\n",
       "25%     55.000000  455.000000   0.270114     2.000000   0.021857   1.000000\n",
       "50%    106.000000  568.000000   0.588047     4.000000   0.021857   2.000000\n",
       "75%    157.000000  909.000000   0.588047     6.000000   0.531254   3.000000\n",
       "max    197.000000  975.000000   0.588047     8.000000   0.618773   4.000000"
      ]
     },
     "execution_count": 10,
     "metadata": {},
     "output_type": "execute_result"
    }
   ],
   "source": [
    "df = pd.read_csv('C:/AgentBased_RM/Output/2020_04_22_12_40/swarm_particle_values_converted_all_iter.csv') \n",
    "df.describe()\n"
   ]
  },
  {
   "cell_type": "code",
   "execution_count": 11,
   "metadata": {},
   "outputs": [],
   "source": [
    "trainDataSet_X = df.drop([\"misfit\", \"particle_no\",\"iteration\",\"LC\"],1)\n",
    "names = list(trainDataSet_X.columns) \n",
    "trainDataSet_Y = df.LC"
   ]
  },
  {
   "cell_type": "code",
   "execution_count": 12,
   "metadata": {},
   "outputs": [
    {
     "data": {
      "text/html": [
       "<div>\n",
       "<style scoped>\n",
       "    .dataframe tbody tr th:only-of-type {\n",
       "        vertical-align: middle;\n",
       "    }\n",
       "\n",
       "    .dataframe tbody tr th {\n",
       "        vertical-align: top;\n",
       "    }\n",
       "\n",
       "    .dataframe thead th {\n",
       "        text-align: right;\n",
       "    }\n",
       "</style>\n",
       "<table border=\"1\" class=\"dataframe\">\n",
       "  <thead>\n",
       "    <tr style=\"text-align: right;\">\n",
       "      <th></th>\n",
       "      <th>Region</th>\n",
       "      <th>Perm</th>\n",
       "    </tr>\n",
       "  </thead>\n",
       "  <tbody>\n",
       "    <tr>\n",
       "      <th>0</th>\n",
       "      <td>97.0</td>\n",
       "      <td>816.0</td>\n",
       "    </tr>\n",
       "    <tr>\n",
       "      <th>1</th>\n",
       "      <td>20.0</td>\n",
       "      <td>437.0</td>\n",
       "    </tr>\n",
       "    <tr>\n",
       "      <th>2</th>\n",
       "      <td>163.0</td>\n",
       "      <td>975.0</td>\n",
       "    </tr>\n",
       "    <tr>\n",
       "      <th>3</th>\n",
       "      <td>111.0</td>\n",
       "      <td>568.0</td>\n",
       "    </tr>\n",
       "    <tr>\n",
       "      <th>4</th>\n",
       "      <td>40.0</td>\n",
       "      <td>507.0</td>\n",
       "    </tr>\n",
       "  </tbody>\n",
       "</table>\n",
       "</div>"
      ],
      "text/plain": [
       "   Region   Perm\n",
       "0    97.0  816.0\n",
       "1    20.0  437.0\n",
       "2   163.0  975.0\n",
       "3   111.0  568.0\n",
       "4    40.0  507.0"
      ]
     },
     "metadata": {},
     "output_type": "display_data"
    },
    {
     "name": "stdout",
     "output_type": "stream",
     "text": [
      "(45, 2) (45,)\n"
     ]
    }
   ],
   "source": [
    "display(trainDataSet_X.head())\n",
    "print(trainDataSet_X.shape,trainDataSet_Y.shape)\n"
   ]
  },
  {
   "cell_type": "code",
   "execution_count": 13,
   "metadata": {},
   "outputs": [
    {
     "data": {
      "text/plain": [
       "41"
      ]
     },
     "execution_count": 13,
     "metadata": {},
     "output_type": "execute_result"
    }
   ],
   "source": [
    "np.argmax(trainDataSet_Y)"
   ]
  },
  {
   "cell_type": "code",
   "execution_count": 14,
   "metadata": {},
   "outputs": [
    {
     "data": {
      "text/html": [
       "<div>\n",
       "<style scoped>\n",
       "    .dataframe tbody tr th:only-of-type {\n",
       "        vertical-align: middle;\n",
       "    }\n",
       "\n",
       "    .dataframe tbody tr th {\n",
       "        vertical-align: top;\n",
       "    }\n",
       "\n",
       "    .dataframe thead th {\n",
       "        text-align: right;\n",
       "    }\n",
       "</style>\n",
       "<table border=\"1\" class=\"dataframe\">\n",
       "  <thead>\n",
       "    <tr style=\"text-align: right;\">\n",
       "      <th></th>\n",
       "      <th>Region</th>\n",
       "      <th>Perm</th>\n",
       "    </tr>\n",
       "  </thead>\n",
       "  <tbody>\n",
       "    <tr>\n",
       "      <th>0</th>\n",
       "      <td>97.0</td>\n",
       "      <td>816.0</td>\n",
       "    </tr>\n",
       "    <tr>\n",
       "      <th>1</th>\n",
       "      <td>20.0</td>\n",
       "      <td>437.0</td>\n",
       "    </tr>\n",
       "    <tr>\n",
       "      <th>2</th>\n",
       "      <td>163.0</td>\n",
       "      <td>975.0</td>\n",
       "    </tr>\n",
       "    <tr>\n",
       "      <th>3</th>\n",
       "      <td>111.0</td>\n",
       "      <td>568.0</td>\n",
       "    </tr>\n",
       "    <tr>\n",
       "      <th>4</th>\n",
       "      <td>40.0</td>\n",
       "      <td>507.0</td>\n",
       "    </tr>\n",
       "    <tr>\n",
       "      <th>5</th>\n",
       "      <td>197.0</td>\n",
       "      <td>334.0</td>\n",
       "    </tr>\n",
       "    <tr>\n",
       "      <th>6</th>\n",
       "      <td>27.0</td>\n",
       "      <td>55.0</td>\n",
       "    </tr>\n",
       "    <tr>\n",
       "      <th>7</th>\n",
       "      <td>177.0</td>\n",
       "      <td>911.0</td>\n",
       "    </tr>\n",
       "    <tr>\n",
       "      <th>8</th>\n",
       "      <td>126.0</td>\n",
       "      <td>124.0</td>\n",
       "    </tr>\n",
       "    <tr>\n",
       "      <th>9</th>\n",
       "      <td>106.0</td>\n",
       "      <td>909.0</td>\n",
       "    </tr>\n",
       "    <tr>\n",
       "      <th>10</th>\n",
       "      <td>59.0</td>\n",
       "      <td>553.0</td>\n",
       "    </tr>\n",
       "    <tr>\n",
       "      <th>11</th>\n",
       "      <td>163.0</td>\n",
       "      <td>975.0</td>\n",
       "    </tr>\n",
       "    <tr>\n",
       "      <th>12</th>\n",
       "      <td>130.0</td>\n",
       "      <td>568.0</td>\n",
       "    </tr>\n",
       "    <tr>\n",
       "      <th>13</th>\n",
       "      <td>48.0</td>\n",
       "      <td>620.0</td>\n",
       "    </tr>\n",
       "    <tr>\n",
       "      <th>14</th>\n",
       "      <td>8.0</td>\n",
       "      <td>389.0</td>\n",
       "    </tr>\n",
       "    <tr>\n",
       "      <th>15</th>\n",
       "      <td>55.0</td>\n",
       "      <td>255.0</td>\n",
       "    </tr>\n",
       "    <tr>\n",
       "      <th>16</th>\n",
       "      <td>177.0</td>\n",
       "      <td>911.0</td>\n",
       "    </tr>\n",
       "    <tr>\n",
       "      <th>17</th>\n",
       "      <td>157.0</td>\n",
       "      <td>201.0</td>\n",
       "    </tr>\n",
       "    <tr>\n",
       "      <th>18</th>\n",
       "      <td>106.0</td>\n",
       "      <td>909.0</td>\n",
       "    </tr>\n",
       "    <tr>\n",
       "      <th>19</th>\n",
       "      <td>59.0</td>\n",
       "      <td>553.0</td>\n",
       "    </tr>\n",
       "    <tr>\n",
       "      <th>20</th>\n",
       "      <td>163.0</td>\n",
       "      <td>975.0</td>\n",
       "    </tr>\n",
       "    <tr>\n",
       "      <th>21</th>\n",
       "      <td>130.0</td>\n",
       "      <td>568.0</td>\n",
       "    </tr>\n",
       "    <tr>\n",
       "      <th>22</th>\n",
       "      <td>48.0</td>\n",
       "      <td>620.0</td>\n",
       "    </tr>\n",
       "    <tr>\n",
       "      <th>23</th>\n",
       "      <td>36.0</td>\n",
       "      <td>446.0</td>\n",
       "    </tr>\n",
       "    <tr>\n",
       "      <th>24</th>\n",
       "      <td>55.0</td>\n",
       "      <td>455.0</td>\n",
       "    </tr>\n",
       "    <tr>\n",
       "      <th>25</th>\n",
       "      <td>177.0</td>\n",
       "      <td>911.0</td>\n",
       "    </tr>\n",
       "    <tr>\n",
       "      <th>26</th>\n",
       "      <td>157.0</td>\n",
       "      <td>224.0</td>\n",
       "    </tr>\n",
       "    <tr>\n",
       "      <th>27</th>\n",
       "      <td>106.0</td>\n",
       "      <td>909.0</td>\n",
       "    </tr>\n",
       "    <tr>\n",
       "      <th>28</th>\n",
       "      <td>59.0</td>\n",
       "      <td>553.0</td>\n",
       "    </tr>\n",
       "    <tr>\n",
       "      <th>29</th>\n",
       "      <td>163.0</td>\n",
       "      <td>975.0</td>\n",
       "    </tr>\n",
       "    <tr>\n",
       "      <th>30</th>\n",
       "      <td>130.0</td>\n",
       "      <td>568.0</td>\n",
       "    </tr>\n",
       "    <tr>\n",
       "      <th>31</th>\n",
       "      <td>48.0</td>\n",
       "      <td>620.0</td>\n",
       "    </tr>\n",
       "    <tr>\n",
       "      <th>32</th>\n",
       "      <td>61.0</td>\n",
       "      <td>498.0</td>\n",
       "    </tr>\n",
       "    <tr>\n",
       "      <th>33</th>\n",
       "      <td>55.0</td>\n",
       "      <td>501.0</td>\n",
       "    </tr>\n",
       "    <tr>\n",
       "      <th>34</th>\n",
       "      <td>177.0</td>\n",
       "      <td>911.0</td>\n",
       "    </tr>\n",
       "    <tr>\n",
       "      <th>35</th>\n",
       "      <td>157.0</td>\n",
       "      <td>224.0</td>\n",
       "    </tr>\n",
       "    <tr>\n",
       "      <th>36</th>\n",
       "      <td>106.0</td>\n",
       "      <td>909.0</td>\n",
       "    </tr>\n",
       "    <tr>\n",
       "      <th>37</th>\n",
       "      <td>59.0</td>\n",
       "      <td>553.0</td>\n",
       "    </tr>\n",
       "    <tr>\n",
       "      <th>38</th>\n",
       "      <td>163.0</td>\n",
       "      <td>975.0</td>\n",
       "    </tr>\n",
       "    <tr>\n",
       "      <th>39</th>\n",
       "      <td>130.0</td>\n",
       "      <td>568.0</td>\n",
       "    </tr>\n",
       "    <tr>\n",
       "      <th>40</th>\n",
       "      <td>48.0</td>\n",
       "      <td>620.0</td>\n",
       "    </tr>\n",
       "    <tr>\n",
       "      <th>41</th>\n",
       "      <td>69.0</td>\n",
       "      <td>498.0</td>\n",
       "    </tr>\n",
       "    <tr>\n",
       "      <th>42</th>\n",
       "      <td>55.0</td>\n",
       "      <td>501.0</td>\n",
       "    </tr>\n",
       "    <tr>\n",
       "      <th>43</th>\n",
       "      <td>177.0</td>\n",
       "      <td>911.0</td>\n",
       "    </tr>\n",
       "    <tr>\n",
       "      <th>44</th>\n",
       "      <td>157.0</td>\n",
       "      <td>424.0</td>\n",
       "    </tr>\n",
       "  </tbody>\n",
       "</table>\n",
       "</div>"
      ],
      "text/plain": [
       "    Region   Perm\n",
       "0     97.0  816.0\n",
       "1     20.0  437.0\n",
       "2    163.0  975.0\n",
       "3    111.0  568.0\n",
       "4     40.0  507.0\n",
       "5    197.0  334.0\n",
       "6     27.0   55.0\n",
       "7    177.0  911.0\n",
       "8    126.0  124.0\n",
       "9    106.0  909.0\n",
       "10    59.0  553.0\n",
       "11   163.0  975.0\n",
       "12   130.0  568.0\n",
       "13    48.0  620.0\n",
       "14     8.0  389.0\n",
       "15    55.0  255.0\n",
       "16   177.0  911.0\n",
       "17   157.0  201.0\n",
       "18   106.0  909.0\n",
       "19    59.0  553.0\n",
       "20   163.0  975.0\n",
       "21   130.0  568.0\n",
       "22    48.0  620.0\n",
       "23    36.0  446.0\n",
       "24    55.0  455.0\n",
       "25   177.0  911.0\n",
       "26   157.0  224.0\n",
       "27   106.0  909.0\n",
       "28    59.0  553.0\n",
       "29   163.0  975.0\n",
       "30   130.0  568.0\n",
       "31    48.0  620.0\n",
       "32    61.0  498.0\n",
       "33    55.0  501.0\n",
       "34   177.0  911.0\n",
       "35   157.0  224.0\n",
       "36   106.0  909.0\n",
       "37    59.0  553.0\n",
       "38   163.0  975.0\n",
       "39   130.0  568.0\n",
       "40    48.0  620.0\n",
       "41    69.0  498.0\n",
       "42    55.0  501.0\n",
       "43   177.0  911.0\n",
       "44   157.0  424.0"
      ]
     },
     "execution_count": 14,
     "metadata": {},
     "output_type": "execute_result"
    }
   ],
   "source": [
    "trainDataSet_X"
   ]
  },
  {
   "cell_type": "code",
   "execution_count": 15,
   "metadata": {},
   "outputs": [],
   "source": [
    "def Scaling(df, minmaxrange):\n",
    "    \n",
    "    #columns = df.columns[1:]\n",
    "\n",
    "    #transfrom df into numpy matrix for scaling\n",
    "    #Matrix = df.as_matrix(columns=columns)\n",
    "    \n",
    "    #scaling method to be used\n",
    "    min_max_scaler = preprocessing.MinMaxScaler(feature_range=(minmaxrange))\n",
    "    \n",
    "    #perform scaling\n",
    "    df_scaled = min_max_scaler.fit_transform(df)\n",
    "\n",
    "\n",
    "    #transform numpy matrix back into df\n",
    "    #df_scaled=pn.DataFrame(Matrix_scaled, columns=[columns]) \n",
    "    \n",
    "    return(df_scaled)"
   ]
  },
  {
   "cell_type": "code",
   "execution_count": 57,
   "metadata": {},
   "outputs": [],
   "source": [
    "trainDataSet_X_scaled = scale(trainDataSet_X)\n"
   ]
  },
  {
   "cell_type": "code",
   "execution_count": 59,
   "metadata": {},
   "outputs": [
    {
     "data": {
      "text/plain": [
       "array([[-0.14266944,  0.79774116],\n",
       "       [-1.56730808, -0.67582924],\n",
       "       [ 1.0784494 ,  1.41594088],\n",
       "       [ 0.11635577, -0.16649488],\n",
       "       [-1.19727207, -0.40366584],\n",
       "       [ 1.70751061, -1.07629824],\n",
       "       [-1.43779548, -2.16106378],\n",
       "       [ 1.3374746 ,  1.16710577],\n",
       "       [ 0.39388278, -1.89278843],\n",
       "       [ 0.02384677,  1.15932967],\n",
       "       [-0.84573786, -0.22481561],\n",
       "       [ 1.0784494 ,  1.41594088],\n",
       "       [ 0.46788998, -0.16649488],\n",
       "       [-1.04925767,  0.03568365],\n",
       "       [-1.78932969, -0.86245557],\n",
       "       [-0.91974506, -1.38345407],\n",
       "       [ 1.3374746 ,  1.16710577],\n",
       "       [ 0.96743859, -1.59340869],\n",
       "       [ 0.02384677,  1.15932967],\n",
       "       [-0.84573786, -0.22481561],\n",
       "       [ 1.0784494 ,  1.41594088],\n",
       "       [ 0.46788998, -0.16649488],\n",
       "       [-1.04925767,  0.03568365],\n",
       "       [-1.27127927, -0.6408368 ],\n",
       "       [-0.91974506, -0.60584436],\n",
       "       [ 1.3374746 ,  1.16710577],\n",
       "       [ 0.96743859, -1.50398358],\n",
       "       [ 0.02384677,  1.15932967],\n",
       "       [-0.84573786, -0.22481561],\n",
       "       [ 1.0784494 ,  1.41594088],\n",
       "       [ 0.46788998, -0.16649488],\n",
       "       [-1.04925767,  0.03568365],\n",
       "       [-0.80873426, -0.43865828],\n",
       "       [-0.91974506, -0.42699413],\n",
       "       [ 1.3374746 ,  1.16710577],\n",
       "       [ 0.96743859, -1.50398358],\n",
       "       [ 0.02384677,  1.15932967],\n",
       "       [-0.84573786, -0.22481561],\n",
       "       [ 1.0784494 ,  1.41594088],\n",
       "       [ 0.46788998, -0.16649488],\n",
       "       [-1.04925767,  0.03568365],\n",
       "       [-0.66071985, -0.43865828],\n",
       "       [-0.91974506, -0.42699413],\n",
       "       [ 1.3374746 ,  1.16710577],\n",
       "       [ 0.96743859, -0.72637387]])"
      ]
     },
     "execution_count": 59,
     "metadata": {},
     "output_type": "execute_result"
    }
   ],
   "source": []
  },
  {
   "cell_type": "code",
   "execution_count": 17,
   "metadata": {},
   "outputs": [],
   "source": [
    "X, y = shuffle(trainDataSet_X_scaled, trainDataSet_Y, random_state=13)\n",
    "X = X.astype(np.float32)\n",
    "offset = int(X.shape[0] * 0.9)\n",
    "X_train, y_train = X[:offset], y[:offset]\n",
    "X_test, y_test = X[offset:], y[offset:]"
   ]
  },
  {
   "cell_type": "markdown",
   "metadata": {},
   "source": [
    "### KNN"
   ]
  },
  {
   "cell_type": "code",
   "execution_count": 18,
   "metadata": {},
   "outputs": [],
   "source": [
    "#import required packages\n",
    "from sklearn import neighbors\n",
    "from sklearn.metrics import mean_squared_error \n",
    "from math import sqrt\n",
    "import matplotlib.pyplot as plt\n",
    "from sklearn.model_selection import GridSearchCV\n",
    "%matplotlib inline"
   ]
  },
  {
   "cell_type": "code",
   "execution_count": 19,
   "metadata": {},
   "outputs": [
    {
     "name": "stdout",
     "output_type": "stream",
     "text": [
      "RMSE value for k=  1 is: 0.0\n",
      "RMSE value for k=  2 is: 0.0\n",
      "RMSE value for k=  3 is: 0.0\n",
      "RMSE value for k=  4 is: 0.05706587915388802\n",
      "RMSE value for k=  5 is: 0.04581609704018446\n",
      "RMSE value for k=  6 is: 0.038144006578252274\n",
      "RMSE value for k=  7 is: 0.032570217129499\n",
      "RMSE value for k=  8 is: 0.02861376831608322\n",
      "RMSE value for k=  9 is: 0.025725542195286447\n",
      "RMSE value for k=  10 is: 0.023579402719242658\n",
      "RMSE value for k=  11 is: 0.04208581676164556\n",
      "RMSE value for k=  12 is: 0.038785176660711414\n",
      "RMSE value for k=  13 is: 0.03674498417076022\n",
      "RMSE value for k=  14 is: 0.035806564031790646\n",
      "RMSE value for k=  15 is: 0.037687305352747176\n",
      "RMSE value for k=  16 is: 0.046199204760025044\n",
      "RMSE value for k=  17 is: 0.056854338256475935\n",
      "RMSE value for k=  18 is: 0.06597359114239981\n",
      "RMSE value for k=  19 is: 0.08301100842581503\n",
      "RMSE value for k=  20 is: 0.10542708477196013\n"
     ]
    },
    {
     "data": {
      "text/plain": [
       "<matplotlib.axes._subplots.AxesSubplot at 0x1e48850db48>"
      ]
     },
     "execution_count": 19,
     "metadata": {},
     "output_type": "execute_result"
    },
    {
     "data": {
      "image/png": "[encoded data removed]",
      "text/plain": [
       "<Figure size 432x288 with 1 Axes>"
      ]
     },
     "metadata": {
      "needs_background": "light"
     },
     "output_type": "display_data"
    }
   ],
   "source": [
    "rmse_val = [] #to store rmse values for different k\n",
    "for K in range(20):\n",
    "    K = K+1\n",
    "    model = neighbors.KNeighborsRegressor(n_neighbors = K)\n",
    "\n",
    "    model.fit(X_train, y_train)  #fit the model\n",
    "    pred=model.predict(X_test) #make prediction on test set\n",
    "    error = sqrt(mean_squared_error(y_test,pred)) #calculate rmse\n",
    "    rmse_val.append(error) #store rmse values\n",
    "    print('RMSE value for k= ' , K , 'is:', error)\n",
    "curve = pd.DataFrame(rmse_val) #elbow curve \n",
    "curve.plot()"
   ]
  },
  {
   "cell_type": "code",
   "execution_count": 20,
   "metadata": {},
   "outputs": [
    {
     "data": {
      "text/plain": [
       "{'n_neighbors': 2}"
      ]
     },
     "execution_count": 20,
     "metadata": {},
     "output_type": "execute_result"
    }
   ],
   "source": [
    "params = {'n_neighbors':[2,3,4,5,6,7,8,9]}\n",
    "\n",
    "knn = neighbors.KNeighborsRegressor()\n",
    "\n",
    "model = GridSearchCV(knn, params, cv=5)\n",
    "model.fit(X_train,y_train)\n",
    "model.best_params_"
   ]
  },
  {
   "cell_type": "markdown",
   "metadata": {},
   "source": [
    "### XGBOOST"
   ]
  },
  {
   "cell_type": "code",
   "execution_count": 21,
   "metadata": {},
   "outputs": [
    {
     "name": "stdout",
     "output_type": "stream",
     "text": [
      "MSE: 0.0000\n"
     ]
    }
   ],
   "source": [
    "# Fit regression model\n",
    "params = {'n_estimators': 500, 'max_depth': 4, 'min_samples_split': 2,\n",
    "          'learning_rate': 0.01, 'loss': 'ls'}\n",
    "clf = ensemble.GradientBoostingRegressor(**params)\n",
    "\n",
    "clf.fit(X_train, y_train)\n",
    "mse = mean_squared_error(y_test, clf.predict(X_test))\n",
    "print(\"MSE: %.4f\" % mse)"
   ]
  },
  {
   "cell_type": "code",
   "execution_count": 44,
   "metadata": {
    "scrolled": true
   },
   "outputs": [
    {
     "data": {
      "text/plain": [
       "Text(0, 0.5, 'Deviance')"
      ]
     },
     "execution_count": 44,
     "metadata": {},
     "output_type": "execute_result"
    },
    {
     "data": {
      "image/png": "[encoded data removed]",
      "text/plain": [
       "<Figure size 864x432 with 1 Axes>"
      ]
     },
     "metadata": {
      "needs_background": "light"
     },
     "output_type": "display_data"
    }
   ],
   "source": [
    "# Plot training deviance\n",
    "\n",
    "# compute test set deviance\n",
    "test_score = np.zeros((params['n_estimators'],), dtype=np.float64)\n",
    "\n",
    "for i, y_pred in enumerate(clf.staged_predict(X_test)):\n",
    "    test_score[i] = clf.loss_(y_test, y_pred)\n",
    "\n",
    "plt.figure(figsize=(12, 6))\n",
    "plt.subplot(1, 2, 1)\n",
    "plt.title('Deviance')\n",
    "plt.plot(np.arange(params['n_estimators']) + 1, clf.train_score_, 'b-',\n",
    "         label='Training Set Deviance')\n",
    "plt.plot(np.arange(params['n_estimators']) + 1, test_score, 'r-',\n",
    "         label='Test Set Deviance')\n",
    "plt.legend(loc='upper right')\n",
    "plt.xlabel('Boosting Iterations')\n",
    "plt.ylabel('Deviance')"
   ]
  },
  {
   "cell_type": "code",
   "execution_count": 22,
   "metadata": {},
   "outputs": [
    {
     "data": {
      "image/png": "[encoded data removed]",
      "text/plain": [
       "<Figure size 720x1440 with 1 Axes>"
      ]
     },
     "metadata": {
      "needs_background": "light"
     },
     "output_type": "display_data"
    }
   ],
   "source": [
    "# Plot feature importance\n",
    "feature_importance = clf.feature_importances_\n",
    "# make importances relative to max importance\n",
    "# feature_importance = 100.0 * (feature_importance / feature_importance.max())\n",
    "sorted_idx = np.argsort(feature_importance)\n",
    "pos = np.arange(sorted_idx.shape[0]) + .5\n",
    "plt.subplots(figsize= (10,20))\n",
    "\n",
    "plt.subplot(1, 2, 2)\n",
    "plt.barh(pos, feature_importance[sorted_idx], align='center')\n",
    "plt.yticks(pos, trainDataSet_X.columns[sorted_idx])\n",
    "plt.xlabel('Relative Importance')\n",
    "plt.title('Variable Importance')\n",
    "plt.show()"
   ]
  },
  {
   "cell_type": "code",
   "execution_count": 23,
   "metadata": {},
   "outputs": [
    {
     "data": {
      "text/plain": [
       "[<matplotlib.lines.Line2D at 0x1e48860cc48>]"
      ]
     },
     "execution_count": 23,
     "metadata": {},
     "output_type": "execute_result"
    },
    {
     "data": {
      "image/png": "[encoded data removed]",
      "text/plain": [
       "<Figure size 432x288 with 1 Axes>"
      ]
     },
     "metadata": {
      "needs_background": "light"
     },
     "output_type": "display_data"
    }
   ],
   "source": [
    "plt.plot(df.LC)"
   ]
  },
  {
   "cell_type": "code",
   "execution_count": 6,
   "metadata": {},
   "outputs": [],
   "source": [
    "import numpy as np\n",
    "import matplotlib.pyplot as plt\n",
    "\n",
    "from sklearn import ensemble\n",
    "from sklearn import datasets\n",
    "from sklearn.utils import shuffle\n",
    "from sklearn.metrics import mean_squared_error"
   ]
  },
  {
   "cell_type": "markdown",
   "metadata": {},
   "source": [
    "### Example xgboost"
   ]
  },
  {
   "cell_type": "code",
   "execution_count": 191,
   "metadata": {},
   "outputs": [],
   "source": [
    "# Load data\n",
    "boston = datasets.load_boston()\n",
    "X, y = shuffle(boston.data, boston.target, random_state=13)\n",
    "X = X.astype(np.float32)\n",
    "offset = int(X.shape[0] * 0.9)\n",
    "X_train, y_train = X[:offset], y[:offset]\n",
    "X_test, y_test = X[offset:], y[offset:]"
   ]
  },
  {
   "cell_type": "code",
   "execution_count": 194,
   "metadata": {},
   "outputs": [
    {
     "name": "stdout",
     "output_type": "stream",
     "text": [
      "MSE: 6.6555\n"
     ]
    }
   ],
   "source": [
    "# Fit regression model\n",
    "params = {'n_estimators': 500, 'max_depth': 4, 'min_samples_split': 2,\n",
    "          'learning_rate': 0.01, 'loss': 'ls'}\n",
    "clf = ensemble.GradientBoostingRegressor(**params)\n",
    "\n",
    "clf.fit(X_train, y_train)\n",
    "mse = mean_squared_error(y_test, clf.predict(X_test))\n",
    "print(\"MSE: %.4f\" % mse)\n"
   ]
  },
  {
   "cell_type": "code",
   "execution_count": 195,
   "metadata": {},
   "outputs": [
    {
     "data": {
      "text/plain": [
       "Text(0, 0.5, 'Deviance')"
      ]
     },
     "execution_count": 195,
     "metadata": {},
     "output_type": "execute_result"
    },
    {
     "data": {
      "image/png": "[encoded data removed]",
      "text/plain": [
       "<Figure size 864x432 with 1 Axes>"
      ]
     },
     "metadata": {
      "needs_background": "light"
     },
     "output_type": "display_data"
    }
   ],
   "source": [
    "# Plot training deviance\n",
    "\n",
    "# compute test set deviance\n",
    "test_score = np.zeros((params['n_estimators'],), dtype=np.float64)\n",
    "\n",
    "for i, y_pred in enumerate(clf.staged_predict(X_test)):\n",
    "    test_score[i] = clf.loss_(y_test, y_pred)\n",
    "\n",
    "plt.figure(figsize=(12, 6))\n",
    "plt.subplot(1, 2, 1)\n",
    "plt.title('Deviance')\n",
    "plt.plot(np.arange(params['n_estimators']) + 1, clf.train_score_, 'b-',\n",
    "         label='Training Set Deviance')\n",
    "plt.plot(np.arange(params['n_estimators']) + 1, test_score, 'r-',\n",
    "         label='Test Set Deviance')\n",
    "plt.legend(loc='upper right')\n",
    "plt.xlabel('Boosting Iterations')\n",
    "plt.ylabel('Deviance')"
   ]
  },
  {
   "cell_type": "code",
   "execution_count": 196,
   "metadata": {},
   "outputs": [
    {
     "data": {
      "image/png": "[encoded data removed]",
      "text/plain": [
       "<Figure size 432x288 with 1 Axes>"
      ]
     },
     "metadata": {
      "needs_background": "light"
     },
     "output_type": "display_data"
    }
   ],
   "source": [
    "# Plot feature importance\n",
    "feature_importance = clf.feature_importances_\n",
    "# make importances relative to max importance\n",
    "feature_importance = 100.0 * (feature_importance / feature_importance.max())\n",
    "sorted_idx = np.argsort(feature_importance)\n",
    "pos = np.arange(sorted_idx.shape[0]) + .5\n",
    "plt.subplot(1, 2, 2)\n",
    "plt.barh(pos, feature_importance[sorted_idx], align='center')\n",
    "plt.yticks(pos, boston.feature_names[sorted_idx])\n",
    "plt.xlabel('Relative Importance')\n",
    "plt.title('Variable Importance')\n",
    "plt.show()"
   ]
  },
  {
   "cell_type": "code",
   "execution_count": 604,
   "metadata": {},
   "outputs": [],
   "source": [
    "def save_variables_to_file(setup):\n",
    "    # with help of GUI generate file that contains all the variables that I want to use in my swarm function. save them and them load them into the swarm\n",
    "    # save these settings to my folder so that I can recreate things within each subfunction\n",
    "    # aslo set up entire folder structure and check if folders already exist to prevent overwriting\n",
    "\n",
    "    output_path = \"C:/AgentBased_RM/Output/\"\n",
    "\n",
    "    #folder name will be current date and time\n",
    "    output_folder = str(datetime.datetime.today().replace(microsecond= 0, second = 0).strftime(\"%Y_%m_%d_%H_%M\"))\n",
    "    output_file_variables = \"/variable_settings_saved.pickle\"\n",
    "    folder_path = output_path + output_folder\n",
    "    file_path = folder_path + output_file_variables\n",
    "\n",
    "    setup[\"date\"] = output_folder\n",
    "    setup[\"path\"] = file_path\n",
    "\n",
    "    if not os.path.exists(folder_path):\n",
    "        os.makedirs(folder_path)\n",
    "        file_path = folder_path + output_file_variables\n",
    "        with open(file_path,'wb') as f:\n",
    "            # pickle.dump([varminmax,columns,LC_goal,set_seed,n_modelsperbatch,runworkflow,n_iters,n_particles,F_points_target,Phi_points_target,folder_path,petrel_on],f)\n",
    "            pickle.dump(setup,f)\n",
    "    \n",
    "    \n",
    "    # also save to another file so that will always get overwritten where the filepath stays the same\n",
    "    file_path_constant = \"C:/AgentBased_RM/Output/variable_settings_test.pickle\"\n",
    "    with open(file_path_constant,'wb') as f:\n",
    "        # pickle.dump([varminmax,columns,LC_goal,set_seed,n_modelsperbatch,runworkflow,n_iters,n_particles,F_points_target,Phi_points_target,folder_path,petrel_on],f)\n",
    "        pickle.dump(setup,f)"
   ]
  },
  {
   "cell_type": "code",
   "execution_count": 605,
   "metadata": {},
   "outputs": [
    {
     "ename": "SyntaxError",
     "evalue": "Missing parentheses in call to 'print'. Did you mean print(a == b)? (<ipython-input-605-c26d631b84b6>, line 11)",
     "output_type": "error",
     "traceback": [
      "\u001b[1;36m  File \u001b[1;32m\"<ipython-input-605-c26d631b84b6>\"\u001b[1;36m, line \u001b[1;32m11\u001b[0m\n\u001b[1;33m    print a == b\u001b[0m\n\u001b[1;37m          ^\u001b[0m\n\u001b[1;31mSyntaxError\u001b[0m\u001b[1;31m:\u001b[0m Missing parentheses in call to 'print'. Did you mean print(a == b)?\n"
     ]
    }
   ],
   "source": [
    "import pickle\n",
    "\n",
    "a = {'hello': 'world'}\n",
    "\n",
    "with open('filename.pickle', 'wb') as handle:\n",
    "    pickle.dump(a, handle, protocol=pickle.HIGHEST_PROTOCOL)\n",
    "\n",
    "with open('filename.pickle', 'rb') as handle:\n",
    "    b = pickle.load(handle)\n",
    "\n",
    "print a == b"
   ]
  },
  {
   "cell_type": "code",
   "execution_count": 606,
   "metadata": {},
   "outputs": [],
   "source": [
    "\n",
    "# if I want to set a varaible constant, just make the range = 0 e.g. varmin=varmax\n",
    "varminmax = np.array([[1,4],[1,200],[1,200],[1,100],[1,100],[1,7],[1,7],\n",
    "                      [1,4],[1,200],[1,200],[1,100],[1,100],[1,7],[1,7],\n",
    "                      [1,4],[1,200],[1,200],[1,100],[1,100],[1,7],[1,7],\n",
    "                      [0,1],[0,1],[0,1],[350,350],[5,5],[350,350],\n",
    "                      [5,5],[5,5],[5,5]])\n",
    "#varminmax = np.array([0,1000])\n",
    "\n",
    "# var names\n",
    "columns = [\"TI1\",\"F1_I_MIN\",\"F1_I_MAX\",\"F1_J_MIN\",\"F1_J_MAX\",\"F1_K_MIN\",\"F1_K_MAX\",\n",
    "           \"TI2\",\"F2_I_MIN\",\"F2_I_MAX\",\"F2_J_MIN\",\"F2_J_MAX\",\"F2_K_MIN\",\"F2_K_MAX\",\n",
    "           \"TI3\",\"F3_I_MIN\",\"F3_I_MAX\",\"F3_J_MIN\",\"F3_J_MAX\",\"F3_K_MIN\",\"F3_K_MAX\",\n",
    "           \"F1_Curve_Prob\",\"F2_Curve_Prob\",\"F3_Curve_Prob\",\"FracpermX\",\"MatrixpermX\",\n",
    "           \"FracpermY\",\"MatrixpermY\",\"FracpermZ\",\"MatrixpermZ\"]\n",
    "\n",
    "# misfit values\n",
    "# create curve and save resultign desired LC\n",
    "LC_goal = 0.33 # redundant\n",
    "Phi_points_target = np.linspace(0, 1, num=11, endpoint=True)\n",
    "F_points_target = np.array([0, 0.25, 0.45, 0.55, 0.7, 0.8, 0.88, 0.9, 0.95, 0.99, 1])\n",
    "\n",
    "# seed\n",
    "set_seed = 52502\n",
    "# models per petrel workflow (limited to 3 atm)\n",
    "n_modelsperbatch = 3   \n",
    "# which workflow to run in petrel (atm onlz 1 wf)\n",
    "runworkflow = \"WF_2020_04_16\"#\"WF_2019_09_16\"\n",
    "# run with petrel or without for test\n",
    "n_iters = 15\n",
    "n_particles = 120\n",
    "petrel_on = True\n",
    "setup = dict(varminmax = varminmax, columns = columns, LC_goal = LC_goal, set_seed = set_seed,\n",
    "             n_modelsperbatch = n_modelsperbatch, runworkflow = runworkflow, n_iters = n_iters,\n",
    "             n_particles = n_particles,  Phi_points_target = Phi_points_target,F_points_target =F_points_target,\n",
    "             petrel_on = petrel_on )"
   ]
  },
  {
   "cell_type": "code",
   "execution_count": 607,
   "metadata": {},
   "outputs": [],
   "source": [
    "save_variables_to_file(setup)\n"
   ]
  },
  {
   "cell_type": "code",
   "execution_count": 608,
   "metadata": {},
   "outputs": [],
   "source": [
    "# loading in settings that I set up on init_ABRM.py for this run\n",
    "pickle_file = \"C:/AgentBased_RM/Output/variable_settings_test.pickle\"\n",
    "with open(pickle_file, \"rb\") as f:\n",
    "    setup_loaded = pickle.load(f)    \n"
   ]
  },
  {
   "cell_type": "code",
   "execution_count": 602,
   "metadata": {},
   "outputs": [
    {
     "name": "stdout",
     "output_type": "stream",
     "text": [
      "True\n"
     ]
    }
   ],
   "source": [
    "\n",
    "import pickle\n",
    "\n",
    "your_data = {'foo': 'bar'}\n",
    "\n",
    "# Store data (serialize)\n",
    "with open('filename.pickle', 'wb') as handle:\n",
    "#     pickle.dump(setup, handle, protocol=pickle.HIGHEST_PROTOCOL)\n",
    "    pickle.dump(setup, handle)\n",
    "\n",
    "# Load data (deserialize)\n",
    "with open('filename.pickle', 'rb') as handle:\n",
    "    setup_pickle = pickle.load(handle)\n",
    "\n",
    "print(your_data == unserialized_data)"
   ]
  },
  {
   "cell_type": "code",
   "execution_count": 669,
   "metadata": {},
   "outputs": [],
   "source": [
    "def convert_particle_values(x):\n",
    "\n",
    "    # loading in settings that I set up on init_ABRM.py for this run\n",
    "    pickle_file = \"C:/AgentBased_RM/Output/variable_settings.pickle\"\n",
    "    with open(pickle_file, \"rb\") as f:\n",
    "        setup = pickle.load(f)\n",
    "\n",
    "    varminmax = setup[\"varminmax\"]\n",
    "    n_particles = setup[\"n_particles\"]\n",
    "    print(\"x-input\")\n",
    "    print(x)\n",
    "    ### 1 ###\n",
    "    # turn discrete hyperparameters from continuous back into discrete hyperparameters. Therefore have to set up the boundaries for each parameter\n",
    "        #                       type          range    position\n",
    "    # windowsize:           discrete     3 - 21    x[0]\n",
    "\n",
    "    converted_vals_range = varminmax\n",
    "    # transpose particle values to make value conversion easier\n",
    "    x_t = x.T\n",
    "\n",
    "    # empty matrix to be filled in with the true converted values required for model building\n",
    "    converted_vals = np.zeros(x_t.shape)\n",
    "\n",
    "\n",
    "    # fill in correct values\n",
    "    for index, value in enumerate(x_t,0):\n",
    "        # continous values\n",
    "        if converted_vals_range[index,1] == 1:\n",
    "            converted_vals[index] = np.around((value * (converted_vals_range[index,1] - converted_vals_range[index,0]) + converted_vals_range[index,0]),decimals= 3)\n",
    "        # discrete values\n",
    "        else: \n",
    "#             converted_vals[index] = np.ceil((value * (converted_vals_range[index,1] - converted_vals_range[index,0]) + converted_vals_range[index,0]))\n",
    "            converted_vals[index] = np.around((value * (converted_vals_range[index,1] - converted_vals_range[index,0]) + converted_vals_range[index,0]))\n",
    "\n",
    "    # transpose back to initial setup\n",
    "    converted_particle_values = np.array(converted_vals.T)\n",
    "#     for i in range(n_particles):\n",
    "    # swap around values for zonation if F_min is larger than F_max. otehrwise will not do anything.\n",
    "#         if converted_particle_values[i,1] > converted_particle_values[i,2]:\n",
    "#             converted_particle_values[i,1],converted_particle_values[i,2] = converted_particle_values[i,2],converted_particle_values[i,1] \n",
    "#         if converted_particle_values[i,3] > converted_particle_values[i,4]:\n",
    "#             converted_particle_values[i,3],converted_particle_values[i,4] = converted_particle_values[i,4],converted_particle_values[i,3]\n",
    "#         if converted_particle_values[i,5] > converted_particle_values[i,6]:\n",
    "#             converted_particle_values[i,5],converted_particle_values[i,6] = converted_particle_values[i,6],converted_particle_values[i,5]\n",
    "#         if converted_particle_values[i,8] > converted_particle_values[i,9]:\n",
    "#             converted_particle_values[i,8],converted_particle_values[i,9] = converted_particle_values[i,9],converted_particle_values[i,8]\n",
    "#         if converted_particle_values[i,10] > converted_particle_values[i,11]:\n",
    "#             converted_particle_values[i,10],converted_particle_values[i,11] = converted_particle_values[i,11],converted_particle_values[i,10]\n",
    "#         if converted_particle_values[i,12] > converted_particle_values[i,13]:\n",
    "#             converted_particle_values[i,12],converted_particle_values[i,13] = converted_particle_values[i,13],converted_particle_values[i,12]\n",
    "#         if converted_particle_values[i,15] > converted_particle_values[i,16]:\n",
    "#             converted_particle_values[i,15],converted_particle_values[i,16] = converted_particle_values[i,16],converted_particle_values[i,15]\n",
    "#         if converted_particle_values[i,17] > converted_particle_values[i,18]:\n",
    "#             converted_particle_values[i,17],converted_particle_values[i,18] = converted_particle_values[i,18],converted_particle_values[i,17]\n",
    "#         if converted_particle_values[i,19] > converted_particle_values[i,20]:\n",
    "#             converted_particle_values[i,19],converted_particle_values[i,20] = converted_particle_values[i,20],converted_particle_values[i,19]\n",
    "\n",
    "    return converted_particle_values"
   ]
  },
  {
   "cell_type": "code",
   "execution_count": 684,
   "metadata": {},
   "outputs": [
    {
     "name": "stdout",
     "output_type": "stream",
     "text": [
      "x-input\n",
      "[0.60549293 0.24919211 0.86595712 0.71007099 0.5788739  0.10778398\n",
      " 0.79986243 0.1220111  0.70569606 0.74970731 0.69965685 0.85100028\n",
      " 0.3428948  0.65538188 0.43055496 0.04783352 0.4473922  0.92968628\n",
      " 0.68614012 0.13269315 0.87188232 0.79349965 0.76141498 0.42806271\n",
      " 0.14752758 0.3374609  0.51595599 0.69716277 0.20864597 0.40827688]\n"
     ]
    },
    {
     "data": {
      "text/plain": [
       "array([  3.   ,  51.   , 173.   ,  71.   ,  58.   ,   2.   ,   6.   ,\n",
       "         1.   , 141.   , 150.   ,  70.   ,  85.   ,   3.   ,   5.   ,\n",
       "         2.   ,  11.   ,  90.   ,  93.   ,  69.   ,   2.   ,   6.   ,\n",
       "         0.793,   0.761,   0.428, 350.   ,   5.   , 350.   ,   5.   ,\n",
       "         5.   ,   5.   ])"
      ]
     },
     "execution_count": 684,
     "metadata": {},
     "output_type": "execute_result"
    }
   ],
   "source": [
    "convert_particle_values(np.random.uniform(0,1,30))"
   ]
  },
  {
   "cell_type": "code",
   "execution_count": 7,
   "metadata": {},
   "outputs": [
    {
     "name": "stderr",
     "output_type": "stream",
     "text": [
      "2020-06-30 10:22:45,231 - pyswarms.single.local_best - INFO - Optimize for 100 iters with {'c1': 0.5, 'c2': 0.3, 'w': 0.9, 'k': 3, 'p': 2}\n",
      "pyswarms.single.local_best: 100%|███████████████████████████████████████████████████████████|100/100, best_cost=1.33e-7\n",
      "2020-06-30 10:22:45,330 - pyswarms.single.local_best - INFO - Optimization finished | best cost: 1.327722921656687e-07, best pos: [-1.59934941e-05  3.64028159e-04]\n"
     ]
    }
   ],
   "source": [
    "import pyswarms as ps\n",
    "from pyswarms.utils.functions import single_obj as fx\n",
    "\n",
    "# Set-up hyperparameters\n",
    "options = {'c1': 0.5, 'c2': 0.3, 'w': 0.9, 'k': 3, 'p': 2}\n",
    "\n",
    "# Call instance of LBestPSO with a neighbour-size of 3 determined by\n",
    "# the L2 (p=2) distance.\n",
    "optimizer = ps.single.LocalBestPSO(n_particles=10, dimensions=2,\n",
    "                                   options=options)\n",
    "\n",
    "# Perform optimization\n",
    "stats = optimizer.optimize(fx.sphere, iters=100)"
   ]
  },
  {
   "cell_type": "code",
   "execution_count": 8,
   "metadata": {},
   "outputs": [
    {
     "ename": "NameError",
     "evalue": "name 'df' is not defined",
     "output_type": "error",
     "traceback": [
      "\u001b[1;31m---------------------------------------------------------------------------\u001b[0m",
      "\u001b[1;31mNameError\u001b[0m                                 Traceback (most recent call last)",
      "\u001b[1;32m<ipython-input-8-e2a0e68695f3>\u001b[0m in \u001b[0;36m<module>\u001b[1;34m\u001b[0m\n\u001b[1;32m----> 1\u001b[1;33m \u001b[0mplt\u001b[0m\u001b[1;33m.\u001b[0m\u001b[0mscatter\u001b[0m\u001b[1;33m(\u001b[0m\u001b[0mdf\u001b[0m\u001b[1;33m.\u001b[0m\u001b[0mRegion\u001b[0m\u001b[1;33m,\u001b[0m\u001b[0mdf\u001b[0m\u001b[1;33m.\u001b[0m\u001b[0mPerm\u001b[0m\u001b[1;33m,\u001b[0m\u001b[0mc\u001b[0m \u001b[1;33m=\u001b[0m \u001b[0mdf\u001b[0m\u001b[1;33m.\u001b[0m\u001b[0mparticle_no\u001b[0m\u001b[1;33m)\u001b[0m\u001b[1;33m\u001b[0m\u001b[1;33m\u001b[0m\u001b[0m\n\u001b[0m",
      "\u001b[1;31mNameError\u001b[0m: name 'df' is not defined"
     ]
    }
   ],
   "source": [
    "plt.scatter(df.Region,df.Perm,c = df.particle_no)"
   ]
  },
  {
   "cell_type": "code",
   "execution_count": 91,
   "metadata": {},
   "outputs": [],
   "source": [
    "test = [\"TI_MIN\",\"peret\"]"
   ]
  },
  {
   "cell_type": "code",
   "execution_count": 92,
   "metadata": {},
   "outputs": [],
   "source": [
    "f = re.search(\"2\",test[0], re.IGNORECASE)"
   ]
  },
  {
   "cell_type": "code",
   "execution_count": 93,
   "metadata": {
    "scrolled": true
   },
   "outputs": [
    {
     "ename": "AttributeError",
     "evalue": "'NoneType' object has no attribute 'group'",
     "output_type": "error",
     "traceback": [
      "\u001b[1;31m---------------------------------------------------------------------------\u001b[0m",
      "\u001b[1;31mAttributeError\u001b[0m                            Traceback (most recent call last)",
      "\u001b[1;32m<ipython-input-93-d908242b60e4>\u001b[0m in \u001b[0;36m<module>\u001b[1;34m\u001b[0m\n\u001b[1;32m----> 1\u001b[1;33m \u001b[0mf\u001b[0m\u001b[1;33m.\u001b[0m\u001b[0mgroup\u001b[0m\u001b[1;33m(\u001b[0m\u001b[1;36m0\u001b[0m\u001b[1;33m)\u001b[0m\u001b[1;33m\u001b[0m\u001b[1;33m\u001b[0m\u001b[0m\n\u001b[0m",
      "\u001b[1;31mAttributeError\u001b[0m: 'NoneType' object has no attribute 'group'"
     ]
    }
   ],
   "source": [
    "f.group(0)\n",
    "if match:\n",
    "  print 'found', match.group() ## 'found word:cat'\n",
    "else:\n",
    "  print 'did not find'\n",
    "# if I find a match for min look for the same "
   ]
  },
  {
   "cell_type": "code",
   "execution_count": 71,
   "metadata": {},
   "outputs": [],
   "source": [
    "import matlab.engine\n",
    "import numpy as np\n",
    "import pandas as pd\n",
    "import matplotlib.pyplot as plt\n",
    "import matplotlib as mpl\n",
    "from mpl_toolkits.mplot3d import Axes3D\n",
    "import ABRM_functions\n",
    "import time\n",
    "import math\n",
    "import plotly.graph_objects as go\n",
    "import numpy as np\n",
    "import plotly.io as pio\n",
    "import ABRM_functions\n",
    "import pyvista as pv\n",
    "from pyentrp import entropy as ent\n",
    "pio.renderers.default = \"notebook\"\n",
    "from itkwidgets import view"
   ]
  },
  {
   "cell_type": "code",
   "execution_count": 51,
   "metadata": {},
   "outputs": [
    {
     "name": "stdout",
     "output_type": "stream",
     "text": [
      "sucessfully ran FD.\n"
     ]
    }
   ],
   "source": [
    "x = 11\n",
    "eng = matlab.engine.start_matlab()\n",
    "\n",
    "# run matlab and mrst\n",
    "eng.matlab_starter(nargout = 0)\n",
    "# print('sucessfully launched MRST.')\n",
    "\n",
    "# run FD and output dictionary\n",
    "FD_performance = eng.FD_BS_one_file(x)\n",
    "print('sucessfully ran FD.')\n",
    "\n",
    "\n"
   ]
  },
  {
   "cell_type": "code",
   "execution_count": 52,
   "metadata": {},
   "outputs": [],
   "source": [
    "FD_data = np.array(FD_performance._data).reshape((6,len(FD_performance)//6))"
   ]
  },
  {
   "cell_type": "code",
   "execution_count": 53,
   "metadata": {},
   "outputs": [],
   "source": [
    "df_performance = pd.DataFrame()\n"
   ]
  },
  {
   "cell_type": "code",
   "execution_count": 54,
   "metadata": {},
   "outputs": [],
   "source": [
    "df_performance[\"EV\"] = FD_data[0]\n",
    "df_performance[\"tD\"] = FD_data[1]\n",
    "df_performance[\"F\"] = FD_data[2]\n",
    "df_performance[\"Phi\"] = FD_data[3]\n",
    "df_performance[\"LC\"] = FD_data[4]\n",
    "df_performance[\"tof\"] = FD_data[5]"
   ]
  },
  {
   "cell_type": "code",
   "execution_count": 55,
   "metadata": {},
   "outputs": [
    {
     "data": {
      "text/plain": [
       "<matplotlib.axes._subplots.AxesSubplot at 0x20ab5580488>"
      ]
     },
     "execution_count": 55,
     "metadata": {},
     "output_type": "execute_result"
    },
    {
     "data": {
      "image/png": "[encoded data removed]",
      "text/plain": [
       "<Figure size 432x288 with 1 Axes>"
      ]
     },
     "metadata": {
      "needs_background": "light"
     },
     "output_type": "display_data"
    }
   ],
   "source": [
    "df_performance.tof.plot()"
   ]
  },
  {
   "cell_type": "code",
   "execution_count": 56,
   "metadata": {},
   "outputs": [],
   "source": [
    "tof = df_performance.tof.to_numpy()"
   ]
  },
  {
   "cell_type": "code",
   "execution_count": 57,
   "metadata": {},
   "outputs": [],
   "source": [
    "tof_log_10 = np.log10(tof)\n",
    "tof_3d = tof_log_10.reshape((200,100,7))"
   ]
  },
  {
   "cell_type": "code",
   "execution_count": 58,
   "metadata": {},
   "outputs": [
    {
     "data": {
      "text/plain": [
       "[<matplotlib.lines.Line2D at 0x20ab4c3c688>]"
      ]
     },
     "execution_count": 58,
     "metadata": {},
     "output_type": "execute_result"
    },
    {
     "data": {
      "image/png": "[encoded data removed]",
      "text/plain": [
       "<Figure size 432x288 with 1 Axes>"
      ]
     },
     "metadata": {
      "needs_background": "light"
     },
     "output_type": "display_data"
    }
   ],
   "source": [
    "plt.plot(np.log10(tof),\".\")"
   ]
  },
  {
   "cell_type": "code",
   "execution_count": 59,
   "metadata": {},
   "outputs": [],
   "source": [
    "x = np.array([[1],[2],[3],[4]])\n",
    "test = np.repeat(x, 16)\n",
    "test_3d = test.reshape((4,4,4))"
   ]
  },
  {
   "cell_type": "code",
   "execution_count": 60,
   "metadata": {},
   "outputs": [
    {
     "data": {
      "image/png": "[encoded data removed]",
      "text/plain": [
       "<PIL.Image.Image image mode=RGB size=1024x768 at 0x20AB4CC2408>"
      ]
     },
     "metadata": {},
     "output_type": "display_data"
    }
   ],
   "source": [
    "# values = np.linspace(0, 10, 1000).reshape((20, 5, 10))\n",
    "values =tof_3d#upscaled#upscaled # tof_3d\n",
    "values.shape\n",
    "\n",
    "# Create the spatial reference\n",
    "grid = pv.UniformGrid()\n",
    "\n",
    "# Set the grid dimensions: shape + 1 because we want to inject our values on\n",
    "#   the CELL data\n",
    "grid.dimensions = np.array(values.shape) + 1\n",
    "\n",
    "# Edit the spatial reference\n",
    "grid.origin = (1, 1, 1)  # The bottom left corner of the data set\n",
    "grid.spacing = (1, 1, 1)  # These are the cell sizes along each axis\n",
    "\n",
    "# Add the data values to the cell data\n",
    "grid.cell_arrays[\"values\"] = values.flatten()#.log10(tof)# np.log10(tof)# values.flatten(order=\"C\")  # Flatten the array! C F A K\n",
    "\n",
    "# Now plot the grid!\n",
    "boring_cmap = plt.cm.get_cmap(\"viridis\", 5)\n",
    "# mesh.plot(scalars='values', cmap=boring_cmap)\n",
    "grid.plot(show_edges=False,cmap = boring_cmap)"
   ]
  },
  {
   "cell_type": "code",
   "execution_count": 1,
   "metadata": {},
   "outputs": [],
   "source": [
    "from skimage.util.shape import view_as_windows\n",
    "from skimage.util.shape import view_as_blocks\n"
   ]
  },
  {
   "cell_type": "code",
   "execution_count": 150,
   "metadata": {},
   "outputs": [],
   "source": [
    "window_shape = (10,10,7)\n",
    "step_size =7"
   ]
  },
  {
   "cell_type": "code",
   "execution_count": 151,
   "metadata": {},
   "outputs": [],
   "source": [
    "# trend_window = view_as_windows(tof_3d, window_shape, step= step_size)\n",
    "trend_window = view_as_blocks(tof_3d, window_shape)\n",
    "\n",
    "#view_as_blocks windows have no overlap"
   ]
  },
  {
   "cell_type": "code",
   "execution_count": 152,
   "metadata": {},
   "outputs": [
    {
     "data": {
      "text/plain": [
       "(20, 10, 1, 10, 10, 7)"
      ]
     },
     "execution_count": 152,
     "metadata": {},
     "output_type": "execute_result"
    }
   ],
   "source": [
    "trend_window.shape"
   ]
  },
  {
   "cell_type": "code",
   "execution_count": 153,
   "metadata": {},
   "outputs": [],
   "source": [
    "window_sum = []\n",
    "for i in range(0,20):\n",
    "    for j in range(0,10):\n",
    "        for k in range(0,1):\n",
    "            temp_sum = ((np.mean(trend_window[i,j,k])))\n",
    "            window_sum.append(temp_sum)"
   ]
  },
  {
   "cell_type": "code",
   "execution_count": 156,
   "metadata": {},
   "outputs": [],
   "source": [
    "upscaled = np.array(window_sum).reshape((20,10,1))"
   ]
  },
  {
   "cell_type": "code",
   "execution_count": 157,
   "metadata": {},
   "outputs": [
    {
     "data": {
      "image/png": "[encoded data removed]",
      "text/plain": [
       "<PIL.Image.Image image mode=RGB size=1024x768 at 0x20AC357B888>"
      ]
     },
     "metadata": {},
     "output_type": "display_data"
    }
   ],
   "source": [
    "# values = np.linspace(0, 10, 1000).reshape((20, 5, 10))\n",
    "values =upscaled #upscaled#upscaled # tof_3d\n",
    "values.shape\n",
    "\n",
    "# Create the spatial reference\n",
    "grid = pv.UniformGrid()\n",
    "\n",
    "# Set the grid dimensions: shape + 1 because we want to inject our values on\n",
    "#   the CELL data\n",
    "grid.dimensions = np.array(values.shape) + 1\n",
    "\n",
    "# Edit the spatial reference\n",
    "grid.origin = (1, 1, 1)  # The bottom left corner of the data set\n",
    "grid.spacing = (1, 1, 1)  # These are the cell sizes along each axis\n",
    "\n",
    "# Add the data values to the cell data\n",
    "grid.cell_arrays[\"values\"] =values.flatten()# np.log10(tof)# np.log10(tof)# values.flatten(order=\"C\")  # Flatten the array! C F A K\n",
    "\n",
    "boring_cmap = plt.cm.get_cmap(\"viridis\", 5)\n",
    "# mesh.plot(scalars='values', cmap=boring_cmap)\n",
    "grid.plot(show_edges=True,cmap = boring_cmap)"
   ]
  },
  {
   "cell_type": "code",
   "execution_count": 81,
   "metadata": {},
   "outputs": [
    {
     "ename": "KeyboardInterrupt",
     "evalue": "",
     "output_type": "error",
     "traceback": [
      "\u001b[1;31m---------------------------------------------------------------------------\u001b[0m",
      "\u001b[1;31mKeyboardInterrupt\u001b[0m                         Traceback (most recent call last)",
      "\u001b[1;32m<ipython-input-81-79dbfb8295ad>\u001b[0m in \u001b[0;36m<module>\u001b[1;34m\u001b[0m\n\u001b[1;32m----> 1\u001b[1;33m \u001b[0mwindow_entropy\u001b[0m \u001b[1;33m=\u001b[0m \u001b[0ment\u001b[0m\u001b[1;33m.\u001b[0m\u001b[0mshannon_entropy\u001b[0m\u001b[1;33m(\u001b[0m\u001b[0mnp\u001b[0m\u001b[1;33m.\u001b[0m\u001b[0mround\u001b[0m\u001b[1;33m(\u001b[0m\u001b[1;33m(\u001b[0m\u001b[0mtof\u001b[0m\u001b[1;33m)\u001b[0m\u001b[1;33m,\u001b[0m\u001b[1;36m2\u001b[0m\u001b[1;33m)\u001b[0m\u001b[1;33m)\u001b[0m\u001b[1;33m\u001b[0m\u001b[1;33m\u001b[0m\u001b[0m\n\u001b[0m\u001b[0;32m      2\u001b[0m \u001b[0mwindow_entropy\u001b[0m\u001b[1;33m\u001b[0m\u001b[1;33m\u001b[0m\u001b[0m\n",
      "\u001b[1;32m~\\AppData\\Local\\Continuum\\anaconda_3\\envs\\MRST\\lib\\site-packages\\pyentrp\\entropy.py\u001b[0m in \u001b[0;36mshannon_entropy\u001b[1;34m(time_series)\u001b[0m\n\u001b[0;32m     99\u001b[0m         \u001b[0mcounter\u001b[0m \u001b[1;33m=\u001b[0m \u001b[1;36m0.\u001b[0m\u001b[1;33m\u001b[0m\u001b[1;33m\u001b[0m\u001b[0m\n\u001b[0;32m    100\u001b[0m         \u001b[1;32mfor\u001b[0m \u001b[0mi\u001b[0m \u001b[1;32min\u001b[0m \u001b[0mtime_series\u001b[0m\u001b[1;33m:\u001b[0m\u001b[1;33m\u001b[0m\u001b[1;33m\u001b[0m\u001b[0m\n\u001b[1;32m--> 101\u001b[1;33m             \u001b[1;32mif\u001b[0m \u001b[0mi\u001b[0m \u001b[1;33m==\u001b[0m \u001b[0mentry\u001b[0m\u001b[1;33m:\u001b[0m\u001b[1;33m\u001b[0m\u001b[1;33m\u001b[0m\u001b[0m\n\u001b[0m\u001b[0;32m    102\u001b[0m                 \u001b[0mcounter\u001b[0m \u001b[1;33m+=\u001b[0m \u001b[1;36m1\u001b[0m\u001b[1;33m\u001b[0m\u001b[1;33m\u001b[0m\u001b[0m\n\u001b[0;32m    103\u001b[0m         \u001b[0mfreq_list\u001b[0m\u001b[1;33m.\u001b[0m\u001b[0mappend\u001b[0m\u001b[1;33m(\u001b[0m\u001b[0mfloat\u001b[0m\u001b[1;33m(\u001b[0m\u001b[0mcounter\u001b[0m\u001b[1;33m)\u001b[0m \u001b[1;33m/\u001b[0m \u001b[0mlen\u001b[0m\u001b[1;33m(\u001b[0m\u001b[0mtime_series\u001b[0m\u001b[1;33m)\u001b[0m\u001b[1;33m)\u001b[0m\u001b[1;33m\u001b[0m\u001b[1;33m\u001b[0m\u001b[0m\n",
      "\u001b[1;31mKeyboardInterrupt\u001b[0m: "
     ]
    }
   ],
   "source": [
    "window_entropy = ent.shannon_entropy(np.round((tof),2))\n",
    "window_entropy"
   ]
  },
  {
   "cell_type": "code",
   "execution_count": 710,
   "metadata": {},
   "outputs": [
    {
     "data": {
      "text/plain": [
       "5000"
      ]
     },
     "execution_count": 710,
     "metadata": {},
     "output_type": "execute_result"
    }
   ],
   "source": [
    "len(window_sum)"
   ]
  },
  {
   "cell_type": "code",
   "execution_count": 102,
   "metadata": {},
   "outputs": [],
   "source": [
    "import lhsmdu\n",
    "import numpy as np"
   ]
  },
  {
   "cell_type": "code",
   "execution_count": 170,
   "metadata": {},
   "outputs": [
    {
     "data": {
      "text/plain": [
       "(30, 30)"
      ]
     },
     "execution_count": 170,
     "metadata": {},
     "output_type": "execute_result"
    }
   ],
   "source": [
    "test =np.array(lhsmdu.sample(30,30))\n",
    "test.shape\n"
   ]
  },
  {
   "cell_type": "code",
   "execution_count": 169,
   "metadata": {},
   "outputs": [
    {
     "data": {
      "text/plain": [
       "(array([4., 3., 3., 2., 3., 3., 3., 2., 4., 3.]),\n",
       " array([0.02 , 0.116, 0.212, 0.308, 0.404, 0.5  , 0.596, 0.692, 0.788,\n",
       "        0.884, 0.98 ]),\n",
       " <a list of 10 Patch objects>)"
      ]
     },
     "execution_count": 169,
     "metadata": {},
     "output_type": "execute_result"
    },
    {
     "data": {
      "image/png": "[encoded data removed]",
      "text/plain": [
       "<Figure size 432x288 with 1 Axes>"
      ]
     },
     "metadata": {
      "needs_background": "light"
     },
     "output_type": "display_data"
    }
   ],
   "source": [
    "plt.hist(np.round(test[29],2))"
   ]
  },
  {
   "cell_type": "code",
   "execution_count": 15,
   "metadata": {},
   "outputs": [
    {
     "data": {
      "text/plain": [
       "1467.9700005769212"
      ]
     },
     "execution_count": 15,
     "metadata": {},
     "output_type": "execute_result"
    }
   ],
   "source": [
    "200* ent.shannon_entropy(np.arange(54*3))"
   ]
  },
  {
   "cell_type": "code",
   "execution_count": 16,
   "metadata": {},
   "outputs": [
    {
     "data": {
      "text/plain": [
       "1173.6000000000001"
      ]
     },
     "execution_count": 16,
     "metadata": {},
     "output_type": "execute_result"
    }
   ],
   "source": [
    "0.8*1467"
   ]
  },
  {
   "cell_type": "code",
   "execution_count": 173,
   "metadata": {},
   "outputs": [],
   "source": [
    "init_pos = np.array(lhsmdu.sample(numDimensions = 3,numSamples = 30))\n"
   ]
  },
  {
   "cell_type": "code",
   "execution_count": 111,
   "metadata": {},
   "outputs": [
    {
     "data": {
      "image/png": "[encoded data removed]",
      "text/plain": [
       "<Figure size 432x288 with 1 Axes>"
      ]
     },
     "metadata": {
      "needs_background": "light"
     },
     "output_type": "display_data"
    }
   ],
   "source": [
    "l = lhsmdu.createRandomStandardUniformMatrix(2, 200) # Monte Carlo sampling\n",
    "k = lhsmdu.sample(2, 200) # Latin Hypercube Sampling with multi-dimensional uniformity\n",
    "k = np.array(k)\n",
    "l = np.array(l)\n",
    "import matplotlib.pyplot as plt\n",
    "fig = plt.figure()\n",
    "ax = fig.gca()\n",
    "ax.set_xticks(np.arange(0,1,0.1))\n",
    "ax.set_yticks(np.arange(0,1,0.1))\n",
    "plt.scatter(k[0], k[1], color=\"g\", label=\"LHS-MDU\")\n",
    "plt.scatter(l[0], l[1], color=\"r\", label=\"MC\")\n",
    "plt.grid()\n",
    "plt.show()"
   ]
  },
  {
   "cell_type": "code",
   "execution_count": 2,
   "metadata": {},
   "outputs": [],
   "source": [
    "import bz2\n",
    "import pickle\n",
    "import _pickle as cPickle"
   ]
  },
  {
   "cell_type": "code",
   "execution_count": null,
   "metadata": {},
   "outputs": [],
   "source": [
    "output_file_variables = \"/variable_settings_saved.pickle\"\n",
    "folder_path = output_path + \"/\" + output_folder\n",
    "file_path = folder_path + output_file_variables\n",
    "\n",
    "setup[\"date\"] = output_folder\n",
    "setup[\"path\"] = file_path\n",
    "setup[\"folder_path\"] = folder_path\n",
    "\n",
    "if not os.path.exists(folder_path):\n",
    "    os.makedirs(folder_path)\n",
    "    file_path = folder_path + output_file_variables\n",
    "    with open(file_path,'wb') as f:\n",
    "        pickle.dump(setup,f)\n"
   ]
  },
  {
   "cell_type": "code",
   "execution_count": 422,
   "metadata": {},
   "outputs": [
    {
     "data": {
      "text/html": [
       "<div>\n",
       "<style scoped>\n",
       "    .dataframe tbody tr th:only-of-type {\n",
       "        vertical-align: middle;\n",
       "    }\n",
       "\n",
       "    .dataframe tbody tr th {\n",
       "        vertical-align: top;\n",
       "    }\n",
       "\n",
       "    .dataframe thead th {\n",
       "        text-align: right;\n",
       "    }\n",
       "</style>\n",
       "<table border=\"1\" class=\"dataframe\">\n",
       "  <thead>\n",
       "    <tr style=\"text-align: right;\">\n",
       "      <th></th>\n",
       "      <th>EV</th>\n",
       "      <th>tD</th>\n",
       "      <th>F</th>\n",
       "      <th>Phi</th>\n",
       "      <th>LC</th>\n",
       "      <th>tof</th>\n",
       "    </tr>\n",
       "  </thead>\n",
       "  <tbody>\n",
       "    <tr>\n",
       "      <th>0</th>\n",
       "      <td>0.000000</td>\n",
       "      <td>0.000000</td>\n",
       "      <td>0.000000</td>\n",
       "      <td>0.000000</td>\n",
       "      <td>0.370907</td>\n",
       "      <td>3.434611e+08</td>\n",
       "    </tr>\n",
       "    <tr>\n",
       "      <th>1</th>\n",
       "      <td>0.194294</td>\n",
       "      <td>0.194294</td>\n",
       "      <td>0.000005</td>\n",
       "      <td>0.000001</td>\n",
       "      <td>0.370907</td>\n",
       "      <td>1.343514e+09</td>\n",
       "    </tr>\n",
       "    <tr>\n",
       "      <th>2</th>\n",
       "      <td>0.194419</td>\n",
       "      <td>0.194419</td>\n",
       "      <td>0.000011</td>\n",
       "      <td>0.000002</td>\n",
       "      <td>0.370907</td>\n",
       "      <td>7.316362e+08</td>\n",
       "    </tr>\n",
       "    <tr>\n",
       "      <th>3</th>\n",
       "      <td>0.194559</td>\n",
       "      <td>0.194559</td>\n",
       "      <td>0.000016</td>\n",
       "      <td>0.000003</td>\n",
       "      <td>0.370907</td>\n",
       "      <td>1.053854e+09</td>\n",
       "    </tr>\n",
       "    <tr>\n",
       "      <th>4</th>\n",
       "      <td>0.195312</td>\n",
       "      <td>0.195312</td>\n",
       "      <td>0.000022</td>\n",
       "      <td>0.000004</td>\n",
       "      <td>0.370907</td>\n",
       "      <td>1.516625e+09</td>\n",
       "    </tr>\n",
       "  </tbody>\n",
       "</table>\n",
       "</div>"
      ],
      "text/plain": [
       "         EV        tD         F       Phi        LC           tof\n",
       "0  0.000000  0.000000  0.000000  0.000000  0.370907  3.434611e+08\n",
       "1  0.194294  0.194294  0.000005  0.000001  0.370907  1.343514e+09\n",
       "2  0.194419  0.194419  0.000011  0.000002  0.370907  7.316362e+08\n",
       "3  0.194559  0.194559  0.000016  0.000003  0.370907  1.053854e+09\n",
       "4  0.195312  0.195312  0.000022  0.000004  0.370907  1.516625e+09"
      ]
     },
     "execution_count": 422,
     "metadata": {},
     "output_type": "execute_result"
    }
   ],
   "source": [
    "df_performance.head()"
   ]
  },
  {
   "cell_type": "code",
   "execution_count": 429,
   "metadata": {},
   "outputs": [],
   "source": [
    "\n",
    "with bz2.BZ2File(\"test.pbz2\",\"w\") as f:\n",
    "    cPickle.dump(df_performance,f)"
   ]
  },
  {
   "cell_type": "code",
   "execution_count": 436,
   "metadata": {},
   "outputs": [],
   "source": [
    "#load compressed pickle file\n",
    "data = bz2.BZ2File(\"tof_all_iter.pbz2\",\"rb\")\n",
    "tof_all_iter = cPickle.load(data)"
   ]
  },
  {
   "cell_type": "code",
   "execution_count": 437,
   "metadata": {},
   "outputs": [
    {
     "data": {
      "text/html": [
       "<div>\n",
       "<style scoped>\n",
       "    .dataframe tbody tr th:only-of-type {\n",
       "        vertical-align: middle;\n",
       "    }\n",
       "\n",
       "    .dataframe tbody tr th {\n",
       "        vertical-align: top;\n",
       "    }\n",
       "\n",
       "    .dataframe thead th {\n",
       "        text-align: right;\n",
       "    }\n",
       "</style>\n",
       "<table border=\"1\" class=\"dataframe\">\n",
       "  <thead>\n",
       "    <tr style=\"text-align: right;\">\n",
       "      <th></th>\n",
       "      <th>tof</th>\n",
       "      <th>particle_no</th>\n",
       "      <th>iteration</th>\n",
       "    </tr>\n",
       "  </thead>\n",
       "  <tbody>\n",
       "    <tr>\n",
       "      <th>0</th>\n",
       "      <td>4.389530e+03</td>\n",
       "      <td>0</td>\n",
       "      <td>0</td>\n",
       "    </tr>\n",
       "    <tr>\n",
       "      <th>1</th>\n",
       "      <td>1.024511e+07</td>\n",
       "      <td>0</td>\n",
       "      <td>0</td>\n",
       "    </tr>\n",
       "    <tr>\n",
       "      <th>2</th>\n",
       "      <td>2.242634e+06</td>\n",
       "      <td>0</td>\n",
       "      <td>0</td>\n",
       "    </tr>\n",
       "    <tr>\n",
       "      <th>3</th>\n",
       "      <td>4.199482e+06</td>\n",
       "      <td>0</td>\n",
       "      <td>0</td>\n",
       "    </tr>\n",
       "    <tr>\n",
       "      <th>4</th>\n",
       "      <td>1.049997e+07</td>\n",
       "      <td>0</td>\n",
       "      <td>0</td>\n",
       "    </tr>\n",
       "    <tr>\n",
       "      <th>...</th>\n",
       "      <td>...</td>\n",
       "      <td>...</td>\n",
       "      <td>...</td>\n",
       "    </tr>\n",
       "    <tr>\n",
       "      <th>139995</th>\n",
       "      <td>1.276054e+08</td>\n",
       "      <td>2</td>\n",
       "      <td>2</td>\n",
       "    </tr>\n",
       "    <tr>\n",
       "      <th>139996</th>\n",
       "      <td>7.808312e+07</td>\n",
       "      <td>2</td>\n",
       "      <td>2</td>\n",
       "    </tr>\n",
       "    <tr>\n",
       "      <th>139997</th>\n",
       "      <td>4.347647e+07</td>\n",
       "      <td>2</td>\n",
       "      <td>2</td>\n",
       "    </tr>\n",
       "    <tr>\n",
       "      <th>139998</th>\n",
       "      <td>2.048648e+07</td>\n",
       "      <td>2</td>\n",
       "      <td>2</td>\n",
       "    </tr>\n",
       "    <tr>\n",
       "      <th>139999</th>\n",
       "      <td>6.808064e+06</td>\n",
       "      <td>2</td>\n",
       "      <td>2</td>\n",
       "    </tr>\n",
       "  </tbody>\n",
       "</table>\n",
       "<p>1260000 rows × 3 columns</p>\n",
       "</div>"
      ],
      "text/plain": [
       "                 tof  particle_no  iteration\n",
       "0       4.389530e+03            0          0\n",
       "1       1.024511e+07            0          0\n",
       "2       2.242634e+06            0          0\n",
       "3       4.199482e+06            0          0\n",
       "4       1.049997e+07            0          0\n",
       "...              ...          ...        ...\n",
       "139995  1.276054e+08            2          2\n",
       "139996  7.808312e+07            2          2\n",
       "139997  4.347647e+07            2          2\n",
       "139998  2.048648e+07            2          2\n",
       "139999  6.808064e+06            2          2\n",
       "\n",
       "[1260000 rows x 3 columns]"
      ]
     },
     "execution_count": 437,
     "metadata": {},
     "output_type": "execute_result"
    }
   ],
   "source": [
    "tof_all_iter"
   ]
  },
  {
   "cell_type": "code",
   "execution_count": 424,
   "metadata": {},
   "outputs": [],
   "source": [
    "df_performance.to_csv(\"test.csv\")"
   ]
  },
  {
   "cell_type": "code",
   "execution_count": 426,
   "metadata": {},
   "outputs": [
    {
     "data": {
      "text/html": [
       "<div>\n",
       "<style scoped>\n",
       "    .dataframe tbody tr th:only-of-type {\n",
       "        vertical-align: middle;\n",
       "    }\n",
       "\n",
       "    .dataframe tbody tr th {\n",
       "        vertical-align: top;\n",
       "    }\n",
       "\n",
       "    .dataframe thead th {\n",
       "        text-align: right;\n",
       "    }\n",
       "</style>\n",
       "<table border=\"1\" class=\"dataframe\">\n",
       "  <thead>\n",
       "    <tr style=\"text-align: right;\">\n",
       "      <th></th>\n",
       "      <th>EV</th>\n",
       "      <th>tD</th>\n",
       "      <th>F</th>\n",
       "      <th>Phi</th>\n",
       "      <th>LC</th>\n",
       "      <th>tof</th>\n",
       "    </tr>\n",
       "  </thead>\n",
       "  <tbody>\n",
       "    <tr>\n",
       "      <th>0</th>\n",
       "      <td>0.000000</td>\n",
       "      <td>0.000000</td>\n",
       "      <td>0.000000</td>\n",
       "      <td>0.000000</td>\n",
       "      <td>0.370907</td>\n",
       "      <td>3.434611e+08</td>\n",
       "    </tr>\n",
       "    <tr>\n",
       "      <th>100</th>\n",
       "      <td>0.212841</td>\n",
       "      <td>0.212845</td>\n",
       "      <td>0.000512</td>\n",
       "      <td>0.000105</td>\n",
       "      <td>0.370907</td>\n",
       "      <td>1.959301e+10</td>\n",
       "    </tr>\n",
       "    <tr>\n",
       "      <th>200</th>\n",
       "      <td>0.219419</td>\n",
       "      <td>0.219428</td>\n",
       "      <td>0.000999</td>\n",
       "      <td>0.000211</td>\n",
       "      <td>0.370907</td>\n",
       "      <td>5.816332e+08</td>\n",
       "    </tr>\n",
       "    <tr>\n",
       "      <th>300</th>\n",
       "      <td>0.225495</td>\n",
       "      <td>0.225512</td>\n",
       "      <td>0.001730</td>\n",
       "      <td>0.000373</td>\n",
       "      <td>0.370907</td>\n",
       "      <td>1.882185e+10</td>\n",
       "    </tr>\n",
       "    <tr>\n",
       "      <th>400</th>\n",
       "      <td>0.229198</td>\n",
       "      <td>0.229222</td>\n",
       "      <td>0.002194</td>\n",
       "      <td>0.000478</td>\n",
       "      <td>0.370907</td>\n",
       "      <td>1.944574e+08</td>\n",
       "    </tr>\n",
       "    <tr>\n",
       "      <th>...</th>\n",
       "      <td>...</td>\n",
       "      <td>...</td>\n",
       "      <td>...</td>\n",
       "      <td>...</td>\n",
       "      <td>...</td>\n",
       "      <td>...</td>\n",
       "    </tr>\n",
       "    <tr>\n",
       "      <th>139500</th>\n",
       "      <td>0.998606</td>\n",
       "      <td>15.102252</td>\n",
       "      <td>0.999752</td>\n",
       "      <td>0.994866</td>\n",
       "      <td>0.370907</td>\n",
       "      <td>8.646660e+10</td>\n",
       "    </tr>\n",
       "    <tr>\n",
       "      <th>139600</th>\n",
       "      <td>0.998857</td>\n",
       "      <td>16.273165</td>\n",
       "      <td>0.999815</td>\n",
       "      <td>0.995844</td>\n",
       "      <td>0.370907</td>\n",
       "      <td>4.506374e+08</td>\n",
       "    </tr>\n",
       "    <tr>\n",
       "      <th>139700</th>\n",
       "      <td>0.999181</td>\n",
       "      <td>18.381206</td>\n",
       "      <td>0.999875</td>\n",
       "      <td>0.996878</td>\n",
       "      <td>0.370907</td>\n",
       "      <td>1.074036e+11</td>\n",
       "    </tr>\n",
       "    <tr>\n",
       "      <th>139800</th>\n",
       "      <td>0.999429</td>\n",
       "      <td>20.944392</td>\n",
       "      <td>0.999927</td>\n",
       "      <td>0.997903</td>\n",
       "      <td>0.370907</td>\n",
       "      <td>1.973874e+08</td>\n",
       "    </tr>\n",
       "    <tr>\n",
       "      <th>139900</th>\n",
       "      <td>0.999755</td>\n",
       "      <td>27.999172</td>\n",
       "      <td>0.999971</td>\n",
       "      <td>0.998947</td>\n",
       "      <td>0.370907</td>\n",
       "      <td>1.608379e+11</td>\n",
       "    </tr>\n",
       "  </tbody>\n",
       "</table>\n",
       "<p>1400 rows × 6 columns</p>\n",
       "</div>"
      ],
      "text/plain": [
       "              EV         tD         F       Phi        LC           tof\n",
       "0       0.000000   0.000000  0.000000  0.000000  0.370907  3.434611e+08\n",
       "100     0.212841   0.212845  0.000512  0.000105  0.370907  1.959301e+10\n",
       "200     0.219419   0.219428  0.000999  0.000211  0.370907  5.816332e+08\n",
       "300     0.225495   0.225512  0.001730  0.000373  0.370907  1.882185e+10\n",
       "400     0.229198   0.229222  0.002194  0.000478  0.370907  1.944574e+08\n",
       "...          ...        ...       ...       ...       ...           ...\n",
       "139500  0.998606  15.102252  0.999752  0.994866  0.370907  8.646660e+10\n",
       "139600  0.998857  16.273165  0.999815  0.995844  0.370907  4.506374e+08\n",
       "139700  0.999181  18.381206  0.999875  0.996878  0.370907  1.074036e+11\n",
       "139800  0.999429  20.944392  0.999927  0.997903  0.370907  1.973874e+08\n",
       "139900  0.999755  27.999172  0.999971  0.998947  0.370907  1.608379e+11\n",
       "\n",
       "[1400 rows x 6 columns]"
      ]
     },
     "execution_count": 426,
     "metadata": {},
     "output_type": "execute_result"
    }
   ],
   "source": [
    "df_performance.iloc[::100, :]\n"
   ]
  },
  {
   "cell_type": "code",
   "execution_count": 744,
   "metadata": {},
   "outputs": [],
   "source": [
    "df_upscaled_models = pd.DataFrame(columns = np.arange(20*10*1))\n"
   ]
  },
  {
   "cell_type": "code",
   "execution_count": 745,
   "metadata": {},
   "outputs": [
    {
     "data": {
      "text/html": [
       "<div>\n",
       "<style scoped>\n",
       "    .dataframe tbody tr th:only-of-type {\n",
       "        vertical-align: middle;\n",
       "    }\n",
       "\n",
       "    .dataframe tbody tr th {\n",
       "        vertical-align: top;\n",
       "    }\n",
       "\n",
       "    .dataframe thead th {\n",
       "        text-align: right;\n",
       "    }\n",
       "</style>\n",
       "<table border=\"1\" class=\"dataframe\">\n",
       "  <thead>\n",
       "    <tr style=\"text-align: right;\">\n",
       "      <th></th>\n",
       "      <th>0</th>\n",
       "      <th>1</th>\n",
       "      <th>2</th>\n",
       "      <th>3</th>\n",
       "      <th>4</th>\n",
       "      <th>5</th>\n",
       "      <th>6</th>\n",
       "      <th>7</th>\n",
       "      <th>8</th>\n",
       "      <th>9</th>\n",
       "      <th>...</th>\n",
       "      <th>190</th>\n",
       "      <th>191</th>\n",
       "      <th>192</th>\n",
       "      <th>193</th>\n",
       "      <th>194</th>\n",
       "      <th>195</th>\n",
       "      <th>196</th>\n",
       "      <th>197</th>\n",
       "      <th>198</th>\n",
       "      <th>199</th>\n",
       "    </tr>\n",
       "  </thead>\n",
       "  <tbody>\n",
       "  </tbody>\n",
       "</table>\n",
       "<p>0 rows × 200 columns</p>\n",
       "</div>"
      ],
      "text/plain": [
       "Empty DataFrame\n",
       "Columns: [0, 1, 2, 3, 4, 5, 6, 7, 8, 9, 10, 11, 12, 13, 14, 15, 16, 17, 18, 19, 20, 21, 22, 23, 24, 25, 26, 27, 28, 29, 30, 31, 32, 33, 34, 35, 36, 37, 38, 39, 40, 41, 42, 43, 44, 45, 46, 47, 48, 49, 50, 51, 52, 53, 54, 55, 56, 57, 58, 59, 60, 61, 62, 63, 64, 65, 66, 67, 68, 69, 70, 71, 72, 73, 74, 75, 76, 77, 78, 79, 80, 81, 82, 83, 84, 85, 86, 87, 88, 89, 90, 91, 92, 93, 94, 95, 96, 97, 98, 99, ...]\n",
       "Index: []\n",
       "\n",
       "[0 rows x 200 columns]"
      ]
     },
     "execution_count": 745,
     "metadata": {},
     "output_type": "execute_result"
    }
   ],
   "source": [
    "df_upscaled_models"
   ]
  },
  {
   "cell_type": "code",
   "execution_count": 747,
   "metadata": {},
   "outputs": [
    {
     "data": {
      "text/plain": [
       "200"
      ]
     },
     "execution_count": 747,
     "metadata": {},
     "output_type": "execute_result"
    }
   ],
   "source": [
    "df_upscaled_models.shape[1]"
   ]
  },
  {
   "cell_type": "code",
   "execution_count": 748,
   "metadata": {},
   "outputs": [],
   "source": [
    "test = np.array([1,2,3,4,5])"
   ]
  },
  {
   "cell_type": "code",
   "execution_count": 749,
   "metadata": {},
   "outputs": [
    {
     "data": {
      "text/plain": [
       "array([1, 2, 3, 4, 5])"
      ]
     },
     "execution_count": 749,
     "metadata": {},
     "output_type": "execute_result"
    }
   ],
   "source": [
    "test.T"
   ]
  },
  {
   "cell_type": "code",
   "execution_count": 750,
   "metadata": {},
   "outputs": [
    {
     "data": {
      "text/plain": [
       "array([1, 2, 3, 4, 5])"
      ]
     },
     "execution_count": 750,
     "metadata": {},
     "output_type": "execute_result"
    }
   ],
   "source": [
    "np.transpose(test)"
   ]
  },
  {
   "cell_type": "code",
   "execution_count": 751,
   "metadata": {},
   "outputs": [
    {
     "data": {
      "text/plain": [
       "(5,)"
      ]
     },
     "execution_count": 751,
     "metadata": {},
     "output_type": "execute_result"
    }
   ],
   "source": [
    "test.shape"
   ]
  },
  {
   "cell_type": "markdown",
   "metadata": {},
   "source": [
    "# Voronoi tesselation"
   ]
  },
  {
   "cell_type": "code",
   "execution_count": 2,
   "metadata": {},
   "outputs": [],
   "source": [
    "from scipy.spatial import Voronoi\n",
    "import matplotlib.pyplot as plt\n",
    "from geovoronoi import voronoi_regions_from_coords\n",
    "from geovoronoi import polygon_lines_from_voronoi\n",
    "import shapely\n",
    "from shapely.geometry import Point\n",
    "from shapely.geometry import Polygon\n",
    "from descartes import PolygonPatch\n",
    "import numpy as np\n",
    "from shapely.geometry.polygon import LinearRing, Polygon\n",
    "import pyvista as pv\n",
    "from matplotlib import cm\n",
    "\n",
    "# I want to do the following: initiate voronoi tesselation in a bound box (resevoir model). \n",
    "# Then I want to check what grid cell center belongs to which voronoi region.\n",
    "# plot results\n",
    "# what I need to do therefore:\n",
    "# initiate n random points that are within grid and caluclate vornoi shapes\n",
    "# bind them with box\n",
    "# assgin each grid cell to a region\n",
    "# plot with pyvista\n",
    "# all this is done in 2D so far. there is also the possibilty to do \n"
   ]
  },
  {
   "cell_type": "code",
   "execution_count": 3,
   "metadata": {},
   "outputs": [
    {
     "data": {
      "image/svg+xml": [
       "<svg xmlns=\"http://www.w3.org/2000/svg\" xmlns:xlink=\"http://www.w3.org/1999/xlink\" width=\"216.0\" height=\"116.0\" viewBox=\"-8.0 -8.0 216.0 116.0\" preserveAspectRatio=\"xMinYMin meet\"><g transform=\"matrix(1,0,0,-1,0,100.0)\"><path fill-rule=\"evenodd\" fill=\"#66cc99\" stroke=\"#555555\" stroke-width=\"2.0\" opacity=\"0.6\" d=\"M 0.0,0.0 L 0.0,100.0 L 200.0,100.0 L 200.0,0.0 L 0.0,0.0 z\" /></g></svg>"
      ],
      "text/plain": [
       "<shapely.geometry.polygon.Polygon at 0x26ed27ef988>"
      ]
     },
     "execution_count": 3,
     "metadata": {},
     "output_type": "execute_result"
    }
   ],
   "source": [
    "n_polygons = 5\n",
    "points = np.random.randint((200,100), size=(n_polygons, 2))\n",
    "grid = Polygon([(0, 0), (0, 100), (200, 100), (200, 0)])\n",
    "nx,ny,nz = (200,100,7)\n",
    "x = np.arange(0,nx+1,1,)\n",
    "y = np.arange(0,ny+1,1)\n",
    "x_grid, y_grid = np.meshgrid(x,y)\n",
    "grid"
   ]
  },
  {
   "cell_type": "code",
   "execution_count": 4,
   "metadata": {},
   "outputs": [],
   "source": [
    "# get cell center\n",
    "x_cell_center = x_grid[:-1,:-1]+0.5\n",
    "y_cell_center = y_grid[:-1,:-1]+0.5\n",
    "cell_center_which_polygon = np.zeros(len(x_cell_center.flatten()))\n",
    "# array to assign polygon to cell id\n",
    "all_cell_center = np.column_stack((x_cell_center.flatten(),y_cell_center.flatten(),cell_center_which_polygon))\n"
   ]
  },
  {
   "cell_type": "code",
   "execution_count": 5,
   "metadata": {},
   "outputs": [],
   "source": [
    "# get voronoi regions\n",
    "poly_shapes, pts, poly_to_pt_assignments = voronoi_regions_from_coords(points, grid)\n"
   ]
  },
  {
   "cell_type": "code",
   "execution_count": 6,
   "metadata": {},
   "outputs": [
    {
     "data": {
      "image/png": "[encoded data removed]",
      "text/plain": [
       "<Figure size 450x450 with 1 Axes>"
      ]
     },
     "metadata": {
      "needs_background": "light"
     },
     "output_type": "display_data"
    }
   ],
   "source": [
    "fig = plt.figure(1, figsize=(5,5), dpi=90)\n",
    "color = [\"red\",\"blue\",\"green\",\"black\",\"yellow\",\"red\",\"blue\",\"green\",\"black\",\"yellow\",\"red\",\"blue\",\"green\",\"black\",\"yellow\"]\n",
    "color = 100*np.random.randint(n_polygons)\n",
    "viridis = cm.get_cmap('viridis', n_polygons)\n",
    "\n",
    "ax = fig.add_subplot(111)\n",
    "for i in range(n_polygons):\n",
    "    ring_patch = PolygonPatch(poly_shapes[i], facecolor = viridis(i))\n",
    "    ax.add_patch(ring_patch)\n",
    "    ax.set_title('Voronoi tesselation')\n",
    "    xrange = [0, nx]\n",
    "    yrange = [0, ny]\n",
    "    ax.set_xlim(*xrange)\n",
    "    ax.set_ylim(*yrange)\n",
    "    ax.set_aspect(1)\n",
    "\n",
    "# plt.xlim([0,10])\n",
    "# plt.ylim([0,10])"
   ]
  },
  {
   "cell_type": "code",
   "execution_count": 7,
   "metadata": {},
   "outputs": [
    {
     "data": {
      "text/plain": [
       "(0.0, 100.0)"
      ]
     },
     "execution_count": 7,
     "metadata": {},
     "output_type": "execute_result"
    },
    {
     "data": {
      "image/png": "[encoded data removed]",
      "text/plain": [
       "<Figure size 432x288 with 1 Axes>"
      ]
     },
     "metadata": {
      "needs_background": "light"
     },
     "output_type": "display_data"
    }
   ],
   "source": [
    "# in what voronoi polygon do cell centers plot\n",
    "for i in range(len(all_cell_center)):\n",
    "    for voronoi_polygon_id in range(n_polygons):\n",
    "        \n",
    "        polygon = poly_shapes[voronoi_polygon_id]\n",
    "        cell_id = Point(all_cell_center[i,0],all_cell_center[i,1])\n",
    "        \n",
    "        if polygon.intersects(cell_id):\n",
    "            all_cell_center[i,2] = voronoi_polygon_id\n",
    "\n",
    "plt.scatter(x_cell_center,y_cell_center, c = all_cell_center[:,2])\n",
    "plt.xlim([0,nx])\n",
    "plt.ylim([0,ny])\n"
   ]
  },
  {
   "cell_type": "code",
   "execution_count": 8,
   "metadata": {},
   "outputs": [],
   "source": [
    "cell_vornoi_combination = np.tile(all_cell_center[:,2],nz).reshape((nx,ny,nz))"
   ]
  },
  {
   "cell_type": "code",
   "execution_count": 10,
   "metadata": {},
   "outputs": [
    {
     "data": {
      "text/plain": [
       "[(145.49355963081945, 101.54751007618313, -423.18325618083213),\n",
       " (100.0, 50.0, 3.5),\n",
       " (0.31763566866741916, -0.9448086824150017, -0.08027537370470379)]"
      ]
     },
     "execution_count": 10,
     "metadata": {},
     "output_type": "execute_result"
    }
   ],
   "source": [
    "values = cell_vornoi_combination\n",
    "# grid.plot()\n",
    "grid = pv.UniformGrid()\n",
    "grid.dimensions = np.array(values.shape) + 1\n",
    "grid.origin = (0, 0, 0)  # The bottom left corner of the data set\n",
    "\n",
    "grid.spacing = (1, 1, 1)  # These are the cell sizes along each axis\n",
    "grid.cell_arrays[\"values\"] =values.flatten(\"C\")\n",
    "grid.plot(show_edges=False,notebook = False)\n"
   ]
  },
  {
   "cell_type": "code",
   "execution_count": 2,
   "metadata": {},
   "outputs": [],
   "source": [
    "import pyvista as pv\n",
    "from GRDECL2VTK import *"
   ]
  },
  {
   "cell_type": "code",
   "execution_count": null,
   "metadata": {},
   "outputs": [],
   "source": []
  }
 ],
 "metadata": {
  "kernelspec": {
   "display_name": "Python [conda env:ABRM] *",
   "language": "python",
   "name": "conda-env-ABRM-py"
  },
  "language_info": {
   "codemirror_mode": {
    "name": "ipython",
    "version": 3
   },
   "file_extension": ".py",
   "mimetype": "text/x-python",
   "name": "python",
   "nbconvert_exporter": "python",
   "pygments_lexer": "ipython3",
   "version": "3.7.6"
  }
 },
 "nbformat": 4,
 "nbformat_minor": 2
}
