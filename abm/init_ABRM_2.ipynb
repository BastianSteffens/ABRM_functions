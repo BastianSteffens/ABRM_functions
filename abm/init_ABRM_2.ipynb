{
 "cells": [
  {
   "cell_type": "code",
   "execution_count": 1,
   "metadata": {},
   "outputs": [],
   "source": [
    "import numpy as np\n",
    "import random as rn\n",
    "import os \n",
    "from numpy.random import randint\n",
    "import pandas as pd\n",
    "import matplotlib.pyplot as plt\n",
    "import matplotlib.colorbar\n",
    "import matplotlib\n",
    "from mpl_toolkits.mplot3d import Axes3D\n",
    "from mpl_toolkits.axes_grid1 import make_axes_locatable\n",
    "from typing import NoReturn, Text\n",
    "import warnings\n",
    "import time\n",
    "# import pyvista as pv\n",
    "# from scipy.signal import find_peaks\n",
    "from celluloid import Camera\n",
    "from datetime import datetime\n",
    "\n",
    "warnings.simplefilter('ignore')\n",
    "warnings.filterwarnings('ignore')\n",
    "pd.set_option('display.max_columns', 500)\n",
    "pd.set_option('display.max_rows', 200)\n",
    "# pv.set_plot_theme(\"document\")\n",
    "%matplotlib inline\n",
    "\n",
    "from scipy.spatial import Voronoi\n",
    "import matplotlib.pyplot as plt\n",
    "from geovoronoi import voronoi_regions_from_coords\n",
    "from geovoronoi import polygon_lines_from_voronoi\n",
    "import shapely\n",
    "from shapely.geometry import Point\n",
    "from shapely.geometry import MultiPolygon\n",
    "from shapely.geometry import Polygon\n",
    "from descartes import PolygonPatch\n",
    "import numpy as np\n",
    "from shapely.geometry.polygon import LinearRing, Polygon\n",
    "# import pyvista as pv\n",
    "from matplotlib import cm\n",
    "import datetime\n"
   ]
  },
  {
   "cell_type": "code",
   "execution_count": 2,
   "metadata": {},
   "outputs": [],
   "source": [
    "#import local scripts\n",
    "from Agent import Agent\n",
    "from Model import Model\n",
    "from Grid import Grid"
   ]
  },
  {
   "cell_type": "code",
   "execution_count": 3,
   "metadata": {},
   "outputs": [],
   "source": [
    "## Set seed for random generation\n",
    "def seed_everything(seed : int) -> NoReturn :\n",
    "    \"\"\"To set the see for all potential random number usages. If you are using \n",
    "    any other package which might use seed for random generation add it here\"\"\"\n",
    "    rn.seed(seed)\n",
    "    np.random.seed(seed)\n",
    "    os.environ['PYTHONHASHSEED'] = str(seed)\n",
    "    #tf.random.set_seed(seed)  ##uncomment if you are using tensorflow\n",
    "    \n",
    "SEED = 3721286\n",
    "seed_everything(SEED)"
   ]
  },
  {
   "cell_type": "code",
   "execution_count": 4,
   "metadata": {},
   "outputs": [
    {
     "data": {
      "text/plain": [
       "[<matplotlib.lines.Line2D at 0x1eda2413708>]"
      ]
     },
     "execution_count": 4,
     "metadata": {},
     "output_type": "execute_result"
    },
    {
     "data": {
      "image/png": "[encoded data removed]",
      "text/plain": [
       "<Figure size 432x288 with 1 Axes>"
      ]
     },
     "metadata": {
      "needs_background": "light"
     },
     "output_type": "display_data"
    }
   ],
   "source": [
    "F_points_target = np.array([0, 0.7, 0.85, 0.9, 0.95, 0.96, 0.97, 0.98, 0.99, 0.999, 1])\n",
    "F_points_target = np.array([0, 0.3, 0.45, 0.6, 0.68, 0.75, 0.85, 0.9, 0.95, 0.98, 1])\n",
    "\n",
    "plt.plot(F_points_target)"
   ]
  },
  {
   "cell_type": "code",
   "execution_count": 109,
   "metadata": {},
   "outputs": [],
   "source": [
    "### set parameters \n",
    "TURNS = 40\n",
    "RATIOTRACKEDAGENTS = 1.\n",
    "all_vals_len = 200*100\n",
    "\n",
    "# set up TI_zone env\n",
    "# generate 2D mesh\n",
    "x = np.arange(0,200+1,1,)\n",
    "y = np.arange(0,100+1,1)\n",
    "x_grid, y_grid = np.meshgrid(x,y)\n",
    "#get cell centers of mesh\n",
    "x_cell_center = x_grid[:-1,:-1]+0.5\n",
    "y_cell_center = y_grid[:-1,:-1]+0.5\n",
    "TI_zones = []\n",
    "for y in range(x_cell_center.shape[0]):\n",
    "    for x in range(len(x_cell_center[1])):\n",
    "        if 70 <= x_cell_center[y,x] <=130:\n",
    "            TI_zones.append(1)\n",
    "        else:\n",
    "            TI_zones.append(0)\n",
    "TI_zones = np.array(TI_zones)\n",
    "TI_zones = TI_zones.reshape((200,100,1))\n",
    "\n",
    "# create curve and save resultign desired LC\n",
    "Phi_points_target = np.linspace(0, 1, num=11, endpoint=True)\n",
    "# F_points_target = np.array([0, 0.2, 0.35, 0.6, 0.65, 0.7, 0.8, 0.85, 0.9, 0.95, 1])\n",
    "F_points_target = np.array([0, 0.3, 0.45, 0.6, 0.68, 0.75, 0.8, 0.85, 0.9, 0.95, 1])\n",
    "\n",
    "output_folder = str(datetime.datetime.today().replace(microsecond= 0, second = 0).strftime(\"%Y_%m_%d_%H_%M\"))"
   ]
  },
  {
   "cell_type": "code",
   "execution_count": 110,
   "metadata": {
    "scrolled": true
   },
   "outputs": [
    {
     "name": "stdout",
     "output_type": "stream",
     "text": [
      "Shape of your environment: (200, 100, 1)\n",
      "=======loading training images=========\n",
      "Training images loaded! -  took 22.38 seconds\n",
      "=======Initiating grid=========\n",
      "Grid initiated! -  took 0.02 seconds\n",
      "generated new agent\n",
      "generated new agent\n",
      "generated new agent\n",
      "generated new agent\n",
      "generated new agent\n",
      "Misfit: 0.19913479685783386\n",
      "=======Turn 0========\n",
      "Moving agents done                  \n",
      "Generating agents done              \n",
      "Misfit: 0.291415274143219\n",
      "=======Turn 1========\n",
      "generated new agent\n",
      "Moving agents done                  \n",
      "Generating agents done              \n",
      "Misfit: 0.16331198811531067\n",
      "=======Turn 2========\n",
      "generated new agent\n",
      "Moving agents done                  \n",
      "Generating agents done              \n",
      "Misfit: 0.0926894098520279\n",
      "=======Turn 3========\n",
      "generated new agent\n",
      "random move          \n",
      "Moving agents done                  \n",
      "Generating agents done              \n",
      "Misfit: 0.1097584068775177\n",
      "=======Turn 4========\n",
      "generated new agent\n",
      "Moving agents done                  \n",
      "Generating agents done              \n",
      "Misfit: 0.09305409342050552\n",
      "=======Turn 5========\n",
      "generated new agent\n",
      "random move          \n",
      "Killed agent 7        \n",
      "agent removed from grid\n",
      "Moving agents done                  \n",
      "Generating agents done              \n",
      "Misfit: 0.09287501871585846\n",
      "=======Turn 6========\n",
      "generated new agent\n",
      "Moving agents done                  \n",
      "Generating agents done              \n",
      "Misfit: 0.07028435170650482\n",
      "=======Turn 7========\n",
      "generated new agent\n",
      "random move          \n",
      "Moving agents done                  \n",
      "Generating agents done              \n",
      "Misfit: 0.1873854547739029\n",
      "=======Turn 8========\n",
      "generated new agent\n",
      "random move          \n",
      "Moving agents done                  \n",
      "Generating agents done              \n",
      "Misfit: 0.17259100079536438\n",
      "=======Turn 9========\n",
      "generated new agent\n",
      "Moving agents done                  \n",
      "Generating agents done              \n",
      "Misfit: 0.09113050997257233\n",
      "=======Turn 10========\n",
      "generated new agent\n",
      "random move          \n",
      "Moving agents done                  \n",
      "Generating agents done              \n",
      "Misfit: 0.05969081446528435\n",
      "=======Turn 11========\n",
      "generated new agent\n",
      "Moving agents done                  \n",
      "Generating agents done              \n",
      "Misfit: 0.11966075003147125\n",
      "=======Turn 12========\n",
      "generated new agent\n",
      "Moving agents done                  \n",
      "Generating agents done              \n",
      "Misfit: 0.28851228952407837\n",
      "=======Turn 13========\n",
      "generated new agent\n",
      "Killed agent 15        \n",
      "agent removed from grid\n",
      "Moving agents done                  \n",
      "Generating agents done              \n",
      "Misfit: 0.21553128957748413\n",
      "=======Turn 14========\n",
      "generated new agent\n",
      "Moving agents done                  \n",
      "Generating agents done              \n",
      "Misfit: 0.20621567964553833\n",
      "=======Turn 15========\n",
      "generated new agent\n",
      "random move          \n",
      "Moving agents done                  \n",
      "Generating agents done              \n",
      "Misfit: 0.24313902854919434\n",
      "=======Turn 16========\n",
      "generated new agent\n",
      "random move          \n",
      "random move          \n",
      "Killed agent 16        \n",
      "agent removed from grid\n",
      "Moving agents done                  \n",
      "Generating agents done              \n",
      "Misfit: 0.0822584331035614\n",
      "=======Turn 17========\n",
      "generated new agent\n",
      "random move          \n",
      "Moving agents done                  \n",
      "Generating agents done              \n",
      "Misfit: 0.09497026354074478\n",
      "=======Turn 18========\n",
      "generated new agent\n",
      "random move          \n",
      "Moving agents done                  \n",
      "Generating agents done              \n",
      "Misfit: 0.16398431360721588\n",
      "=======Turn 19========\n",
      "generated new agent\n",
      "random move          \n",
      "random move          \n",
      "Moving agents done                  \n",
      "Generating agents done              \n",
      "Misfit: 0.16378997266292572\n",
      "=======Turn 20========\n",
      "generated new agent\n",
      "random move          \n",
      "Moving agents done                  \n",
      "Generating agents done              \n",
      "Misfit: 0.175324946641922\n",
      "=======Turn 21========\n",
      "generated new agent\n",
      "Moving agents done                  \n",
      "Generating agents done              \n",
      "Misfit: 0.1611713469028473\n",
      "=======Turn 22========\n",
      "generated new agent\n",
      "random move          \n",
      "random move          \n",
      "Moving agents done                  \n",
      "Generating agents done              \n",
      "Misfit: 0.1270066201686859\n",
      "=======Turn 23========\n",
      "generated new agent\n",
      "Moving agents done                  \n",
      "Generating agents done              \n",
      "Misfit: 0.12217488884925842\n",
      "=======Turn 24========\n",
      "generated new agent\n",
      "random move          \n",
      "random move          \n",
      "Moving agents done                  \n",
      "Generating agents done              \n",
      "Misfit: 0.18926499783992767\n",
      "=======Turn 25========\n",
      "generated new agent\n",
      "random move          \n",
      "random move          \n",
      "Moving agents done                  \n",
      "Generating agents done              \n",
      "Misfit: 0.10099241882562637\n",
      "=======Turn 26========\n",
      "generated new agent\n",
      "random move          \n",
      "random move          \n",
      "Moving agents done                  \n",
      "Generating agents done              \n",
      "Misfit: 0.1664573699235916\n",
      "=======Turn 27========\n",
      "generated new agent\n",
      "random move          \n",
      "Moving agents done                  \n",
      "Generating agents done              \n",
      "Misfit: 0.13851073384284973\n",
      "=======Turn 28========\n",
      "generated new agent\n",
      "random move          \n",
      "random move          \n",
      "random move          \n",
      "random move          \n",
      "Moving agents done                  \n",
      "Generating agents done              \n",
      "Misfit: 0.1401936560869217\n",
      "=======Turn 29========\n",
      "generated new agent\n",
      "random move          \n",
      "random move          \n",
      "Moving agents done                  \n",
      "Generating agents done              \n",
      "Misfit: 0.12908047437667847\n",
      "=======Turn 30========\n",
      "generated new agent\n",
      "Moving agents done                  \n",
      "Generating agents done              \n",
      "Misfit: 0.16277042031288147\n",
      "=======Turn 31========\n",
      "generated new agent\n",
      "random move          \n",
      "Moving agents done                  \n",
      "Generating agents done              \n",
      "Misfit: 0.13522322475910187\n",
      "=======Turn 32========\n",
      "generated new agent\n",
      "random move          \n",
      "random move          \n",
      "random move          \n",
      "Moving agents done                  \n",
      "Generating agents done              \n",
      "Misfit: 0.12238404154777527\n",
      "=======Turn 33========\n",
      "generated new agent\n",
      "Killed agent 2        \n",
      "agent removed from grid\n",
      "random move          \n",
      "Moving agents done                  \n",
      "Generating agents done              \n",
      "Misfit: 0.16787324845790863\n",
      "=======Turn 34========\n",
      "generated new agent\n",
      "random move          \n",
      "Moving agents done                  \n",
      "Generating agents done              \n",
      "Misfit: 0.13579553365707397\n",
      "=======Turn 35========\n",
      "generated new agent\n",
      "random move          \n",
      "random move          \n",
      "Moving agents done                  \n",
      "Generating agents done              \n",
      "Misfit: 0.14116612076759338\n",
      "=======Turn 36========\n",
      "generated new agent\n",
      "random move          \n",
      "random move          \n",
      "Moving agents done                  \n",
      "Generating agents done              \n",
      "Misfit: 0.1625392884016037\n",
      "=======Turn 37========\n",
      "generated new agent\n",
      "random move          \n",
      "Moving agents done                  \n",
      "Generating agents done              \n",
      "Misfit: 0.09773818403482437\n",
      "=======Turn 38========\n",
      "generated new agent\n",
      "random move          \n",
      "Moving agents done                  \n",
      "Generating agents done              \n",
      "Misfit: 0.07929538935422897\n",
      "=======Turn 39========\n",
      "generated new agent\n",
      "random move          \n",
      "Killed agent 19        \n",
      "agent removed from grid\n",
      "Moving agents done                  \n",
      "Generating agents done              \n",
      "Misfit: 0.1592596173286438\n",
      "Simulation took 58830.61 seconds\n",
      "    AgentID  Start_x  Start_y  Start_z  End_x  End_y  End_z   misfit\n",
      "0         0       26       44        0   45.0   24.0    0.0  0.15926\n",
      "1         1       13       98        0   22.0   52.0    0.0  0.15926\n",
      "2         3      170        2        0  198.0   14.0    0.0  0.15926\n",
      "3         4       86       51        0  135.0   20.0    0.0  0.15926\n",
      "4         5      147       45        0  117.0   68.0    0.0  0.15926\n",
      "5         6       53       17        0   45.0   17.0    0.0  0.15926\n",
      "6         8      120       45        0  140.0   45.0    0.0  0.15926\n",
      "7         9      103       55        0  140.0   52.0    0.0  0.15926\n",
      "8        10      174       90        0  171.0   78.0    0.0  0.15926\n",
      "9        11      164        9        0  131.0    8.0    0.0  0.15926\n",
      "10       12       64       74        0   73.0   56.0    0.0  0.15926\n",
      "11       13       70       29        0   74.0   28.0    0.0  0.15926\n",
      "12       14      141       74        0  108.0   66.0    0.0  0.15926\n",
      "13       17       14       62        0   20.0   87.0    0.0  0.15926\n",
      "14       18        4       85        0   10.0   90.0    0.0  0.15926\n",
      "15       20      104       43        0   76.0   23.0    0.0  0.15926\n",
      "16       21      191       92        0  193.0   67.0    0.0  0.15926\n",
      "17       22      181       41        0  171.0   71.0    0.0  0.15926\n",
      "18       23       87       85        0   98.0   92.0    0.0  0.15926\n",
      "19       24      148       79        0  156.0   77.0    0.0  0.15926\n"
     ]
    }
   ],
   "source": [
    "t1 = time.time()\n",
    "\n",
    "model = Model(env = TI_zones, \n",
    "              number_of_turns=TURNS, number_of_starting_agents = 5,new_agent_every_n_turns = 1,max_number_agents = 150,\n",
    "              ratio_of_tracked_agents = 1.,number_training_image_zones = 2, number_training_images_per_zone = 20,output_folder = output_folder,\n",
    "              Phi_points_target=Phi_points_target,F_points_target=F_points_target,max_number_of_position_tests = 5 ,n_processes = None,neighbourhood_radius = 10, neighbourhood_search_step_size = 1,\n",
    "             )\n",
    "model.run()\n",
    "print(\"Simulation took {0:2.2f} seconds\".format(time.time()-t1))\n",
    "test_df =model.get_final_results()\n",
    "print(test_df.head(20))"
   ]
  },
  {
   "cell_type": "code",
   "execution_count": 107,
   "metadata": {},
   "outputs": [
    {
     "data": {
      "text/plain": [
       "40"
      ]
     },
     "execution_count": 107,
     "metadata": {},
     "output_type": "execute_result"
    }
   ],
   "source": [
    "n_agents = np.array([25,26,27,28,29,29,30,31,32,33,34,35,36,37,38,38,39,40,41,42,43,44,45,46,47,48,49,49,49,50,51,52,53,54,55,56,57,58,59,60])\n",
    "len(n_agents)"
   ]
  },
  {
   "cell_type": "code",
   "execution_count": 106,
   "metadata": {},
   "outputs": [
    {
     "data": {
      "text/plain": [
       "Text(0.5, 0, 'iteration')"
      ]
     },
     "execution_count": 106,
     "metadata": {},
     "output_type": "execute_result"
    },
    {
     "data": {
      "image/png": "[encoded data removed]",
      "text/plain": [
       "<Figure size 432x288 with 1 Axes>"
      ]
     },
     "metadata": {
      "needs_background": "light"
     },
     "output_type": "display_data"
    }
   ],
   "source": [
    "misfit = np.array([0.11,0.15,0.21,0.14,0.13,0.14,0.09,0.16,0.13,0.12,0.12,0.1,0.1,0.08,0.08,0.13,0.19,0.1,0.15,0.23,0.09,0.15,0.1,0.15,0.1,0.07,0.05,0.12,0.13,0.19,0.09,0.05,0.05,0.08,0.1,0.09,0.07,0.12,0.08,0.07])\n",
    "\n",
    "plt.plot(misfit,\".\",markersize = 10)\n",
    "plt.ylabel(\"misfit\")\n",
    "plt.xlabel(\"iteration\")"
   ]
  },
  {
   "cell_type": "code",
   "execution_count": 108,
   "metadata": {
    "scrolled": true
   },
   "outputs": [
    {
     "data": {
      "text/plain": [
       "Text(0.5, 0, 'iteration')"
      ]
     },
     "execution_count": 108,
     "metadata": {},
     "output_type": "execute_result"
    },
    {
     "data": {
      "image/png": "[encoded data removed]",
      "text/plain": [
       "<Figure size 432x288 with 1 Axes>"
      ]
     },
     "metadata": {
      "needs_background": "light"
     },
     "output_type": "display_data"
    }
   ],
   "source": [
    "plt.plot(n_agents,\".\",markersize = 10,c = \"red\")\n",
    "plt.ylabel(\"n_agents\")\n",
    "plt.xlabel(\"iteration\")"
   ]
  },
  {
   "cell_type": "code",
   "execution_count": 111,
   "metadata": {},
   "outputs": [
    {
     "data": {
      "text/plain": [
       "array([[2.60000000e+01, 4.40000000e+01, 0.00000000e+00, 0.00000000e+00,\n",
       "        0.00000000e+00, 1.70000000e+01, 1.99134797e-01],\n",
       "       [2.70000000e+01, 4.40000000e+01, 0.00000000e+00, 0.00000000e+00,\n",
       "        0.00000000e+00, 1.80000000e+01, 2.91415274e-01],\n",
       "       [2.30000000e+01, 4.30000000e+01, 0.00000000e+00, 0.00000000e+00,\n",
       "        0.00000000e+00, 1.80000000e+01, 1.63311988e-01],\n",
       "       [2.70000000e+01, 3.70000000e+01, 0.00000000e+00, 0.00000000e+00,\n",
       "        0.00000000e+00, 1.80000000e+01, 9.26894099e-02],\n",
       "       [3.30000000e+01, 3.40000000e+01, 0.00000000e+00, 0.00000000e+00,\n",
       "        0.00000000e+00, 2.00000000e+00, 1.09758407e-01],\n",
       "       [3.20000000e+01, 3.10000000e+01, 0.00000000e+00, 0.00000000e+00,\n",
       "        0.00000000e+00, 1.00000000e+00, 9.30540934e-02],\n",
       "       [3.60000000e+01, 3.30000000e+01, 0.00000000e+00, 0.00000000e+00,\n",
       "        0.00000000e+00, 1.60000000e+01, 9.28750187e-02],\n",
       "       [3.00000000e+01, 3.20000000e+01, 0.00000000e+00, 0.00000000e+00,\n",
       "        0.00000000e+00, 1.70000000e+01, 7.02843517e-02],\n",
       "       [3.10000000e+01, 2.90000000e+01, 0.00000000e+00, 0.00000000e+00,\n",
       "        0.00000000e+00, 1.70000000e+01, 1.87385455e-01],\n",
       "       [3.70000000e+01, 3.20000000e+01, 0.00000000e+00, 0.00000000e+00,\n",
       "        0.00000000e+00, 1.00000000e+00, 1.72591001e-01],\n",
       "       [4.10000000e+01, 3.10000000e+01, 0.00000000e+00, 0.00000000e+00,\n",
       "        0.00000000e+00, 1.50000000e+01, 9.11305100e-02],\n",
       "       [3.50000000e+01, 2.70000000e+01, 0.00000000e+00, 0.00000000e+00,\n",
       "        0.00000000e+00, 3.00000000e+00, 5.96908145e-02],\n",
       "       [3.80000000e+01, 2.60000000e+01, 0.00000000e+00, 0.00000000e+00,\n",
       "        0.00000000e+00, 1.20000000e+01, 1.19660750e-01],\n",
       "       [3.80000000e+01, 1.70000000e+01, 0.00000000e+00, 0.00000000e+00,\n",
       "        0.00000000e+00, 1.20000000e+01, 2.88512290e-01],\n",
       "       [3.70000000e+01, 2.50000000e+01, 0.00000000e+00, 0.00000000e+00,\n",
       "        0.00000000e+00, 1.20000000e+01, 2.15531290e-01],\n",
       "       [4.00000000e+01, 3.10000000e+01, 0.00000000e+00, 0.00000000e+00,\n",
       "        0.00000000e+00, 1.20000000e+01, 2.06215680e-01],\n",
       "       [4.00000000e+01, 2.50000000e+01, 0.00000000e+00, 0.00000000e+00,\n",
       "        0.00000000e+00, 1.20000000e+01, 2.43139029e-01],\n",
       "       [4.50000000e+01, 2.70000000e+01, 0.00000000e+00, 0.00000000e+00,\n",
       "        0.00000000e+00, 1.20000000e+01, 8.22584331e-02],\n",
       "       [4.50000000e+01, 2.40000000e+01, 0.00000000e+00, 0.00000000e+00,\n",
       "        0.00000000e+00, 1.20000000e+01, 9.49702635e-02],\n",
       "       [3.90000000e+01, 2.00000000e+01, 0.00000000e+00, 0.00000000e+00,\n",
       "        0.00000000e+00, 1.20000000e+01, 1.63984314e-01],\n",
       "       [4.00000000e+01, 2.10000000e+01, 0.00000000e+00, 0.00000000e+00,\n",
       "        0.00000000e+00, 1.20000000e+01, 1.63789973e-01],\n",
       "       [4.30000000e+01, 1.90000000e+01, 0.00000000e+00, 0.00000000e+00,\n",
       "        0.00000000e+00, 1.20000000e+01, 1.75324947e-01],\n",
       "       [4.50000000e+01, 2.30000000e+01, 0.00000000e+00, 0.00000000e+00,\n",
       "        0.00000000e+00, 1.20000000e+01, 1.61171347e-01],\n",
       "       [4.40000000e+01, 2.10000000e+01, 0.00000000e+00, 0.00000000e+00,\n",
       "        0.00000000e+00, 1.20000000e+01, 1.27006620e-01],\n",
       "       [5.20000000e+01, 2.10000000e+01, 0.00000000e+00, 0.00000000e+00,\n",
       "        0.00000000e+00, 1.20000000e+01, 1.22174889e-01],\n",
       "       [5.80000000e+01, 2.30000000e+01, 0.00000000e+00, 0.00000000e+00,\n",
       "        0.00000000e+00, 1.00000000e+01, 1.89264998e-01],\n",
       "       [5.80000000e+01, 3.20000000e+01, 0.00000000e+00, 0.00000000e+00,\n",
       "        0.00000000e+00, 1.20000000e+01, 1.00992419e-01],\n",
       "       [6.10000000e+01, 3.00000000e+01, 0.00000000e+00, 0.00000000e+00,\n",
       "        0.00000000e+00, 9.00000000e+00, 1.66457370e-01],\n",
       "       [6.40000000e+01, 2.60000000e+01, 0.00000000e+00, 0.00000000e+00,\n",
       "        0.00000000e+00, 9.00000000e+00, 1.38510734e-01],\n",
       "       [6.60000000e+01, 2.90000000e+01, 0.00000000e+00, 0.00000000e+00,\n",
       "        0.00000000e+00, 1.00000000e+00, 1.40193656e-01],\n",
       "       [6.40000000e+01, 2.50000000e+01, 0.00000000e+00, 0.00000000e+00,\n",
       "        0.00000000e+00, 1.00000000e+00, 1.29080474e-01],\n",
       "       [5.60000000e+01, 2.70000000e+01, 0.00000000e+00, 0.00000000e+00,\n",
       "        0.00000000e+00, 0.00000000e+00, 1.62770420e-01],\n",
       "       [5.60000000e+01, 3.60000000e+01, 0.00000000e+00, 0.00000000e+00,\n",
       "        0.00000000e+00, 0.00000000e+00, 1.35223225e-01],\n",
       "       [5.70000000e+01, 2.70000000e+01, 0.00000000e+00, 0.00000000e+00,\n",
       "        0.00000000e+00, 0.00000000e+00, 1.22384042e-01],\n",
       "       [5.90000000e+01, 2.00000000e+01, 0.00000000e+00, 0.00000000e+00,\n",
       "        0.00000000e+00, 1.00000000e+00, 1.67873248e-01],\n",
       "       [6.00000000e+01, 2.50000000e+01, 0.00000000e+00, 0.00000000e+00,\n",
       "        0.00000000e+00, 1.00000000e+00, 1.35795534e-01],\n",
       "       [6.20000000e+01, 3.10000000e+01, 0.00000000e+00, 0.00000000e+00,\n",
       "        0.00000000e+00, 1.00000000e+00, 1.41166121e-01],\n",
       "       [5.80000000e+01, 2.50000000e+01, 0.00000000e+00, 0.00000000e+00,\n",
       "        0.00000000e+00, 1.00000000e+00, 1.62539288e-01],\n",
       "       [4.90000000e+01, 2.60000000e+01, 0.00000000e+00, 0.00000000e+00,\n",
       "        0.00000000e+00, 1.00000000e+00, 9.77381840e-02],\n",
       "       [4.40000000e+01, 2.90000000e+01, 0.00000000e+00, 0.00000000e+00,\n",
       "        0.00000000e+00, 0.00000000e+00, 7.92953894e-02],\n",
       "       [4.50000000e+01, 2.40000000e+01, 0.00000000e+00, 0.00000000e+00,\n",
       "        0.00000000e+00, 0.00000000e+00, 1.59259617e-01]])"
      ]
     },
     "execution_count": 111,
     "metadata": {},
     "output_type": "execute_result"
    }
   ],
   "source": [
    "tracker = model.get_all_tracks()\n",
    "tracker[0]"
   ]
  },
  {
   "cell_type": "code",
   "execution_count": 160,
   "metadata": {},
   "outputs": [
    {
     "data": {
      "text/plain": [
       "[<matplotlib.lines.Line2D at 0x1eda9cd2408>]"
      ]
     },
     "execution_count": 160,
     "metadata": {},
     "output_type": "execute_result"
    },
    {
     "data": {
      "image/png": "[encoded data removed]",
      "text/plain": [
       "<Figure size 432x288 with 1 Axes>"
      ]
     },
     "metadata": {
      "needs_background": "light"
     },
     "output_type": "display_data"
    }
   ],
   "source": [
    "TI_no = []\n",
    "for agent in model.active_agents:\n",
    "    TI_no.append(agent.TI_no)\n",
    "plt.plot(TI_no)"
   ]
  },
  {
   "cell_type": "code",
   "execution_count": 162,
   "metadata": {},
   "outputs": [
    {
     "data": {
      "text/plain": [
       "5"
      ]
     },
     "execution_count": 162,
     "metadata": {},
     "output_type": "execute_result"
    }
   ],
   "source": [
    "len(model.dead_agents)"
   ]
  },
  {
   "cell_type": "code",
   "execution_count": 112,
   "metadata": {},
   "outputs": [
    {
     "data": {
      "text/plain": [
       "array([[           nan,            nan,            nan,            nan,\n",
       "                   nan,            nan,            nan],\n",
       "       [           nan,            nan,            nan,            nan,\n",
       "                   nan,            nan,            nan],\n",
       "       [1.42000000e+02, 4.70000000e+01, 0.00000000e+00, 0.00000000e+00,\n",
       "        0.00000000e+00, 1.60000000e+01, 1.63311988e-01],\n",
       "       [1.39000000e+02, 5.20000000e+01, 0.00000000e+00, 0.00000000e+00,\n",
       "        0.00000000e+00, 2.00000000e+00, 9.26894099e-02],\n",
       "       [1.42000000e+02, 5.80000000e+01, 0.00000000e+00, 0.00000000e+00,\n",
       "        0.00000000e+00, 5.00000000e+00, 1.09758407e-01],\n",
       "       [1.38000000e+02, 5.30000000e+01, 0.00000000e+00, 0.00000000e+00,\n",
       "        0.00000000e+00, 5.00000000e+00, 9.30540934e-02],\n",
       "       [1.36000000e+02, 5.60000000e+01, 0.00000000e+00, 0.00000000e+00,\n",
       "        0.00000000e+00, 5.00000000e+00, 9.28750187e-02],\n",
       "       [1.30000000e+02, 5.30000000e+01, 0.00000000e+00, 0.00000000e+00,\n",
       "        0.00000000e+00, 2.00000000e+00, 7.02843517e-02],\n",
       "       [1.25000000e+02, 5.70000000e+01, 0.00000000e+00, 0.00000000e+00,\n",
       "        0.00000000e+00, 2.00000000e+00, 1.87385455e-01],\n",
       "       [1.26000000e+02, 6.60000000e+01, 0.00000000e+00, 0.00000000e+00,\n",
       "        0.00000000e+00, 2.00000000e+00, 1.72591001e-01],\n",
       "       [1.28000000e+02, 6.00000000e+01, 0.00000000e+00, 0.00000000e+00,\n",
       "        0.00000000e+00, 3.00000000e+00, 9.11305100e-02],\n",
       "       [1.24000000e+02, 6.60000000e+01, 0.00000000e+00, 1.00000000e+00,\n",
       "        0.00000000e+00, 4.00000000e+00, 5.96908145e-02],\n",
       "       [1.31000000e+02, 6.70000000e+01, 0.00000000e+00, 0.00000000e+00,\n",
       "        1.00000000e+00, 4.00000000e+00, 1.19660750e-01],\n",
       "       [1.22000000e+02, 6.80000000e+01, 0.00000000e+00, 1.00000000e+00,\n",
       "        0.00000000e+00, 1.20000000e+01, 2.88512290e-01],\n",
       "       [1.17000000e+02, 7.20000000e+01, 0.00000000e+00, 1.00000000e+00,\n",
       "        1.00000000e+00, 1.20000000e+01, 2.15531290e-01],\n",
       "       [1.16000000e+02, 7.60000000e+01, 0.00000000e+00, 1.00000000e+00,\n",
       "        1.00000000e+00, 1.10000000e+01, 2.06215680e-01],\n",
       "       [1.18000000e+02, 7.60000000e+01, 0.00000000e+00, 1.00000000e+00,\n",
       "        1.00000000e+00, 1.70000000e+01, 2.43139029e-01],\n",
       "       [1.16000000e+02, 7.50000000e+01, 0.00000000e+00, 1.00000000e+00,\n",
       "        1.00000000e+00, 2.00000000e+00, 8.22584331e-02],\n",
       "       [1.18000000e+02, 7.90000000e+01, 0.00000000e+00, 1.00000000e+00,\n",
       "        1.00000000e+00, 1.30000000e+01, 9.49702635e-02],\n",
       "       [1.10000000e+02, 7.90000000e+01, 0.00000000e+00, 1.00000000e+00,\n",
       "        1.00000000e+00, 1.40000000e+01, 1.63984314e-01],\n",
       "       [1.13000000e+02, 8.50000000e+01, 0.00000000e+00, 1.00000000e+00,\n",
       "        1.00000000e+00, 2.00000000e+00, 1.63789973e-01],\n",
       "       [1.20000000e+02, 8.70000000e+01, 0.00000000e+00, 1.00000000e+00,\n",
       "        1.00000000e+00, 2.00000000e+00, 1.75324947e-01],\n",
       "       [1.21000000e+02, 8.70000000e+01, 0.00000000e+00, 1.00000000e+00,\n",
       "        1.00000000e+00, 1.20000000e+01, 1.61171347e-01],\n",
       "       [1.24000000e+02, 8.70000000e+01, 0.00000000e+00, 1.00000000e+00,\n",
       "        1.00000000e+00, 1.20000000e+01, 1.27006620e-01],\n",
       "       [1.27000000e+02, 8.00000000e+01, 0.00000000e+00, 1.00000000e+00,\n",
       "        1.00000000e+00, 1.90000000e+01, 1.22174889e-01],\n",
       "       [1.33000000e+02, 7.60000000e+01, 0.00000000e+00, 0.00000000e+00,\n",
       "        1.00000000e+00, 1.90000000e+01, 1.89264998e-01],\n",
       "       [1.41000000e+02, 7.50000000e+01, 0.00000000e+00, 0.00000000e+00,\n",
       "        0.00000000e+00, 1.80000000e+01, 1.00992419e-01],\n",
       "       [1.36000000e+02, 7.80000000e+01, 0.00000000e+00, 0.00000000e+00,\n",
       "        1.00000000e+00, 1.20000000e+01, 1.66457370e-01],\n",
       "       [1.32000000e+02, 8.00000000e+01, 0.00000000e+00, 0.00000000e+00,\n",
       "        0.00000000e+00, 1.40000000e+01, 1.38510734e-01],\n",
       "       [1.30000000e+02, 7.80000000e+01, 0.00000000e+00, 0.00000000e+00,\n",
       "        0.00000000e+00, 2.00000000e+00, 1.40193656e-01],\n",
       "       [1.30000000e+02, 8.50000000e+01, 0.00000000e+00, 1.00000000e+00,\n",
       "        0.00000000e+00, 1.60000000e+01, 1.29080474e-01],\n",
       "       [1.34000000e+02, 8.50000000e+01, 0.00000000e+00, 0.00000000e+00,\n",
       "        1.00000000e+00, 1.40000000e+01, 1.62770420e-01],\n",
       "       [1.29000000e+02, 8.80000000e+01, 0.00000000e+00, 1.00000000e+00,\n",
       "        0.00000000e+00, 6.00000000e+00, 1.35223225e-01],\n",
       "       [1.35000000e+02, 8.60000000e+01, 0.00000000e+00, 0.00000000e+00,\n",
       "        1.00000000e+00, 1.40000000e+01, 1.22384042e-01],\n",
       "       [1.33000000e+02, 8.70000000e+01, 0.00000000e+00, 0.00000000e+00,\n",
       "        0.00000000e+00, 1.30000000e+01, 1.67873248e-01],\n",
       "       [1.32000000e+02, 8.60000000e+01, 0.00000000e+00, 1.00000000e+00,\n",
       "        0.00000000e+00, 1.40000000e+01, 1.35795534e-01],\n",
       "       [1.29000000e+02, 8.20000000e+01, 0.00000000e+00, 1.00000000e+00,\n",
       "        1.00000000e+00, 1.40000000e+01, 1.41166121e-01],\n",
       "       [1.31000000e+02, 7.60000000e+01, 0.00000000e+00, 0.00000000e+00,\n",
       "        1.00000000e+00, 1.40000000e+01, 1.62539288e-01],\n",
       "       [1.24000000e+02, 7.30000000e+01, 0.00000000e+00, 1.00000000e+00,\n",
       "        0.00000000e+00, 1.70000000e+01, 9.77381840e-02],\n",
       "       [1.19000000e+02, 7.10000000e+01, 0.00000000e+00, 1.00000000e+00,\n",
       "        1.00000000e+00, 1.60000000e+01, 7.92953894e-02],\n",
       "       [1.17000000e+02, 6.80000000e+01, 0.00000000e+00, 1.00000000e+00,\n",
       "        1.00000000e+00, 1.50000000e+01, 1.59259617e-01]])"
      ]
     },
     "execution_count": 112,
     "metadata": {},
     "output_type": "execute_result"
    }
   ],
   "source": [
    "tracker[5]"
   ]
  },
  {
   "cell_type": "code",
   "execution_count": 113,
   "metadata": {},
   "outputs": [],
   "source": [
    "iteration=[]\n",
    "for turns in range(TURNS+1):\n",
    "    agent_pos = []\n",
    "    for agent_id in range(model.current_id+1):\n",
    "        agent_pos.append(tracker[agent_id][turns][0:6])\n",
    "    \n",
    "    iteration.append(agent_pos)\n",
    "iteration = np.array(iteration)\n"
   ]
  },
  {
   "cell_type": "code",
   "execution_count": 114,
   "metadata": {},
   "outputs": [
    {
     "data": {
      "text/plain": [
       "(1.0, 0.5925925925925927, 0.0, 1.0)"
      ]
     },
     "execution_count": 114,
     "metadata": {},
     "output_type": "execute_result"
    }
   ],
   "source": [
    "N = 50\n",
    "# define the colormap\n",
    "cmap = plt.cm.jet\n",
    "# extract all colors from the .jet map\n",
    "cmaplist = [cmap(i) for i in range(cmap.N)]\n",
    "# create the new map\n",
    "cmap = cmap.from_list('Custom cmap', cmaplist, cmap.N)\n",
    "viridis = cm.get_cmap('jet', 5)\n",
    "viridis(3)"
   ]
  },
  {
   "cell_type": "code",
   "execution_count": 115,
   "metadata": {},
   "outputs": [],
   "source": [
    "grid = Polygon([(0, 0), (0, 100), (200, 100), (200, 0)])\n"
   ]
  },
  {
   "cell_type": "code",
   "execution_count": 116,
   "metadata": {},
   "outputs": [
    {
     "data": {
      "text/plain": [
       "(0.0, 100.0)"
      ]
     },
     "execution_count": 116,
     "metadata": {},
     "output_type": "execute_result"
    },
    {
     "data": {
      "image/png": "[encoded data removed]",
      "text/plain": [
       "<Figure size 432x288 with 1 Axes>"
      ]
     },
     "metadata": {
      "needs_background": "light"
     },
     "output_type": "display_data"
    }
   ],
   "source": [
    "# generate 2D mesh\n",
    "x = np.arange(0,200+1,1,)\n",
    "y = np.arange(0,100+1,1)\n",
    "x_grid, y_grid = np.meshgrid(x,y)\n",
    "# get cell center\n",
    "x_cell_center = x_grid[:-1,:-1]+0.5\n",
    "y_cell_center = y_grid[:-1,:-1]+0.5\n",
    "cell_center_which_polygon = np.zeros(len(x_cell_center.flatten()))\n",
    "which_TI_zone = np.zeros(len(x_cell_center.flatten()))\n",
    "# array to assign polygon to cell id\n",
    "all_cell_center = np.column_stack((x_cell_center.flatten(),y_cell_center.flatten(),cell_center_which_polygon,which_TI_zone))\n",
    "plt.scatter(x_cell_center,y_cell_center, c = TI_zones,cmap=viridis)\n",
    "plt.title(\"Voronoi Polygons to Grid\")\n",
    "plt.xlim([0,200])\n",
    "plt.ylim([0,100])"
   ]
  },
  {
   "cell_type": "code",
   "execution_count": 117,
   "metadata": {},
   "outputs": [
    {
     "data": {
      "text/plain": [
       "(0.0, 100.0)"
      ]
     },
     "execution_count": 117,
     "metadata": {},
     "output_type": "execute_result"
    },
    {
     "data": {
      "image/png": "[encoded data removed]",
      "text/plain": [
       "<Figure size 432x288 with 1 Axes>"
      ]
     },
     "metadata": {
      "needs_background": "light"
     },
     "output_type": "display_data"
    }
   ],
   "source": [
    "# in what voronoi polygon do cell centers plot\n",
    "for i in range(len(all_cell_center)):\n",
    "    for voronoi_polygon_id in range(len(poly_shapes)):\n",
    "        \n",
    "        polygon = poly_shapes[voronoi_polygon_id]\n",
    "        cell_id = Point(all_cell_center[i,0],all_cell_center[i,1])\n",
    "        \n",
    "        if polygon.intersects(cell_id):\n",
    "            all_cell_center[i,2] = voronoi_polygon_id\n",
    "\n",
    "plt.scatter(x_cell_center,y_cell_center, c = all_cell_center[:,2])\n",
    "plt.title(\"Voronoi Polygons to Grid\")\n",
    "plt.xlim([0,200])\n",
    "plt.ylim([0,100])\n"
   ]
  },
  {
   "cell_type": "code",
   "execution_count": 118,
   "metadata": {},
   "outputs": [
    {
     "data": {
      "text/plain": [
       "59"
      ]
     },
     "execution_count": 118,
     "metadata": {},
     "output_type": "execute_result"
    }
   ],
   "source": [
    "len(poly_shapes)"
   ]
  },
  {
   "cell_type": "code",
   "execution_count": 119,
   "metadata": {},
   "outputs": [
    {
     "data": {
      "image/png": "[encoded data removed]",
      "text/plain": [
       "<Figure size 450x450 with 1 Axes>"
      ]
     },
     "metadata": {
      "needs_background": "light"
     },
     "output_type": "display_data"
    }
   ],
   "source": [
    "fig = plt.figure(1, figsize=(5,5), dpi=90)\n",
    "color = [\"red\",\"blue\",\"green\",\"black\"]#,\"yellow\",\"red\",\"blue\",\"green\",\"black\",\"yellow\",\"red\",\"blue\",\"green\",\"black\",\"yellow\"]\n",
    "# color = 100*np.random.randint(n_voronoi)\n",
    "N = 15\n",
    "# define the colormap\n",
    "cmap = plt.cm.jet\n",
    "# extract all colors from the .jet map\n",
    "cmaplist = [cmap(i) for i in range(cmap.N)]\n",
    "# create the new map\n",
    "cmap = cmap.from_list('Custom cmap', cmaplist, cmap.N)\n",
    "# define the bins and normalize\n",
    "bounds = np.linspace(0,N,N+1)\n",
    "norm = matplotlib.colors.BoundaryNorm(bounds, cmap.N)\n",
    "ax = fig.add_subplot(111)\n",
    "# for i in range(len(poly_shapes)):\n",
    "for i in range(1):\n",
    "    TI_id = int(zone[i])\n",
    "    ring_patch = PolygonPatch(poly_shapes[i], facecolor = color[TI_id])# viridis(TI_id))\n",
    "    ax.add_patch(ring_patch)\n",
    "    ax.set_title('Voronoi tesselation')\n",
    "    xrange = [0, 200]\n",
    "    yrange = [0, 100]\n",
    "    ax.set_xlim(*xrange)\n",
    "    ax.set_ylim(*yrange)\n",
    "    ax.set_aspect(1)\n",
    "\n",
    "\n",
    "# plt.xlim([0,10])\n",
    "# plt.ylim([0,10])"
   ]
  },
  {
   "cell_type": "code",
   "execution_count": 206,
   "metadata": {},
   "outputs": [],
   "source": [
    "color_steps = np.linspace(0.15,1,20)\n",
    "cmap_blues = matplotlib.cm.get_cmap('Blues')\n",
    "cmap_greens = matplotlib.cm.get_cmap('Greens')\n",
    "\n",
    "color_greens = []\n",
    "color_blues = []\n",
    "for i in range(len(color_steps)):\n",
    "    color_blues.append(cmap_blues(color_steps[i]))\n",
    "    color_greens.append(cmap_greens(color_steps[i]))"
   ]
  },
  {
   "cell_type": "code",
   "execution_count": 207,
   "metadata": {},
   "outputs": [
    {
     "data": {
      "image/png": "[encoded data removed]",
      "text/plain": [
       "<Figure size 450x450 with 1 Axes>"
      ]
     },
     "metadata": {
      "needs_background": "light"
     },
     "output_type": "display_data"
    }
   ],
   "source": [
    "%matplotlib inline\n",
    "iter_to_display = 25\n",
    "\n",
    "# extract voronoi point and TI_zone affiliated with them\n",
    "voronoi_points = np.vstack((iteration[iter_to_display][:,0],iteration[iter_to_display][:,1])).T\n",
    "voronoi_points = voronoi_points[~np.isnan(voronoi_points).any(axis=1)]\n",
    "\n",
    "zone = iteration[iter_to_display][:,5]\n",
    "zone = zone[~np.isnan(zone)]\n",
    "TI_zone_used = iteration[iter_to_display][:,4]\n",
    "TI_zone_used = TI_zone_used[~np.isnan(TI_zone_used)]\n",
    "\n",
    "# zone[-1]=zone[-2]\n",
    "# get voronoi regions\n",
    "poly_shapes, pts, poly_to_pt_assignments = voronoi_regions_from_coords(voronoi_points, grid)\n",
    "# get polygons back into correct order with zip and sorted\n",
    "poly_to_point = []\n",
    "for i in range(len(poly_to_pt_assignments)):\n",
    "    poly_to_point.append(poly_to_pt_assignments[i][0])\n",
    "zipped_lists = zip(poly_to_point,poly_shapes)\n",
    "sorted_zipped_lists = sorted(zipped_lists)\n",
    "poly_shapes = [element for _, element in sorted_zipped_lists]\n",
    "fig = plt.figure(1, figsize=(5,5), dpi=90)\n",
    "# color = [\"Green\",\"Yellow\",\"Blue\",\"Azure\",\"Red\",\"Black\",\"Brown\",\"White\",\"Ivory\",\"Teal\",\"Silver\",\"Gray\",\"Purple\",\"Orange\",\"Maroon\",\"Lime\",\"Aquamarine\",\"Coral\",\"Wheat\",\"Crimson\"]\n",
    "\n",
    "# color = 100*np.random.randint(len(voronoi_points))\n",
    "# viridis = cm.get_cmap('viridis', model.current_id+1)\n",
    "\n",
    "ax = fig.add_subplot(111)\n",
    "for j in range(len(poly_shapes)):\n",
    "    if TI_zone_used[j] == 0:\n",
    "        color = color_blues\n",
    "    else:\n",
    "        color = color_greens\n",
    "    TI_id = int(zone[j])\n",
    "    ring_patch = PolygonPatch(poly_shapes[j], facecolor =  color[TI_id])\n",
    "    ax.add_patch(ring_patch)\n",
    "    ax.set_title('Voronoi tesselation')\n",
    "    xrange = [0, 200]\n",
    "    yrange = [0, 100]\n",
    "    ax.set_xlim(*xrange)\n",
    "    ax.set_ylim(*yrange)\n",
    "    ax.set_aspect(1)\n",
    "\n"
   ]
  },
  {
   "cell_type": "code",
   "execution_count": 205,
   "metadata": {},
   "outputs": [
    {
     "data": {
      "text/plain": [
       "array([0., 0., 0., 0., 1., 1., 0., 0., 0., 0., 0., 1., 0., 0., 0., 0., 1.,\n",
       "       1., 0., 0., 1., 0., 0., 0., 0., 1.])"
      ]
     },
     "execution_count": 205,
     "metadata": {},
     "output_type": "execute_result"
    }
   ],
   "source": [
    "zone"
   ]
  },
  {
   "cell_type": "code",
   "execution_count": 19,
   "metadata": {},
   "outputs": [
    {
     "data": {
      "text/plain": [
       "array([0., 0., 0., 0., 1., 0., 0., 0., 1., 1.])"
      ]
     },
     "execution_count": 19,
     "metadata": {},
     "output_type": "execute_result"
    }
   ],
   "source": [
    "zone"
   ]
  },
  {
   "cell_type": "code",
   "execution_count": 28,
   "metadata": {},
   "outputs": [
    {
     "data": {
      "text/plain": [
       "array([0., 0., 1., 0., 0., 1., 0., 0., 0., 0.])"
      ]
     },
     "execution_count": 28,
     "metadata": {},
     "output_type": "execute_result"
    }
   ],
   "source": [
    "zone"
   ]
  },
  {
   "cell_type": "code",
   "execution_count": 19,
   "metadata": {},
   "outputs": [
    {
     "data": {
      "text/plain": [
       "range(0, 6)"
      ]
     },
     "execution_count": 19,
     "metadata": {},
     "output_type": "execute_result"
    }
   ],
   "source": [
    "range(6)"
   ]
  },
  {
   "cell_type": "code",
   "execution_count": 76,
   "metadata": {},
   "outputs": [],
   "source": [
    "%matplotlib notebook\n",
    "%matplotlib notebook"
   ]
  },
  {
   "cell_type": "code",
   "execution_count": 209,
   "metadata": {
    "scrolled": false
   },
   "outputs": [
    {
     "data": {
      "image/png": "[encoded data removed]",
      "text/plain": [
       "<Figure size 720x720 with 1 Axes>"
      ]
     },
     "metadata": {
      "needs_background": "light"
     },
     "output_type": "display_data"
    }
   ],
   "source": [
    "fig = plt.figure(figsize = (10,10))\n",
    "camera = Camera(fig)\n",
    "for i in range(TURNS+1):\n",
    "    # extract voronoi points and TI_zone affiliated with them\n",
    "    voronoi_points = np.vstack((iteration[i][:,0],iteration[i][:,1])).T\n",
    "    voronoi_points = voronoi_points[~np.isnan(voronoi_points).any(axis=1)]\n",
    "\n",
    "#     zone = iteration[i][:,5]\n",
    "#     zone = zone[~np.isnan(zone)]\n",
    "    \n",
    "    zone = iteration[i][:,5]\n",
    "    zone = zone[~np.isnan(zone)]\n",
    "    TI_zone_used = iteration[i][:,4]\n",
    "    TI_zone_used = TI_zone_used[~np.isnan(TI_zone_used)]\n",
    "\n",
    "    # get voronoi regions\n",
    "    poly_shapes, pts, poly_to_pt_assignments = voronoi_regions_from_coords(voronoi_points, grid)\n",
    "    # get polygons back into correct order with zip and sorted\n",
    "    poly_to_point = []\n",
    "    for i in range(len(poly_to_pt_assignments)):\n",
    "        poly_to_point.append(poly_to_pt_assignments[i][0])\n",
    "    zipped_lists = zip(poly_to_point,poly_shapes)\n",
    "    sorted_zipped_lists = sorted(zipped_lists)\n",
    "    poly_shapes = [element for _, element in sorted_zipped_lists]\n",
    "    fig = plt.figure(1, figsize=(5,5), dpi=90)\n",
    "#     color = [\"Green\",\"Yellow\",\"Blue\",\"Azure\",\"Red\",\"Black\",\"Brown\",\"White\",\"Ivory\",\"Teal\",\"Silver\",\"Gray\",\"Purple\",\"Orange\",\"Maroon\",\"Lime\",\"Aquamarine\",\"Coral\",\"Wheat\",\"Crimson\"]\n",
    "#     color = 100*np.random.randint(len(voronoi_points))\n",
    "    viridis = cm.get_cmap('jet', 12)\n",
    "\n",
    "    ax = fig.add_subplot(111)\n",
    "    for j in range(len(poly_shapes)):\n",
    "        if TI_zone_used[j] == 0:\n",
    "            color = color_blues\n",
    "        else:\n",
    "            color = color_greens\n",
    "        TI_id = zone[j]\n",
    "        ring_patch = PolygonPatch(poly_shapes[j], facecolor =  color[int(TI_id)])\n",
    "        ax.add_patch(ring_patch)\n",
    "        ax.set_title('Voronoi tesselation iteration')\n",
    "        xrange = [0, 200]\n",
    "        yrange = [0, 100]\n",
    "        ax.set_xlim(*xrange)\n",
    "        ax.set_ylim(*yrange)\n",
    "        ax.set_aspect(1)\n",
    "#     ax.plot(voronoi_points[:,0],voronoi_points[:,1],\".\")\n",
    "\n",
    "\n",
    "    # plt.xlim([0,10])\n",
    "    # plt.ylim([0,10])\n",
    "    camera.snap()\n",
    "animation = camera.animate()"
   ]
  },
  {
   "cell_type": "code",
   "execution_count": 37,
   "metadata": {},
   "outputs": [
    {
     "data": {
      "text/plain": [
       "array([59., 77., 82.,  4., 41., 44.,  6., 89., 47., 40., 85., 17., 64.,\n",
       "       37., 82., 45.,  9., 62., 64., 55., 90., 55., 96., 88., 24., 76.,\n",
       "       57., 65., 29., 78.,  8., 68., 45.])"
      ]
     },
     "execution_count": 37,
     "metadata": {},
     "output_type": "execute_result"
    }
   ],
   "source": [
    "voronoi_points[:,1]"
   ]
  },
  {
   "cell_type": "code",
   "execution_count": 210,
   "metadata": {},
   "outputs": [],
   "source": [
    "### Save the animated plot as GIF ###\n",
    "\n",
    "import matplotlib.animation as mpl_anim\n",
    "\n",
    "# Set up formatting for the movie files\n",
    "Writer = mpl_anim.PillowWriter\n",
    "writer = Writer(fps=2, metadata=dict(artist='Steffens'), bitrate=1800)\n",
    "\n",
    "\n",
    "animation.save('figures/test_2.gif', writer=writer)"
   ]
  },
  {
   "cell_type": "code",
   "execution_count": 27,
   "metadata": {},
   "outputs": [
    {
     "data": {
      "text/plain": [
       "1"
      ]
     },
     "execution_count": 27,
     "metadata": {},
     "output_type": "execute_result"
    }
   ],
   "source": [
    "from numpy.random import choice\n",
    "agent_evaluation = [1,2,3]\n",
    "best_new_position = choice(np.arange(len(agent_evaluation)),1)[0]\n",
    "best_new_position"
   ]
  },
  {
   "cell_type": "code",
   "execution_count": 15,
   "metadata": {},
   "outputs": [
    {
     "data": {
      "text/plain": [
       "[1, 2, 3]"
      ]
     },
     "execution_count": 15,
     "metadata": {},
     "output_type": "execute_result"
    }
   ],
   "source": [
    "agent_evaluation[0:3]"
   ]
  },
  {
   "cell_type": "code",
   "execution_count": 45,
   "metadata": {},
   "outputs": [
    {
     "data": {
      "text/plain": [
       "array([0.5, 1. , 1.5, 2. , 2.5])"
      ]
     },
     "execution_count": 45,
     "metadata": {},
     "output_type": "execute_result"
    }
   ],
   "source": [
    "test = np.array([1,2,3,4,5])\n",
    "test*0.5"
   ]
  },
  {
   "cell_type": "code",
   "execution_count": null,
   "metadata": {},
   "outputs": [],
   "source": []
  }
 ],
 "metadata": {
  "kernelspec": {
   "display_name": "Python [conda env:ABRM] *",
   "language": "python",
   "name": "conda-env-ABRM-py"
  },
  "language_info": {
   "codemirror_mode": {
    "name": "ipython",
    "version": 3
   },
   "file_extension": ".py",
   "mimetype": "text/x-python",
   "name": "python",
   "nbconvert_exporter": "python",
   "pygments_lexer": "ipython3",
   "version": "3.7.6"
  }
 },
 "nbformat": 4,
 "nbformat_minor": 4
}
