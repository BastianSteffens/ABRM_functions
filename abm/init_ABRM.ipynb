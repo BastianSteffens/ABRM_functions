{
 "cells": [
  {
   "cell_type": "code",
   "execution_count": 1,
   "metadata": {},
   "outputs": [],
   "source": [
    "import numpy as np\n",
    "import random as rn\n",
    "import os \n",
    "from numpy.random import randint\n",
    "import pandas as pd\n",
    "import matplotlib.pyplot as plt\n",
    "import matplotlib.colorbar\n",
    "import matplotlib\n",
    "from mpl_toolkits.mplot3d import Axes3D\n",
    "from mpl_toolkits.axes_grid1 import make_axes_locatable\n",
    "from typing import NoReturn, Text\n",
    "import warnings\n",
    "import time\n",
    "# import pyvista as pv\n",
    "# from scipy.signal import find_peaks\n",
    "from celluloid import Camera\n",
    "from datetime import datetime\n",
    "\n",
    "warnings.simplefilter('ignore')\n",
    "warnings.filterwarnings('ignore')\n",
    "pd.set_option('display.max_columns', 500)\n",
    "pd.set_option('display.max_rows', 200)\n",
    "# pv.set_plot_theme(\"document\")\n",
    "%matplotlib inline\n",
    "\n",
    "from scipy.spatial import Voronoi\n",
    "import matplotlib.pyplot as plt\n",
    "from geovoronoi import voronoi_regions_from_coords\n",
    "from geovoronoi import polygon_lines_from_voronoi\n",
    "import shapely\n",
    "from shapely.geometry import Point\n",
    "from shapely.geometry import MultiPolygon\n",
    "from shapely.geometry import Polygon\n",
    "from descartes import PolygonPatch\n",
    "import numpy as np\n",
    "from shapely.geometry.polygon import LinearRing, Polygon\n",
    "# import pyvista as pv\n",
    "from matplotlib import cm\n",
    "import datetime\n"
   ]
  },
  {
   "cell_type": "code",
   "execution_count": 2,
   "metadata": {},
   "outputs": [],
   "source": [
    "#import local scripts\n",
    "from Agent import Agent\n",
    "from Model import Model\n",
    "from Grid import Grid"
   ]
  },
  {
   "cell_type": "code",
   "execution_count": 3,
   "metadata": {},
   "outputs": [],
   "source": [
    "## Set seed for random generation\n",
    "def seed_everything(seed : int) -> NoReturn :\n",
    "    \"\"\"To set the see for all potential random number usages. If you are using \n",
    "    any other package which might use seed for random generation add it here\"\"\"\n",
    "    rn.seed(seed)\n",
    "    np.random.seed(seed)\n",
    "    os.environ['PYTHONHASHSEED'] = str(seed)\n",
    "    #tf.random.set_seed(seed)  ##uncomment if you are using tensorflow\n",
    "    \n",
    "SEED = 123123\n",
    "seed_everything(SEED)"
   ]
  },
  {
   "cell_type": "code",
   "execution_count": 4,
   "metadata": {},
   "outputs": [
    {
     "data": {
      "text/plain": [
       "[<matplotlib.lines.Line2D at 0x19cf7b89f48>]"
      ]
     },
     "execution_count": 4,
     "metadata": {},
     "output_type": "execute_result"
    },
    {
     "data": {
      "image/png": "[encoded data removed]",
      "text/plain": [
       "<Figure size 432x288 with 1 Axes>"
      ]
     },
     "metadata": {
      "needs_background": "light"
     },
     "output_type": "display_data"
    }
   ],
   "source": [
    "F_points_target = np.array([0, 0.7, 0.85, 0.9, 0.95, 0.96, 0.97, 0.98, 0.99, 0.999, 1])\n",
    "F_points_target = np.array([0, 0.3, 0.45, 0.6, 0.68, 0.75, 0.85, 0.9, 0.95, 0.98, 1])\n",
    "\n",
    "plt.plot(F_points_target)"
   ]
  },
  {
   "cell_type": "code",
   "execution_count": 5,
   "metadata": {},
   "outputs": [],
   "source": [
    "### set parameters \n",
    "TURNS = 20\n",
    "RATIOTRACKEDAGENTS = 1.\n",
    "all_vals_len = 200*100\n",
    "\n",
    "# set up TI_zone env\n",
    "# generate 2D mesh\n",
    "x = np.arange(0,200+1,1,)\n",
    "y = np.arange(0,100+1,1)\n",
    "x_grid, y_grid = np.meshgrid(x,y)\n",
    "#get cell centers of mesh\n",
    "x_cell_center = x_grid[:-1,:-1]+0.5\n",
    "y_cell_center = y_grid[:-1,:-1]+0.5\n",
    "TI_zones = []\n",
    "for y in range(x_cell_center.shape[0]):\n",
    "    for x in range(len(x_cell_center[1])):\n",
    "        if 70 <= x_cell_center[y,x] <=130:\n",
    "            TI_zones.append(1)\n",
    "        else:\n",
    "            TI_zones.append(0)\n",
    "TI_zones = np.array(TI_zones)\n",
    "TI_zones = TI_zones.reshape((200,100,1))\n",
    "\n",
    "# create curve and save resultign desired LC\n",
    "Phi_points_target = np.linspace(0, 1, num=11, endpoint=True)\n",
    "# F_points_target = np.array([0, 0.2, 0.35, 0.6, 0.65, 0.7, 0.8, 0.85, 0.9, 0.95, 1])\n",
    "F_points_target = np.array([0, 0.3, 0.45, 0.6, 0.68, 0.75, 0.8, 0.85, 0.9, 0.95, 1])\n",
    "\n",
    "output_folder = str(datetime.datetime.today().replace(microsecond= 0, second = 0).strftime(\"%Y_%m_%d_%H_%M\"))"
   ]
  },
  {
   "cell_type": "code",
   "execution_count": 6,
   "metadata": {
    "scrolled": true
   },
   "outputs": [
    {
     "name": "stdout",
     "output_type": "stream",
     "text": [
      "Shape of your environment: (200, 100, 1)\n",
      "=======loading training images=========\n",
      "Training images loaded! -  took 32.28 seconds\n",
      "=======Initiating grid=========\n",
      "Grid initiated! -  took 0.00 seconds\n",
      "generated new agent\n",
      "generated new agent\n",
      "generated new agent\n",
      "generated new agent\n",
      "generated new agent\n",
      "generated new agent\n",
      "generated new agent\n",
      "generated new agent\n",
      "generated new agent\n",
      "generated new agent\n",
      "generated new agent\n",
      "generated new agent\n",
      "generated new agent\n",
      "generated new agent\n",
      "generated new agent\n",
      "generated new agent\n",
      "generated new agent\n",
      "generated new agent\n",
      "generated new agent\n",
      "generated new agent\n",
      "generated new agent\n",
      "generated new agent\n",
      "generated new agent\n",
      "generated new agent\n",
      "generated new agent\n",
      "generated new agent\n",
      "generated new agent\n",
      "generated new agent\n",
      "generated new agent\n",
      "generated new agent\n",
      "generated new agent\n",
      "generated new agent\n",
      "generated new agent\n",
      "generated new agent\n",
      "generated new agent\n",
      "generated new agent\n",
      "generated new agent\n",
      "generated new agent\n",
      "generated new agent\n",
      "generated new agent\n",
      "generated new agent\n",
      "generated new agent\n",
      "generated new agent\n",
      "generated new agent\n",
      "generated new agent\n",
      "generated new agent\n",
      "generated new agent\n",
      "generated new agent\n",
      "generated new agent\n",
      "generated new agent\n",
      "Misfit: 0.21626217663288116\n",
      "=======Turn 0========\n",
      "random move          \n",
      "Moving agents done                  \n",
      "Generating agents done              \n",
      "Misfit: 0.1418519765138626\n",
      "=======Turn 1========\n",
      "generated new agent\n",
      "Moving agents done                  \n",
      "Generating agents done              \n",
      "Misfit: 0.1711922138929367\n",
      "=======Turn 2========\n",
      "generated new agent\n",
      "random move          \n",
      "random move          \n",
      "Moving agents done                  \n",
      "Generating agents done              \n",
      "Misfit: 0.18655678629875183\n",
      "=======Turn 3========\n",
      "generated new agent\n",
      "random move          \n",
      "random move          \n",
      "random move          \n",
      "Moving agents done                  \n",
      "Generating agents done              \n",
      "Misfit: 0.15928973257541656\n",
      "=======Turn 4========\n",
      "generated new agent\n",
      "random move          \n",
      "Moving agents done                  \n",
      "Generating agents done              \n",
      "Misfit: 0.09717834740877151\n",
      "=======Turn 5========\n",
      "generated new agent\n",
      "random move          \n",
      "random move          \n",
      "random move          \n",
      "random move          \n",
      "random move          \n",
      "Moving agents done                  \n",
      "Generating agents done              \n",
      "Misfit: 0.14169669151306152\n",
      "=======Turn 6========\n",
      "generated new agent\n",
      "Moving agents done                  \n",
      "Generating agents done              \n",
      "Misfit: 0.05120353400707245\n",
      "=======Turn 7========\n",
      "generated new agent\n",
      "random move          \n",
      "random move          \n",
      "random move          \n",
      "random move          \n",
      "Moving agents done                  \n",
      "Generating agents done              \n",
      "Misfit: 0.07295475155115128\n",
      "=======Turn 8========\n",
      "generated new agent\n",
      "random move          \n",
      "random move          \n",
      "random move          \n",
      "Moving agents done                  \n",
      "Generating agents done              \n",
      "Misfit: 0.19446897506713867\n",
      "=======Turn 9========\n",
      "generated new agent\n",
      "random move          \n",
      "random move          \n",
      "random move          \n",
      "random move          \n",
      "Moving agents done                  \n",
      "Generating agents done              \n",
      "Misfit: 0.09008605033159256\n",
      "=======Turn 10========\n",
      "generated new agent\n",
      "random move          \n",
      "random move          \n",
      "Moving agents done                  \n",
      "Generating agents done              \n",
      "Misfit: 0.12453021109104156\n",
      "=======Turn 11========\n",
      "generated new agent\n",
      "Killed agent 3        \n",
      "agent removed from grid\n",
      "random move          \n",
      "random move          \n",
      "Moving agents done                  \n",
      "Generating agents done              \n",
      "Misfit: 0.046864863485097885\n",
      "=======Turn 12========\n",
      "generated new agent\n",
      "random move          \n",
      "random move          \n",
      "Moving agents done                  \n",
      "Generating agents done              \n",
      "Misfit: 0.048251036554574966\n",
      "=======Turn 13========\n",
      "generated new agent\n",
      "random move          \n",
      "random move          \n",
      "random move          \n",
      "Moving agents done                  \n",
      "Generating agents done              \n",
      "Misfit: 0.14891810715198517\n",
      "=======Turn 14========\n",
      "generated new agent\n",
      "random move          \n",
      "random move          \n",
      "random move          \n",
      "Moving agents done                  \n",
      "Generating agents done              \n",
      "Misfit: 0.2278650850057602\n",
      "=======Turn 15========\n",
      "generated new agent\n",
      "random move          \n",
      "random move          \n",
      "random move          \n",
      "random move          \n",
      "random move          \n",
      "Moving agents done                  \n",
      "Generating agents done              \n",
      "Misfit: 0.04816652461886406\n",
      "=======Turn 16========\n",
      "generated new agent\n",
      "random move          \n",
      "random move          \n",
      "random move          \n",
      "random move          \n",
      "random move          \n",
      "Moving agents done                  \n",
      "Generating agents done              \n",
      "Misfit: 0.0704767107963562\n",
      "=======Turn 17========\n",
      "generated new agent\n",
      "random move          \n",
      "random move          \n",
      "random move          \n",
      "Moving agents done                  \n",
      "Generating agents done              \n",
      "Misfit: 0.0768454447388649\n",
      "=======Turn 18========\n",
      "generated new agent\n",
      "random move          \n",
      "random move          \n",
      "random move          \n",
      "Moving agents done                  \n",
      "Generating agents done              \n",
      "Misfit: 0.30752769112586975\n",
      "=======Turn 19========\n",
      "generated new agent\n",
      "random move          \n",
      "random move          \n",
      "Moving agents done                  \n",
      "Generating agents done              \n",
      "Misfit: 0.09847664088010788\n",
      "Simulation took 168315.80 seconds\n",
      "    AgentID  Start_x  Start_y  Start_z  End_x  End_y  End_z    misfit\n",
      "0         0       26       44        0   13.0   43.0    0.0  0.098477\n",
      "1         1       13       98        0   41.0   73.0    0.0  0.098477\n",
      "2         2      193       87        0  192.0   92.0    0.0  0.098477\n",
      "3         4       86       51        0   74.0   62.0    0.0  0.098477\n",
      "4         5      147       45        0  169.0   47.0    0.0  0.098477\n",
      "5         6       53       17        0   70.0    4.0    0.0  0.098477\n",
      "6         7       30       92        0   41.0   85.0    0.0  0.098477\n",
      "7         8      120       45        0  135.0   69.0    0.0  0.098477\n",
      "8         9      103       55        0  113.0   83.0    0.0  0.098477\n",
      "9        10      174       90        0  144.0   90.0    0.0  0.098477\n",
      "10       11      164        9        0  149.0   26.0    0.0  0.098477\n",
      "11       12       64       74        0   71.0   89.0    0.0  0.098477\n",
      "12       13       70       29        0   81.0   26.0    0.0  0.098477\n",
      "13       14      141       74        0  161.0   48.0    0.0  0.098477\n",
      "14       15      131       43        0   77.0   27.0    0.0  0.098477\n",
      "15       16       47       26        0   94.0   39.0    0.0  0.098477\n",
      "16       17       14       62        0   33.0   59.0    0.0  0.098477\n",
      "17       18        4       85        0   38.0   88.0    0.0  0.098477\n",
      "18       19      114       72        0  111.0   58.0    0.0  0.098477\n",
      "19       20      104       43        0  125.0   39.0    0.0  0.098477\n"
     ]
    }
   ],
   "source": [
    "t1 = time.time()\n",
    "\n",
    "model = Model(env = TI_zones, \n",
    "              number_of_turns=TURNS, number_of_starting_agents = 50,new_agent_every_n_turns = 1,max_number_agents = 150,\n",
    "              ratio_of_tracked_agents = 1.,number_training_image_zones = 2, number_training_images_per_zone = 20,output_folder = output_folder,\n",
    "              Phi_points_target=Phi_points_target,F_points_target=F_points_target,max_number_of_position_tests = 10 ,n_processes = None,neighbourhood_radius = 10, neighbourhood_search_step_size = 1,\n",
    "             )\n",
    "model.run()\n",
    "print(\"Simulation took {0:2.2f} seconds\".format(time.time()-t1))\n",
    "test_df =model.get_final_results()\n",
    "print(test_df.head(20))"
   ]
  },
  {
   "cell_type": "code",
   "execution_count": 62,
   "metadata": {},
   "outputs": [
    {
     "data": {
      "text/plain": [
       "20"
      ]
     },
     "execution_count": 62,
     "metadata": {},
     "output_type": "execute_result"
    }
   ],
   "source": [
    "n_agents = np.array([50,51,52,53,54,55,56,56,57,58,59,60,61,61,62,63,64,65,66,67])\n",
    "len(n_agents)"
   ]
  },
  {
   "cell_type": "code",
   "execution_count": 63,
   "metadata": {},
   "outputs": [
    {
     "data": {
      "text/plain": [
       "Text(0.5, 0, 'iteration')"
      ]
     },
     "execution_count": 63,
     "metadata": {},
     "output_type": "execute_result"
    },
    {
     "data": {
      "image/png": "[encoded data removed]",
      "text/plain": [
       "<Figure size 432x288 with 1 Axes>"
      ]
     },
     "metadata": {
      "needs_background": "light"
     },
     "output_type": "display_data"
    }
   ],
   "source": [
    "misfit = np.array([0.21,0.14,0.17,0.18,0.15,0.09,0.14,0.05,0.07,0.19,0.09,0.12,0.04,0.04,0.14,0.22,0.04,0.07,0.07,0.3,0.09])\n",
    "\n",
    "plt.plot(misfit,\".\",markersize = 10)\n",
    "plt.ylabel(\"misfit\")\n",
    "plt.xlabel(\"iteration\")"
   ]
  },
  {
   "cell_type": "code",
   "execution_count": 64,
   "metadata": {
    "scrolled": true
   },
   "outputs": [
    {
     "data": {
      "text/plain": [
       "Text(0.5, 0, 'iteration')"
      ]
     },
     "execution_count": 64,
     "metadata": {},
     "output_type": "execute_result"
    },
    {
     "data": {
      "image/png": "[encoded data removed]",
      "text/plain": [
       "<Figure size 432x288 with 1 Axes>"
      ]
     },
     "metadata": {
      "needs_background": "light"
     },
     "output_type": "display_data"
    }
   ],
   "source": [
    "plt.plot(n_agents,\".\",markersize = 10,c = \"red\")\n",
    "plt.ylabel(\"n_agents\")\n",
    "plt.xlabel(\"iteration\")"
   ]
  },
  {
   "cell_type": "code",
   "execution_count": 7,
   "metadata": {},
   "outputs": [
    {
     "data": {
      "text/plain": [
       "array([[2.60000000e+01, 4.40000000e+01, 0.00000000e+00, 0.00000000e+00,\n",
       "        0.00000000e+00, 7.00000000e+00, 2.16262177e-01],\n",
       "       [3.40000000e+01, 4.30000000e+01, 0.00000000e+00, 0.00000000e+00,\n",
       "        0.00000000e+00, 9.00000000e+00, 1.41851977e-01],\n",
       "       [4.20000000e+01, 4.20000000e+01, 0.00000000e+00, 0.00000000e+00,\n",
       "        0.00000000e+00, 6.00000000e+00, 1.71192214e-01],\n",
       "       [4.10000000e+01, 3.40000000e+01, 0.00000000e+00, 0.00000000e+00,\n",
       "        0.00000000e+00, 6.00000000e+00, 1.86556786e-01],\n",
       "       [3.90000000e+01, 2.90000000e+01, 0.00000000e+00, 0.00000000e+00,\n",
       "        0.00000000e+00, 7.00000000e+00, 1.59289733e-01],\n",
       "       [3.90000000e+01, 3.00000000e+01, 0.00000000e+00, 0.00000000e+00,\n",
       "        0.00000000e+00, 7.00000000e+00, 9.71783474e-02],\n",
       "       [4.40000000e+01, 2.80000000e+01, 0.00000000e+00, 0.00000000e+00,\n",
       "        0.00000000e+00, 6.00000000e+00, 1.41696692e-01],\n",
       "       [4.10000000e+01, 3.50000000e+01, 0.00000000e+00, 0.00000000e+00,\n",
       "        0.00000000e+00, 2.00000000e+00, 5.12035340e-02],\n",
       "       [3.40000000e+01, 3.50000000e+01, 0.00000000e+00, 1.00000000e+00,\n",
       "        0.00000000e+00, 2.00000000e+00, 7.29547516e-02],\n",
       "       [3.00000000e+01, 3.00000000e+01, 0.00000000e+00, 0.00000000e+00,\n",
       "        1.00000000e+00, 3.00000000e+00, 1.94468975e-01],\n",
       "       [2.30000000e+01, 3.10000000e+01, 0.00000000e+00, 0.00000000e+00,\n",
       "        0.00000000e+00, 1.00000000e+00, 9.00860503e-02],\n",
       "       [1.90000000e+01, 3.30000000e+01, 0.00000000e+00, 0.00000000e+00,\n",
       "        0.00000000e+00, 1.00000000e+00, 1.24530211e-01],\n",
       "       [2.40000000e+01, 3.30000000e+01, 0.00000000e+00, 0.00000000e+00,\n",
       "        0.00000000e+00, 1.00000000e+00, 4.68648635e-02],\n",
       "       [2.10000000e+01, 3.10000000e+01, 0.00000000e+00, 0.00000000e+00,\n",
       "        0.00000000e+00, 1.00000000e+00, 4.82510366e-02],\n",
       "       [2.00000000e+01, 3.10000000e+01, 0.00000000e+00, 0.00000000e+00,\n",
       "        1.00000000e+00, 1.00000000e+00, 1.48918107e-01],\n",
       "       [2.10000000e+01, 3.60000000e+01, 0.00000000e+00, 0.00000000e+00,\n",
       "        0.00000000e+00, 3.00000000e+00, 2.27865085e-01],\n",
       "       [2.50000000e+01, 4.00000000e+01, 0.00000000e+00, 0.00000000e+00,\n",
       "        0.00000000e+00, 3.00000000e+00, 4.81665246e-02],\n",
       "       [2.50000000e+01, 5.00000000e+01, 0.00000000e+00, 0.00000000e+00,\n",
       "        0.00000000e+00, 3.00000000e+00, 7.04767108e-02],\n",
       "       [1.90000000e+01, 4.80000000e+01, 0.00000000e+00, 0.00000000e+00,\n",
       "        0.00000000e+00, 1.00000000e+00, 7.68454447e-02],\n",
       "       [1.60000000e+01, 4.40000000e+01, 0.00000000e+00, 0.00000000e+00,\n",
       "        0.00000000e+00, 1.00000000e+00, 3.07527691e-01],\n",
       "       [1.30000000e+01, 4.30000000e+01, 0.00000000e+00, 0.00000000e+00,\n",
       "        0.00000000e+00, 1.00000000e+00, 9.84766409e-02]])"
      ]
     },
     "execution_count": 7,
     "metadata": {},
     "output_type": "execute_result"
    }
   ],
   "source": [
    "tracker = model.get_all_tracks()\n",
    "tracker[0]"
   ]
  },
  {
   "cell_type": "code",
   "execution_count": 8,
   "metadata": {},
   "outputs": [],
   "source": [
    "iteration=[]\n",
    "for turns in range(TURNS+1):\n",
    "    agent_pos = []\n",
    "    for agent_id in range(model.current_id+1):\n",
    "        agent_pos.append(tracker[agent_id][turns][0:7])\n",
    "    \n",
    "    iteration.append(agent_pos)\n",
    "iteration = np.array(iteration)\n"
   ]
  },
  {
   "cell_type": "code",
   "execution_count": 9,
   "metadata": {},
   "outputs": [
    {
     "data": {
      "text/plain": [
       "(1.0, 0.5925925925925927, 0.0, 1.0)"
      ]
     },
     "execution_count": 9,
     "metadata": {},
     "output_type": "execute_result"
    }
   ],
   "source": [
    "N = 50\n",
    "# define the colormap\n",
    "cmap = plt.cm.jet\n",
    "# extract all colors from the .jet map\n",
    "cmaplist = [cmap(i) for i in range(cmap.N)]\n",
    "# create the new map\n",
    "cmap = cmap.from_list('Custom cmap', cmaplist, cmap.N)\n",
    "viridis = cm.get_cmap('jet', 5)\n",
    "viridis(3)"
   ]
  },
  {
   "cell_type": "code",
   "execution_count": 10,
   "metadata": {},
   "outputs": [],
   "source": [
    "grid = Polygon([(0, 0), (0, 100), (200, 100), (200, 0)])\n"
   ]
  },
  {
   "cell_type": "code",
   "execution_count": 11,
   "metadata": {},
   "outputs": [
    {
     "data": {
      "text/plain": [
       "(0.0, 100.0)"
      ]
     },
     "execution_count": 11,
     "metadata": {},
     "output_type": "execute_result"
    },
    {
     "data": {
      "image/png": "[encoded data removed]",
      "text/plain": [
       "<Figure size 432x288 with 1 Axes>"
      ]
     },
     "metadata": {
      "needs_background": "light"
     },
     "output_type": "display_data"
    }
   ],
   "source": [
    "# generate 2D mesh\n",
    "x = np.arange(0,200+1,1,)\n",
    "y = np.arange(0,100+1,1)\n",
    "x_grid, y_grid = np.meshgrid(x,y)\n",
    "# get cell center\n",
    "x_cell_center = x_grid[:-1,:-1]+0.5\n",
    "y_cell_center = y_grid[:-1,:-1]+0.5\n",
    "cell_center_which_polygon = np.zeros(len(x_cell_center.flatten()))\n",
    "which_TI_zone = np.zeros(len(x_cell_center.flatten()))\n",
    "# array to assign polygon to cell id\n",
    "all_cell_center = np.column_stack((x_cell_center.flatten(),y_cell_center.flatten(),cell_center_which_polygon,which_TI_zone))\n",
    "plt.scatter(x_cell_center,y_cell_center, c = TI_zones,cmap=viridis)\n",
    "plt.title(\"Voronoi Polygons to Grid\")\n",
    "plt.xlim([0,200])\n",
    "plt.ylim([0,100])"
   ]
  },
  {
   "cell_type": "code",
   "execution_count": 12,
   "metadata": {},
   "outputs": [
    {
     "ename": "NameError",
     "evalue": "name 'poly_shapes' is not defined",
     "output_type": "error",
     "traceback": [
      "\u001b[1;31m---------------------------------------------------------------------------\u001b[0m",
      "\u001b[1;31mNameError\u001b[0m                                 Traceback (most recent call last)",
      "\u001b[1;32m<ipython-input-12-f7bb4cbfe5aa>\u001b[0m in \u001b[0;36m<module>\u001b[1;34m\u001b[0m\n\u001b[0;32m      1\u001b[0m \u001b[1;31m# in what voronoi polygon do cell centers plot\u001b[0m\u001b[1;33m\u001b[0m\u001b[1;33m\u001b[0m\u001b[1;33m\u001b[0m\u001b[0m\n\u001b[0;32m      2\u001b[0m \u001b[1;32mfor\u001b[0m \u001b[0mi\u001b[0m \u001b[1;32min\u001b[0m \u001b[0mrange\u001b[0m\u001b[1;33m(\u001b[0m\u001b[0mlen\u001b[0m\u001b[1;33m(\u001b[0m\u001b[0mall_cell_center\u001b[0m\u001b[1;33m)\u001b[0m\u001b[1;33m)\u001b[0m\u001b[1;33m:\u001b[0m\u001b[1;33m\u001b[0m\u001b[1;33m\u001b[0m\u001b[0m\n\u001b[1;32m----> 3\u001b[1;33m     \u001b[1;32mfor\u001b[0m \u001b[0mvoronoi_polygon_id\u001b[0m \u001b[1;32min\u001b[0m \u001b[0mrange\u001b[0m\u001b[1;33m(\u001b[0m\u001b[0mlen\u001b[0m\u001b[1;33m(\u001b[0m\u001b[0mpoly_shapes\u001b[0m\u001b[1;33m)\u001b[0m\u001b[1;33m)\u001b[0m\u001b[1;33m:\u001b[0m\u001b[1;33m\u001b[0m\u001b[1;33m\u001b[0m\u001b[0m\n\u001b[0m\u001b[0;32m      4\u001b[0m \u001b[1;33m\u001b[0m\u001b[0m\n\u001b[0;32m      5\u001b[0m         \u001b[0mpolygon\u001b[0m \u001b[1;33m=\u001b[0m \u001b[0mpoly_shapes\u001b[0m\u001b[1;33m[\u001b[0m\u001b[0mvoronoi_polygon_id\u001b[0m\u001b[1;33m]\u001b[0m\u001b[1;33m\u001b[0m\u001b[1;33m\u001b[0m\u001b[0m\n",
      "\u001b[1;31mNameError\u001b[0m: name 'poly_shapes' is not defined"
     ]
    }
   ],
   "source": [
    "# in what voronoi polygon do cell centers plot\n",
    "for i in range(len(all_cell_center)):\n",
    "    for voronoi_polygon_id in range(len(poly_shapes)):\n",
    "        \n",
    "        polygon = poly_shapes[voronoi_polygon_id]\n",
    "        cell_id = Point(all_cell_center[i,0],all_cell_center[i,1])\n",
    "        \n",
    "        if polygon.intersects(cell_id):\n",
    "            all_cell_center[i,2] = voronoi_polygon_id\n",
    "\n",
    "plt.scatter(x_cell_center,y_cell_center, c = all_cell_center[:,2])\n",
    "plt.title(\"Voronoi Polygons to Grid\")\n",
    "plt.xlim([0,200])\n",
    "plt.ylim([0,100])\n"
   ]
  },
  {
   "cell_type": "code",
   "execution_count": 13,
   "metadata": {},
   "outputs": [
    {
     "ename": "NameError",
     "evalue": "name 'poly_shapes' is not defined",
     "output_type": "error",
     "traceback": [
      "\u001b[1;31m---------------------------------------------------------------------------\u001b[0m",
      "\u001b[1;31mNameError\u001b[0m                                 Traceback (most recent call last)",
      "\u001b[1;32m<ipython-input-13-d78164285395>\u001b[0m in \u001b[0;36m<module>\u001b[1;34m\u001b[0m\n\u001b[1;32m----> 1\u001b[1;33m \u001b[0mlen\u001b[0m\u001b[1;33m(\u001b[0m\u001b[0mpoly_shapes\u001b[0m\u001b[1;33m)\u001b[0m\u001b[1;33m\u001b[0m\u001b[1;33m\u001b[0m\u001b[0m\n\u001b[0m",
      "\u001b[1;31mNameError\u001b[0m: name 'poly_shapes' is not defined"
     ]
    }
   ],
   "source": [
    "len(poly_shapes)"
   ]
  },
  {
   "cell_type": "code",
   "execution_count": 14,
   "metadata": {},
   "outputs": [
    {
     "ename": "NameError",
     "evalue": "name 'zone' is not defined",
     "output_type": "error",
     "traceback": [
      "\u001b[1;31m---------------------------------------------------------------------------\u001b[0m",
      "\u001b[1;31mNameError\u001b[0m                                 Traceback (most recent call last)",
      "\u001b[1;32m<ipython-input-14-f9d583b59e62>\u001b[0m in \u001b[0;36m<module>\u001b[1;34m\u001b[0m\n\u001b[0;32m     15\u001b[0m \u001b[1;31m# for i in range(len(poly_shapes)):\u001b[0m\u001b[1;33m\u001b[0m\u001b[1;33m\u001b[0m\u001b[1;33m\u001b[0m\u001b[0m\n\u001b[0;32m     16\u001b[0m \u001b[1;32mfor\u001b[0m \u001b[0mi\u001b[0m \u001b[1;32min\u001b[0m \u001b[0mrange\u001b[0m\u001b[1;33m(\u001b[0m\u001b[1;36m1\u001b[0m\u001b[1;33m)\u001b[0m\u001b[1;33m:\u001b[0m\u001b[1;33m\u001b[0m\u001b[1;33m\u001b[0m\u001b[0m\n\u001b[1;32m---> 17\u001b[1;33m     \u001b[0mTI_id\u001b[0m \u001b[1;33m=\u001b[0m \u001b[0mint\u001b[0m\u001b[1;33m(\u001b[0m\u001b[0mzone\u001b[0m\u001b[1;33m[\u001b[0m\u001b[0mi\u001b[0m\u001b[1;33m]\u001b[0m\u001b[1;33m)\u001b[0m\u001b[1;33m\u001b[0m\u001b[1;33m\u001b[0m\u001b[0m\n\u001b[0m\u001b[0;32m     18\u001b[0m     \u001b[0mring_patch\u001b[0m \u001b[1;33m=\u001b[0m \u001b[0mPolygonPatch\u001b[0m\u001b[1;33m(\u001b[0m\u001b[0mpoly_shapes\u001b[0m\u001b[1;33m[\u001b[0m\u001b[0mi\u001b[0m\u001b[1;33m]\u001b[0m\u001b[1;33m,\u001b[0m \u001b[0mfacecolor\u001b[0m \u001b[1;33m=\u001b[0m \u001b[0mcolor\u001b[0m\u001b[1;33m[\u001b[0m\u001b[0mTI_id\u001b[0m\u001b[1;33m]\u001b[0m\u001b[1;33m)\u001b[0m\u001b[1;31m# viridis(TI_id))\u001b[0m\u001b[1;33m\u001b[0m\u001b[1;33m\u001b[0m\u001b[0m\n\u001b[0;32m     19\u001b[0m     \u001b[0max\u001b[0m\u001b[1;33m.\u001b[0m\u001b[0madd_patch\u001b[0m\u001b[1;33m(\u001b[0m\u001b[0mring_patch\u001b[0m\u001b[1;33m)\u001b[0m\u001b[1;33m\u001b[0m\u001b[1;33m\u001b[0m\u001b[0m\n",
      "\u001b[1;31mNameError\u001b[0m: name 'zone' is not defined"
     ]
    },
    {
     "data": {
      "image/png": "[encoded data removed]",
      "text/plain": [
       "<Figure size 450x450 with 1 Axes>"
      ]
     },
     "metadata": {
      "needs_background": "light"
     },
     "output_type": "display_data"
    }
   ],
   "source": [
    "fig = plt.figure(1, figsize=(5,5), dpi=90)\n",
    "color = [\"red\",\"blue\",\"green\",\"black\"]#,\"yellow\",\"red\",\"blue\",\"green\",\"black\",\"yellow\",\"red\",\"blue\",\"green\",\"black\",\"yellow\"]\n",
    "# color = 100*np.random.randint(n_voronoi)\n",
    "N = 15\n",
    "# define the colormap\n",
    "cmap = plt.cm.jet\n",
    "# extract all colors from the .jet map\n",
    "cmaplist = [cmap(i) for i in range(cmap.N)]\n",
    "# create the new map\n",
    "cmap = cmap.from_list('Custom cmap', cmaplist, cmap.N)\n",
    "# define the bins and normalize\n",
    "bounds = np.linspace(0,N,N+1)\n",
    "norm = matplotlib.colors.BoundaryNorm(bounds, cmap.N)\n",
    "ax = fig.add_subplot(111)\n",
    "# for i in range(len(poly_shapes)):\n",
    "for i in range(1):\n",
    "    TI_id = int(zone[i])\n",
    "    ring_patch = PolygonPatch(poly_shapes[i], facecolor = color[TI_id])# viridis(TI_id))\n",
    "    ax.add_patch(ring_patch)\n",
    "    ax.set_title('Voronoi tesselation')\n",
    "    xrange = [0, 200]\n",
    "    yrange = [0, 100]\n",
    "    ax.set_xlim(*xrange)\n",
    "    ax.set_ylim(*yrange)\n",
    "    ax.set_aspect(1)\n",
    "\n",
    "\n",
    "# plt.xlim([0,10])\n",
    "# plt.ylim([0,10])"
   ]
  },
  {
   "cell_type": "code",
   "execution_count": 15,
   "metadata": {},
   "outputs": [
    {
     "data": {
      "text/plain": [
       "array([26.        , 44.        ,  0.        ,  0.        ,  0.        ,\n",
       "        7.        ,  0.21626218])"
      ]
     },
     "execution_count": 15,
     "metadata": {},
     "output_type": "execute_result"
    }
   ],
   "source": [
    "tracker[0][0]"
   ]
  },
  {
   "cell_type": "code",
   "execution_count": 16,
   "metadata": {},
   "outputs": [
    {
     "ename": "NameError",
     "evalue": "name 'zone' is not defined",
     "output_type": "error",
     "traceback": [
      "\u001b[1;31m---------------------------------------------------------------------------\u001b[0m",
      "\u001b[1;31mNameError\u001b[0m                                 Traceback (most recent call last)",
      "\u001b[1;32m<ipython-input-16-02d780f0ec10>\u001b[0m in \u001b[0;36m<module>\u001b[1;34m\u001b[0m\n\u001b[1;32m----> 1\u001b[1;33m \u001b[0mzone\u001b[0m\u001b[1;33m\u001b[0m\u001b[1;33m\u001b[0m\u001b[0m\n\u001b[0m\u001b[0;32m      2\u001b[0m \u001b[1;31m# len(poly_shapes)\u001b[0m\u001b[1;33m\u001b[0m\u001b[1;33m\u001b[0m\u001b[1;33m\u001b[0m\u001b[0m\n",
      "\u001b[1;31mNameError\u001b[0m: name 'zone' is not defined"
     ]
    }
   ],
   "source": [
    "zone\n",
    "# len(poly_shapes)"
   ]
  },
  {
   "cell_type": "code",
   "execution_count": 80,
   "metadata": {},
   "outputs": [
    {
     "data": {
      "image/png": "[encoded data removed]",
      "text/plain": [
       "<Figure size 450x450 with 1 Axes>"
      ]
     },
     "metadata": {
      "needs_background": "light"
     },
     "output_type": "display_data"
    }
   ],
   "source": [
    "%matplotlib inline\n",
    "iter_to_display =20\n",
    "# extract voronoi point and TI_zone affiliated with them\n",
    "voronoi_points = np.vstack((iteration[iter_to_display][:,0],iteration[iter_to_display][:,1])).T\n",
    "voronoi_points = voronoi_points[~np.isnan(voronoi_points).any(axis=1)]\n",
    "\n",
    "zone = iteration[iter_to_display][:,5]\n",
    "zone = zone[~np.isnan(zone)]\n",
    "# zone[-1]=zone[-2]\n",
    "# get voronoi regions\n",
    "poly_shapes, pts, poly_to_pt_assignments = voronoi_regions_from_coords(voronoi_points, grid)\n",
    "\n",
    "fig = plt.figure(1, figsize=(5,5), dpi=90)\n",
    "color = [\"Red\",\"Blue\",\"Yellow\",\"Azure\",\"Green\",\"Black\",\"Brown\",\"White\",\"Ivory\",\"Teal\",\"Silver\",\"Gray\",\"Purple\",\"Orange\",\"Maroon\",\"Lime\",\"Aquamarine\",\"Coral\",\"Wheat\",\"Crimson\"]\n",
    "# color = 100*np.random.randint(len(voronoi_points))\n",
    "# viridis = cm.get_cmap('viridis', model.current_id+1)\n",
    "\n",
    "ax = fig.add_subplot(111)\n",
    "for j in range(len(poly_shapes)):\n",
    "    TI_id = int(zone[j])\n",
    "    ring_patch = PolygonPatch(poly_shapes[j], facecolor =  color[TI_id])\n",
    "    ax.add_patch(ring_patch)\n",
    "    ax.set_title('Voronoi tesselation')\n",
    "    xrange = [0, 200]\n",
    "    yrange = [0, 100]\n",
    "    ax.set_xlim(*xrange)\n",
    "    ax.set_ylim(*yrange)\n",
    "    ax.set_aspect(1)\n",
    "\n"
   ]
  },
  {
   "cell_type": "code",
   "execution_count": 59,
   "metadata": {},
   "outputs": [
    {
     "data": {
      "text/plain": [
       "array([0., 0., 0., 0., 0., 0., 0., 0., 0., 0., 0., 0., 0., 0., 0., 1., 1.,\n",
       "       0., 0., 0., 0., 1., 0., 0., 0., 0., 0., 0., 0., 0., 0., 0., 1., 1.,\n",
       "       1., 1., 1., 1., 0., 0., 0., 0., 0., 0., 0., 1., 0., 0., 0., 0., 0.,\n",
       "       1., 0., 0., 0., 1., 1., 0., 0., 0., 1., 1., 1., 1., 1., 1., 1., 1.])"
      ]
     },
     "execution_count": 59,
     "metadata": {},
     "output_type": "execute_result"
    }
   ],
   "source": [
    "zone"
   ]
  },
  {
   "cell_type": "code",
   "execution_count": 19,
   "metadata": {},
   "outputs": [
    {
     "data": {
      "text/plain": [
       "range(0, 6)"
      ]
     },
     "execution_count": 19,
     "metadata": {},
     "output_type": "execute_result"
    }
   ],
   "source": [
    "range(6)"
   ]
  },
  {
   "cell_type": "code",
   "execution_count": 20,
   "metadata": {},
   "outputs": [],
   "source": [
    "%matplotlib notebook\n",
    "%matplotlib notebook"
   ]
  },
  {
   "cell_type": "code",
   "execution_count": 21,
   "metadata": {},
   "outputs": [
    {
     "data": {
      "text/plain": [
       "array([ 7.,  9.,  6., 19., 14.,  8., 17., 14.,  1.,  5., 17.,  7.,  6.,\n",
       "        7.,  8., 14., 14., 11., 10., 15., 16.,  1.,  4., 15.,  3.,  7.,\n",
       "        8.,  3., 12.,  3., 16., 11., 10.,  6.,  9.,  7.,  5., 17.,  1.,\n",
       "        2., 12.,  1.,  6.,  7., 19.,  7., 18., 11.,  5.,  8., nan, nan,\n",
       "       nan, nan, nan, nan, nan, nan, nan, nan, nan, nan, nan, nan, nan,\n",
       "       nan, nan, nan, nan])"
      ]
     },
     "execution_count": 21,
     "metadata": {},
     "output_type": "execute_result"
    }
   ],
   "source": [
    "iteration[0][:,5]"
   ]
  },
  {
   "cell_type": "code",
   "execution_count": 84,
   "metadata": {
    "scrolled": false
   },
   "outputs": [
    {
     "data": {
      "image/png": "[encoded data removed]",
      "text/plain": [
       "<Figure size 720x720 with 1 Axes>"
      ]
     },
     "metadata": {
      "needs_background": "light"
     },
     "output_type": "display_data"
    }
   ],
   "source": [
    "fig = plt.figure(figsize = (10,10))\n",
    "camera = Camera(fig)\n",
    "for i in range(TURNS+1):\n",
    "    # extract voronoi points and TI_zone affiliated with them\n",
    "    voronoi_points = np.vstack((iteration[i][:,0],iteration[i][:,1])).T\n",
    "    voronoi_points = voronoi_points[~np.isnan(voronoi_points).any(axis=1)]\n",
    "\n",
    "    zone = iteration[i][:,4]\n",
    "    zone = zone[~np.isnan(zone)]\n",
    "\n",
    "    # get voronoi regions\n",
    "    poly_shapes, pts, poly_to_pt_assignments = voronoi_regions_from_coords(voronoi_points, grid)\n",
    "\n",
    "    fig = plt.figure(1, figsize=(5,5), dpi=90)\n",
    "    color = [\"Green\",\"Yellow\",\"Blue\",\"Azure\",\"Red\",\"Black\",\"Brown\",\"White\",\"Ivory\",\"Teal\",\"Silver\",\"Gray\",\"Purple\",\"Orange\",\"Maroon\",\"Lime\",\"Aquamarine\",\"Coral\",\"Wheat\",\"Crimson\"]\n",
    "#     color = 100*np.random.randint(len(voronoi_points))\n",
    "    viridis = cm.get_cmap('jet', 12)\n",
    "\n",
    "    ax = fig.add_subplot(111)\n",
    "    for j in range(len(poly_shapes)):\n",
    "        TI_id = zone[j]\n",
    "        ring_patch = PolygonPatch(poly_shapes[j], facecolor =  color[int(TI_id)])\n",
    "        ax.add_patch(ring_patch)\n",
    "        ax.set_title('Voronoi tesselation iteration')\n",
    "        xrange = [0, 200]\n",
    "        yrange = [0, 100]\n",
    "        ax.set_xlim(*xrange)\n",
    "        ax.set_ylim(*yrange)\n",
    "        ax.set_aspect(1)\n",
    "\n",
    "\n",
    "    # plt.xlim([0,10])\n",
    "    # plt.ylim([0,10])\n",
    "    camera.snap()\n",
    "animation = camera.animate()"
   ]
  },
  {
   "cell_type": "code",
   "execution_count": 85,
   "metadata": {},
   "outputs": [],
   "source": [
    "### Save the animated plot as GIF ###\n",
    "\n",
    "import matplotlib.animation as mpl_anim\n",
    "\n",
    "# Set up formatting for the movie files\n",
    "Writer = mpl_anim.PillowWriter\n",
    "writer = Writer(fps=2, metadata=dict(artist='Steffens'), bitrate=1800)\n",
    "\n",
    "\n",
    "animation.save('TI_zone_used_50.gif', writer=writer)"
   ]
  },
  {
   "cell_type": "code",
   "execution_count": 26,
   "metadata": {},
   "outputs": [
    {
     "data": {
      "text/plain": [
       "0"
      ]
     },
     "execution_count": 26,
     "metadata": {},
     "output_type": "execute_result"
    }
   ],
   "source": [
    "from numpy.random import choice\n",
    "agent_evaluation = [1,2,3]\n",
    "best_new_position = choice(np.arange(len(agent_evaluation)),1)[0]\n",
    "best_new_position"
   ]
  },
  {
   "cell_type": "code",
   "execution_count": 15,
   "metadata": {},
   "outputs": [
    {
     "data": {
      "text/plain": [
       "[1, 2, 3]"
      ]
     },
     "execution_count": 15,
     "metadata": {},
     "output_type": "execute_result"
    }
   ],
   "source": [
    "agent_evaluation[0:3]"
   ]
  },
  {
   "cell_type": "code",
   "execution_count": 45,
   "metadata": {},
   "outputs": [
    {
     "data": {
      "text/plain": [
       "array([0.5, 1. , 1.5, 2. , 2.5])"
      ]
     },
     "execution_count": 45,
     "metadata": {},
     "output_type": "execute_result"
    }
   ],
   "source": [
    "test = np.array([1,2,3,4,5])\n",
    "test*0.5"
   ]
  },
  {
   "cell_type": "code",
   "execution_count": null,
   "metadata": {},
   "outputs": [],
   "source": []
  }
 ],
 "metadata": {
  "kernelspec": {
   "display_name": "Python [conda env:ABRM] *",
   "language": "python",
   "name": "conda-env-ABRM-py"
  },
  "language_info": {
   "codemirror_mode": {
    "name": "ipython",
    "version": 3
   },
   "file_extension": ".py",
   "mimetype": "text/x-python",
   "name": "python",
   "nbconvert_exporter": "python",
   "pygments_lexer": "ipython3",
   "version": "3.7.6"
  }
 },
 "nbformat": 4,
 "nbformat_minor": 4
}
