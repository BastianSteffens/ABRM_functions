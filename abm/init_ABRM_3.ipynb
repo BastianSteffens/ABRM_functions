{
 "cells": [
  {
   "cell_type": "code",
   "execution_count": 1,
   "metadata": {},
   "outputs": [],
   "source": [
    "import numpy as np\n",
    "import random as rn\n",
    "import os \n",
    "from numpy.random import randint\n",
    "import pandas as pd\n",
    "import matplotlib.pyplot as plt\n",
    "import matplotlib.colorbar\n",
    "import matplotlib\n",
    "from mpl_toolkits.mplot3d import Axes3D\n",
    "from mpl_toolkits.axes_grid1 import make_axes_locatable\n",
    "from typing import NoReturn, Text\n",
    "import warnings\n",
    "import time\n",
    "# import pyvista as pv\n",
    "# from scipy.signal import find_peaks\n",
    "from celluloid import Camera\n",
    "from datetime import datetime\n",
    "\n",
    "warnings.simplefilter('ignore')\n",
    "warnings.filterwarnings('ignore')\n",
    "pd.set_option('display.max_columns', 500)\n",
    "pd.set_option('display.max_rows', 200)\n",
    "# pv.set_plot_theme(\"document\")\n",
    "%matplotlib inline\n",
    "\n",
    "from scipy.spatial import Voronoi\n",
    "import matplotlib.pyplot as plt\n",
    "from geovoronoi import voronoi_regions_from_coords\n",
    "from geovoronoi import polygon_lines_from_voronoi\n",
    "import shapely\n",
    "from shapely.geometry import Point\n",
    "from shapely.geometry import MultiPolygon\n",
    "from shapely.geometry import Polygon\n",
    "from descartes import PolygonPatch\n",
    "import numpy as np\n",
    "from shapely.geometry.polygon import LinearRing, Polygon\n",
    "# import pyvista as pv\n",
    "from matplotlib import cm\n",
    "import datetime\n"
   ]
  },
  {
   "cell_type": "code",
   "execution_count": 2,
   "metadata": {},
   "outputs": [],
   "source": [
    "#import local scripts\n",
    "from Agent import Agent\n",
    "from Model import Model\n",
    "from Grid import Grid"
   ]
  },
  {
   "cell_type": "code",
   "execution_count": 3,
   "metadata": {},
   "outputs": [],
   "source": [
    "## Set seed for random generation\n",
    "def seed_everything(seed : int) -> NoReturn :\n",
    "    \"\"\"To set the see for all potential random number usages. If you are using \n",
    "    any other package which might use seed for random generation add it here\"\"\"\n",
    "    rn.seed(seed)\n",
    "    np.random.seed(seed)\n",
    "    os.environ['PYTHONHASHSEED'] = str(seed)\n",
    "    #tf.random.set_seed(seed)  ##uncomment if you are using tensorflow\n",
    "    \n",
    "SEED = 3721286\n",
    "seed_everything(SEED)"
   ]
  },
  {
   "cell_type": "code",
   "execution_count": 4,
   "metadata": {},
   "outputs": [
    {
     "data": {
      "text/plain": [
       "[<matplotlib.lines.Line2D at 0x22f3f696688>]"
      ]
     },
     "execution_count": 4,
     "metadata": {},
     "output_type": "execute_result"
    },
    {
     "data": {
      "image/png": "[encoded data removed]",
      "text/plain": [
       "<Figure size 432x288 with 1 Axes>"
      ]
     },
     "metadata": {
      "needs_background": "light"
     },
     "output_type": "display_data"
    }
   ],
   "source": [
    "F_points_target = np.array([0, 0.7, 0.85, 0.9, 0.95, 0.96, 0.97, 0.98, 0.99, 0.999, 1])\n",
    "F_points_target = np.array([0, 0.3, 0.45, 0.6, 0.68, 0.75, 0.85, 0.9, 0.95, 0.98, 1])\n",
    "\n",
    "plt.plot(F_points_target)"
   ]
  },
  {
   "cell_type": "code",
   "execution_count": 5,
   "metadata": {},
   "outputs": [],
   "source": [
    "### set parameters \n",
    "TURNS = 40\n",
    "RATIOTRACKEDAGENTS = 1.\n",
    "all_vals_len = 200*100\n",
    "\n",
    "# set up TI_zone env\n",
    "# generate 2D mesh\n",
    "x = np.arange(0,200+1,1,)\n",
    "y = np.arange(0,100+1,1)\n",
    "x_grid, y_grid = np.meshgrid(x,y)\n",
    "#get cell centers of mesh\n",
    "x_cell_center = x_grid[:-1,:-1]+0.5\n",
    "y_cell_center = y_grid[:-1,:-1]+0.5\n",
    "TI_zones = []\n",
    "for y in range(x_cell_center.shape[0]):\n",
    "    for x in range(len(x_cell_center[1])):\n",
    "        if 70 <= x_cell_center[y,x] <=130:\n",
    "            TI_zones.append(1)\n",
    "        else:\n",
    "            TI_zones.append(0)\n",
    "TI_zones = np.array(TI_zones)\n",
    "TI_zones = TI_zones.reshape((200,100,1))\n",
    "\n",
    "# create curve and save resultign desired LC\n",
    "Phi_points_target = np.linspace(0, 1, num=11, endpoint=True)\n",
    "# F_points_target = np.array([0, 0.2, 0.35, 0.6, 0.65, 0.7, 0.8, 0.85, 0.9, 0.95, 1])\n",
    "F_points_target = np.array([0, 0.3, 0.45, 0.6, 0.68, 0.75, 0.8, 0.85, 0.9, 0.95, 1])\n",
    "\n",
    "output_folder = str(datetime.datetime.today().replace(microsecond= 0, second = 0).strftime(\"%Y_%m_%d_%H_%M\"))"
   ]
  },
  {
   "cell_type": "code",
   "execution_count": 6,
   "metadata": {
    "scrolled": true
   },
   "outputs": [
    {
     "name": "stdout",
     "output_type": "stream",
     "text": [
      "Shape of your environment: (200, 100, 1)\n",
      "=======loading training images=========\n",
      "Training images loaded! -  took 21.65 seconds\n",
      "=======Initiating grid=========\n",
      "Grid initiated! -  took 0.00 seconds\n",
      "generated new agent\n",
      "generated new agent\n",
      "generated new agent\n",
      "generated new agent\n",
      "generated new agent\n",
      "generated new agent\n",
      "generated new agent\n",
      "generated new agent\n",
      "generated new agent\n",
      "generated new agent\n",
      "generated new agent\n",
      "generated new agent\n",
      "generated new agent\n",
      "generated new agent\n",
      "generated new agent\n",
      "generated new agent\n",
      "generated new agent\n",
      "generated new agent\n",
      "generated new agent\n",
      "generated new agent\n",
      "generated new agent\n",
      "generated new agent\n",
      "generated new agent\n",
      "generated new agent\n",
      "generated new agent\n",
      "Misfit: 0.20571738481521606\n",
      "=======Turn 0========\n",
      "random move          \n",
      "Moving agents done                  \n",
      "Generating agents done              \n",
      "Misfit: 0.1446980983018875\n",
      "=======Turn 1========\n",
      "random move          \n",
      "random move          \n",
      "random move          \n",
      "random move          \n",
      "Moving agents done                  \n",
      "Generating agents done              \n",
      "Misfit: 0.127318874001503\n",
      "=======Turn 2========\n",
      "random move          \n",
      "Moving agents done                  \n",
      "Generating agents done              \n",
      "Misfit: 0.0956488847732544\n",
      "=======Turn 3========\n",
      "Killed agent 18        \n",
      "agent removed from grid\n",
      "Moving agents done                  \n",
      "Generating agents done              \n",
      "Misfit: 0.0885704830288887\n",
      "=======Turn 4========\n",
      "random move          \n",
      "Moving agents done                  \n",
      "Generating agents done              \n",
      "Misfit: 0.12824465334415436\n",
      "=======Turn 5========\n",
      "random move          \n",
      "random move          \n",
      "random move          \n",
      "Moving agents done                  \n",
      "Generating agents done              \n",
      "Misfit: 0.17761223018169403\n",
      "=======Turn 6========\n",
      "random move          \n",
      "Moving agents done                  \n",
      "Generating agents done              \n",
      "Misfit: 0.11824584752321243\n",
      "=======Turn 7========\n",
      "random move          \n",
      "Moving agents done                  \n",
      "Generating agents done              \n",
      "Misfit: 0.14850330352783203\n",
      "=======Turn 8========\n",
      "random move          \n",
      "Moving agents done                  \n",
      "Generating agents done              \n",
      "Misfit: 0.15595552325248718\n",
      "=======Turn 9========\n",
      "random move          \n",
      "random move          \n",
      "random move          \n",
      "Moving agents done                  \n",
      "Generating agents done              \n",
      "Misfit: 0.2836211621761322\n",
      "=======Turn 10========\n",
      "Moving agents done                  \n",
      "Generating agents done              \n",
      "Misfit: 0.15745750069618225\n",
      "=======Turn 11========\n",
      "random move          \n",
      "Moving agents done                  \n",
      "Generating agents done              \n",
      "Misfit: 0.14108990132808685\n",
      "=======Turn 12========\n",
      "Moving agents done                  \n",
      "Generating agents done              \n",
      "Misfit: 0.1548098474740982\n",
      "=======Turn 13========\n",
      "Moving agents done                  \n",
      "Generating agents done              \n",
      "Misfit: 0.10644622892141342\n",
      "=======Turn 14========\n",
      "random move          \n",
      "random move          \n",
      "Killed agent 7        \n",
      "agent removed from grid\n",
      "random move          \n",
      "Moving agents done                  \n",
      "Generating agents done              \n",
      "Misfit: 0.08474060893058777\n",
      "=======Turn 15========\n",
      "random move          \n",
      "Moving agents done                  \n",
      "Generating agents done              \n",
      "Misfit: 0.0887397825717926\n",
      "=======Turn 16========\n",
      "random move          \n",
      "Killed agent 5        \n",
      "agent removed from grid\n",
      "random move          \n",
      "random move          \n",
      "Moving agents done                  \n",
      "Generating agents done              \n",
      "Misfit: 0.08907712996006012\n",
      "=======Turn 17========\n",
      "random move          \n",
      "random move          \n",
      "Moving agents done                  \n",
      "Generating agents done              \n",
      "Misfit: 0.09927816689014435\n",
      "=======Turn 18========\n",
      "Moving agents done                  \n",
      "Generating agents done              \n",
      "Misfit: 0.06570802628993988\n",
      "=======Turn 19========\n",
      "random move          \n",
      "random move          \n",
      "Moving agents done                  \n",
      "Generating agents done              \n",
      "Misfit: 0.08431954681873322\n",
      "=======Turn 20========\n",
      "Moving agents done                  \n",
      "Generating agents done              \n",
      "Misfit: 0.08653908222913742\n",
      "=======Turn 21========\n",
      "Moving agents done                  \n",
      "Generating agents done              \n",
      "Misfit: 0.08415732532739639\n",
      "=======Turn 22========\n",
      "Killed agent 20        \n",
      "agent removed from grid\n",
      "Moving agents done                  \n",
      "Generating agents done              \n",
      "Misfit: 0.09034568816423416\n",
      "=======Turn 23========\n",
      "Moving agents done                  \n",
      "Generating agents done              \n",
      "Misfit: 0.08652907609939575\n",
      "=======Turn 24========\n",
      "random move          \n",
      "random move          \n",
      "Moving agents done                  \n",
      "Generating agents done              \n",
      "Misfit: 0.1004883274435997\n",
      "=======Turn 25========\n",
      "Moving agents done                  \n",
      "Generating agents done              \n",
      "Misfit: 0.13886821269989014\n",
      "=======Turn 26========\n",
      "random move          \n",
      "random move          \n",
      "Moving agents done                  \n",
      "Generating agents done              \n",
      "Misfit: 0.141524076461792\n",
      "=======Turn 27========\n",
      "Moving agents done                  \n",
      "Generating agents done              \n",
      "Misfit: 0.09280240535736084\n",
      "=======Turn 28========\n",
      "Killed agent 15        \n",
      "agent removed from grid\n",
      "Moving agents done                  \n",
      "Generating agents done              \n",
      "Misfit: 0.16132286190986633\n",
      "=======Turn 29========\n",
      "random move          \n",
      "random move          \n",
      "Moving agents done                  \n",
      "Generating agents done              \n",
      "Misfit: 0.10996907204389572\n",
      "=======Turn 30========\n",
      "random move          \n",
      "Moving agents done                  \n",
      "Generating agents done              \n",
      "Misfit: 0.07085905969142914\n",
      "=======Turn 31========\n",
      "Moving agents done                  \n",
      "Generating agents done              \n",
      "Misfit: 0.08373159915208817\n",
      "=======Turn 32========\n",
      "random move          \n",
      "Moving agents done                  \n",
      "Generating agents done              \n",
      "Misfit: 0.09414278715848923\n",
      "=======Turn 33========\n",
      "Moving agents done                  \n",
      "Generating agents done              \n",
      "Misfit: 0.1329803317785263\n",
      "=======Turn 34========\n",
      "random move          \n",
      "random move          \n",
      "Moving agents done                  \n",
      "Generating agents done              \n",
      "Misfit: 0.13635078072547913\n",
      "=======Turn 35========\n",
      "random move          \n",
      "Moving agents done                  \n",
      "Generating agents done              \n",
      "Misfit: 0.18539492785930634\n",
      "=======Turn 36========\n",
      "Killed agent 0        \n",
      "agent removed from grid\n",
      "Killed agent 17        \n",
      "agent removed from grid\n",
      "Moving agents done                  \n",
      "Generating agents done              \n",
      "Misfit: 0.119402214884758\n",
      "=======Turn 37========\n",
      "Moving agents done                  \n",
      "Generating agents done              \n",
      "Misfit: 0.17040467262268066\n",
      "=======Turn 38========\n",
      "random move          \n",
      "Killed agent 19        \n",
      "agent removed from grid\n",
      "Moving agents done                  \n",
      "Generating agents done              \n",
      "Misfit: 0.19554539024829865\n",
      "=======Turn 39========\n",
      "random move          \n",
      "random move          \n",
      "Moving agents done                  \n",
      "Generating agents done              \n",
      "Misfit: 0.18995945155620575\n",
      "Simulation took 57366.42 seconds\n",
      "    AgentID  Start_x  Start_y  Start_z  End_x  End_y  End_z    misfit\n",
      "0         1       13       98        0    7.0   98.0    0.0  0.189959\n",
      "1         2      193       87        0  136.0   67.0    0.0  0.189959\n",
      "2         3      170        2        0  167.0   15.0    0.0  0.189959\n",
      "3         4       86       51        0   85.0   96.0    0.0  0.189959\n",
      "4         6       53       17        0   56.0   31.0    0.0  0.189959\n",
      "5         8      120       45        0  108.0   35.0    0.0  0.189959\n",
      "6         9      103       55        0  130.0   56.0    0.0  0.189959\n",
      "7        10      174       90        0  184.0   66.0    0.0  0.189959\n",
      "8        11      164        9        0  172.0    5.0    0.0  0.189959\n",
      "9        12       64       74        0   91.0   20.0    0.0  0.189959\n",
      "10       13       70       29        0   96.0   41.0    0.0  0.189959\n",
      "11       14      141       74        0  129.0   92.0    0.0  0.189959\n",
      "12       16       47       26        0   13.0   35.0    0.0  0.189959\n",
      "13       21      191       92        0  175.0   82.0    0.0  0.189959\n",
      "14       22      181       41        0  125.0   17.0    0.0  0.189959\n",
      "15       23       87       85        0  138.0   91.0    0.0  0.189959\n",
      "16       24      148       79        0  126.0   53.0    0.0  0.189959\n",
      "17       18        4       85        0    NaN    NaN    NaN  0.087191\n",
      "18        7       30       92        0    NaN    NaN    NaN  0.084658\n",
      "19        5      147       45        0    NaN    NaN    NaN  0.091463\n"
     ]
    }
   ],
   "source": [
    "t1 = time.time()\n",
    "\n",
    "model = Model(env = TI_zones, \n",
    "              number_of_turns=TURNS, number_of_starting_agents = 25,new_agent_every_n_turns = 100,max_number_agents = 150,\n",
    "              ratio_of_tracked_agents = 1.,number_training_image_zones = 2, number_training_images_per_zone = 20,output_folder = output_folder,\n",
    "              Phi_points_target=Phi_points_target,F_points_target=F_points_target,max_number_of_position_tests = 5 ,n_processes = None,neighbourhood_radius = 10, neighbourhood_search_step_size = 1,\n",
    "             )\n",
    "model.run()\n",
    "print(\"Simulation took {0:2.2f} seconds\".format(time.time()-t1))\n",
    "test_df =model.get_final_results()\n",
    "print(test_df.head(20))"
   ]
  },
  {
   "cell_type": "code",
   "execution_count": 34,
   "metadata": {},
   "outputs": [
    {
     "data": {
      "text/plain": [
       "40"
      ]
     },
     "execution_count": 34,
     "metadata": {},
     "output_type": "execute_result"
    }
   ],
   "source": [
    "n_agents = np.array([25,25,25,25,25,25,24,24,24,24,24,24,24,24,24,23,23,23,23,23,23,23,23,23,23,23,22,22,21,21,21,20,19,18,18,18,17,17,16,16])\n",
    "len(n_agents)"
   ]
  },
  {
   "cell_type": "code",
   "execution_count": 36,
   "metadata": {},
   "outputs": [
    {
     "data": {
      "text/plain": [
       "Text(0.5, 0, 'iteration')"
      ]
     },
     "execution_count": 36,
     "metadata": {},
     "output_type": "execute_result"
    },
    {
     "data": {
      "image/png": "[encoded data removed]",
      "text/plain": [
       "<Figure size 432x288 with 1 Axes>"
      ]
     },
     "metadata": {
      "needs_background": "light"
     },
     "output_type": "display_data"
    }
   ],
   "source": [
    "misfit = np.array([0.2,0.14,0.12,0.09,0.08,0.12,0.17,0.11,0.14,0.15,0.28,0.15,0.14,0.15,0.10,0.08,0.08,0.08,0.09,0.06,0.08,0.08,0.1,0.15,0.1,0.07,0.05,0.12,0.13,0.19,0.09,0.05,0.05,0.08,0.13,0.18,0.11,0.17,0.19,0.13])\n",
    "\n",
    "plt.plot(misfit,\".\",markersize = 10)\n",
    "plt.ylabel(\"misfit\")\n",
    "plt.xlabel(\"iteration\")"
   ]
  },
  {
   "cell_type": "code",
   "execution_count": 35,
   "metadata": {
    "scrolled": false
   },
   "outputs": [
    {
     "data": {
      "text/plain": [
       "(0.0, 30.0)"
      ]
     },
     "execution_count": 35,
     "metadata": {},
     "output_type": "execute_result"
    },
    {
     "data": {
      "image/png": "[encoded data removed]",
      "text/plain": [
       "<Figure size 432x288 with 1 Axes>"
      ]
     },
     "metadata": {
      "needs_background": "light"
     },
     "output_type": "display_data"
    }
   ],
   "source": [
    "plt.plot(n_agents,\".\",markersize = 10,c = \"red\")\n",
    "plt.ylabel(\"n_agents\")\n",
    "plt.xlabel(\"iteration\")\n",
    "plt.ylim(0,30)"
   ]
  },
  {
   "cell_type": "code",
   "execution_count": 37,
   "metadata": {},
   "outputs": [
    {
     "data": {
      "text/plain": [
       "array([[26.        , 44.        ,  0.        ,  0.        ,  0.        ,\n",
       "         0.        ,  0.20571738],\n",
       "       [26.        , 38.        ,  0.        ,  0.        ,  0.        ,\n",
       "         0.        ,  0.1446981 ],\n",
       "       [25.        , 41.        ,  0.        ,  0.        ,  0.        ,\n",
       "         0.        ,  0.12731887],\n",
       "       [25.        , 33.        ,  0.        ,  0.        ,  0.        ,\n",
       "         1.        ,  0.09564888],\n",
       "       [25.        , 35.        ,  0.        ,  0.        ,  0.        ,\n",
       "         1.        ,  0.08857048],\n",
       "       [28.        , 32.        ,  0.        ,  0.        ,  0.        ,\n",
       "        16.        ,  0.12824465],\n",
       "       [29.        , 31.        ,  0.        ,  0.        ,  0.        ,\n",
       "        16.        ,  0.17761223],\n",
       "       [34.        , 32.        ,  0.        ,  0.        ,  0.        ,\n",
       "        16.        ,  0.11824585],\n",
       "       [36.        , 30.        ,  0.        ,  0.        ,  0.        ,\n",
       "        16.        ,  0.1485033 ],\n",
       "       [34.        , 32.        ,  0.        ,  0.        ,  0.        ,\n",
       "         6.        ,  0.15595552],\n",
       "       [28.        , 30.        ,  0.        ,  0.        ,  1.        ,\n",
       "         1.        ,  0.28362116],\n",
       "       [29.        , 37.        ,  0.        ,  0.        ,  0.        ,\n",
       "         1.        ,  0.1574575 ],\n",
       "       [20.        , 38.        ,  0.        ,  0.        ,  0.        ,\n",
       "         1.        ,  0.1410899 ],\n",
       "       [21.        , 42.        ,  0.        ,  0.        ,  0.        ,\n",
       "         1.        ,  0.15480985],\n",
       "       [29.        , 43.        ,  0.        ,  0.        ,  0.        ,\n",
       "         1.        ,  0.10644623],\n",
       "       [24.        , 41.        ,  0.        ,  0.        ,  0.        ,\n",
       "         1.        ,  0.08474061],\n",
       "       [24.        , 32.        ,  0.        ,  0.        ,  0.        ,\n",
       "         1.        ,  0.08873978],\n",
       "       [17.        , 30.        ,  0.        ,  0.        ,  0.        ,\n",
       "         1.        ,  0.08907713],\n",
       "       [22.        , 31.        ,  0.        ,  0.        ,  0.        ,\n",
       "         1.        ,  0.09927817],\n",
       "       [16.        , 35.        ,  0.        ,  0.        ,  0.        ,\n",
       "         1.        ,  0.06570803],\n",
       "       [11.        , 33.        ,  0.        ,  0.        ,  0.        ,\n",
       "         1.        ,  0.08431955],\n",
       "       [13.        , 33.        ,  0.        ,  0.        ,  0.        ,\n",
       "         1.        ,  0.08653908],\n",
       "       [ 8.        , 31.        ,  0.        ,  0.        ,  0.        ,\n",
       "         2.        ,  0.08415733],\n",
       "       [ 9.        , 26.        ,  0.        ,  0.        ,  0.        ,\n",
       "         3.        ,  0.09034569],\n",
       "       [16.        , 23.        ,  0.        ,  0.        ,  0.        ,\n",
       "         4.        ,  0.08652908],\n",
       "       [20.        , 21.        ,  0.        ,  0.        ,  0.        ,\n",
       "         4.        ,  0.10048833],\n",
       "       [15.        , 22.        ,  0.        ,  0.        ,  0.        ,\n",
       "         4.        ,  0.13886821],\n",
       "       [16.        , 23.        ,  0.        ,  0.        ,  0.        ,\n",
       "         4.        ,  0.14152408],\n",
       "       [21.        , 20.        ,  0.        ,  0.        ,  0.        ,\n",
       "         4.        ,  0.09280241],\n",
       "       [22.        , 21.        ,  0.        ,  0.        ,  0.        ,\n",
       "         4.        ,  0.16132286],\n",
       "       [20.        , 22.        ,  0.        ,  0.        ,  0.        ,\n",
       "         4.        ,  0.10996907],\n",
       "       [20.        , 14.        ,  0.        ,  0.        ,  0.        ,\n",
       "         4.        ,  0.07085906],\n",
       "       [17.        , 15.        ,  0.        ,  0.        ,  0.        ,\n",
       "         4.        ,  0.0837316 ],\n",
       "       [25.        , 17.        ,  0.        ,  0.        ,  0.        ,\n",
       "         4.        ,  0.09414279],\n",
       "       [29.        , 18.        ,  0.        ,  0.        ,  0.        ,\n",
       "         4.        ,  0.13298033],\n",
       "       [31.        , 12.        ,  0.        ,  0.        ,  0.        ,\n",
       "         4.        ,  0.13635078],\n",
       "       [30.        , 11.        ,  0.        ,  0.        ,  0.        ,\n",
       "         4.        ,  0.18539493],\n",
       "       [        nan,         nan,         nan,         nan,         nan,\n",
       "                nan,         nan],\n",
       "       [        nan,         nan,         nan,         nan,         nan,\n",
       "                nan,         nan],\n",
       "       [        nan,         nan,         nan,         nan,         nan,\n",
       "                nan,         nan],\n",
       "       [        nan,         nan,         nan,         nan,         nan,\n",
       "                nan,         nan]])"
      ]
     },
     "execution_count": 37,
     "metadata": {},
     "output_type": "execute_result"
    }
   ],
   "source": [
    "tracker = model.get_all_tracks()\n",
    "tracker[0]"
   ]
  },
  {
   "cell_type": "code",
   "execution_count": 75,
   "metadata": {},
   "outputs": [
    {
     "data": {
      "text/plain": [
       "array([[1.47000000e+02, 4.50000000e+01, 0.00000000e+00, 0.00000000e+00,\n",
       "        0.00000000e+00, 9.00000000e+00, 2.05717385e-01],\n",
       "       [1.40000000e+02, 4.60000000e+01, 0.00000000e+00, 0.00000000e+00,\n",
       "        0.00000000e+00, 1.00000000e+00, 1.44698098e-01],\n",
       "       [1.37000000e+02, 4.10000000e+01, 0.00000000e+00, 0.00000000e+00,\n",
       "        0.00000000e+00, 0.00000000e+00, 1.27318874e-01],\n",
       "       [1.35000000e+02, 4.90000000e+01, 0.00000000e+00, 0.00000000e+00,\n",
       "        0.00000000e+00, 6.00000000e+00, 9.56488848e-02],\n",
       "       [1.36000000e+02, 4.30000000e+01, 0.00000000e+00, 0.00000000e+00,\n",
       "        0.00000000e+00, 6.00000000e+00, 8.85704830e-02],\n",
       "       [1.39000000e+02, 3.80000000e+01, 0.00000000e+00, 0.00000000e+00,\n",
       "        0.00000000e+00, 5.00000000e+00, 1.28244653e-01],\n",
       "       [1.40000000e+02, 4.30000000e+01, 0.00000000e+00, 0.00000000e+00,\n",
       "        0.00000000e+00, 1.10000000e+01, 1.77612230e-01],\n",
       "       [1.48000000e+02, 4.30000000e+01, 0.00000000e+00, 0.00000000e+00,\n",
       "        0.00000000e+00, 1.10000000e+01, 1.18245848e-01],\n",
       "       [1.43000000e+02, 4.60000000e+01, 0.00000000e+00, 0.00000000e+00,\n",
       "        0.00000000e+00, 1.10000000e+01, 1.48503304e-01],\n",
       "       [1.40000000e+02, 4.40000000e+01, 0.00000000e+00, 0.00000000e+00,\n",
       "        0.00000000e+00, 1.10000000e+01, 1.55955523e-01],\n",
       "       [1.38000000e+02, 4.80000000e+01, 0.00000000e+00, 0.00000000e+00,\n",
       "        0.00000000e+00, 1.00000000e+01, 2.83621162e-01],\n",
       "       [1.32000000e+02, 5.20000000e+01, 0.00000000e+00, 0.00000000e+00,\n",
       "        0.00000000e+00, 1.00000000e+01, 1.57457501e-01],\n",
       "       [1.31000000e+02, 4.30000000e+01, 0.00000000e+00, 0.00000000e+00,\n",
       "        0.00000000e+00, 9.00000000e+00, 1.41089901e-01],\n",
       "       [1.30000000e+02, 5.10000000e+01, 0.00000000e+00, 0.00000000e+00,\n",
       "        0.00000000e+00, 9.00000000e+00, 1.54809847e-01],\n",
       "       [1.31000000e+02, 5.30000000e+01, 0.00000000e+00, 0.00000000e+00,\n",
       "        0.00000000e+00, 1.00000000e+01, 1.06446229e-01],\n",
       "       [1.30000000e+02, 4.90000000e+01, 0.00000000e+00, 0.00000000e+00,\n",
       "        0.00000000e+00, 1.00000000e+01, 8.47406089e-02],\n",
       "       [1.26000000e+02, 5.00000000e+01, 0.00000000e+00, 0.00000000e+00,\n",
       "        0.00000000e+00, 1.00000000e+01, 8.87397826e-02],\n",
       "       [           nan,            nan,            nan,            nan,\n",
       "                   nan,            nan,            nan],\n",
       "       [           nan,            nan,            nan,            nan,\n",
       "                   nan,            nan,            nan],\n",
       "       [           nan,            nan,            nan,            nan,\n",
       "                   nan,            nan,            nan],\n",
       "       [           nan,            nan,            nan,            nan,\n",
       "                   nan,            nan,            nan],\n",
       "       [           nan,            nan,            nan,            nan,\n",
       "                   nan,            nan,            nan],\n",
       "       [           nan,            nan,            nan,            nan,\n",
       "                   nan,            nan,            nan],\n",
       "       [           nan,            nan,            nan,            nan,\n",
       "                   nan,            nan,            nan],\n",
       "       [           nan,            nan,            nan,            nan,\n",
       "                   nan,            nan,            nan],\n",
       "       [           nan,            nan,            nan,            nan,\n",
       "                   nan,            nan,            nan],\n",
       "       [           nan,            nan,            nan,            nan,\n",
       "                   nan,            nan,            nan],\n",
       "       [           nan,            nan,            nan,            nan,\n",
       "                   nan,            nan,            nan],\n",
       "       [           nan,            nan,            nan,            nan,\n",
       "                   nan,            nan,            nan],\n",
       "       [           nan,            nan,            nan,            nan,\n",
       "                   nan,            nan,            nan],\n",
       "       [           nan,            nan,            nan,            nan,\n",
       "                   nan,            nan,            nan],\n",
       "       [           nan,            nan,            nan,            nan,\n",
       "                   nan,            nan,            nan],\n",
       "       [           nan,            nan,            nan,            nan,\n",
       "                   nan,            nan,            nan],\n",
       "       [           nan,            nan,            nan,            nan,\n",
       "                   nan,            nan,            nan],\n",
       "       [           nan,            nan,            nan,            nan,\n",
       "                   nan,            nan,            nan],\n",
       "       [           nan,            nan,            nan,            nan,\n",
       "                   nan,            nan,            nan],\n",
       "       [           nan,            nan,            nan,            nan,\n",
       "                   nan,            nan,            nan],\n",
       "       [           nan,            nan,            nan,            nan,\n",
       "                   nan,            nan,            nan],\n",
       "       [           nan,            nan,            nan,            nan,\n",
       "                   nan,            nan,            nan],\n",
       "       [           nan,            nan,            nan,            nan,\n",
       "                   nan,            nan,            nan],\n",
       "       [           nan,            nan,            nan,            nan,\n",
       "                   nan,            nan,            nan]])"
      ]
     },
     "execution_count": 75,
     "metadata": {},
     "output_type": "execute_result"
    }
   ],
   "source": [
    "tracker[5]\n"
   ]
  },
  {
   "cell_type": "code",
   "execution_count": 39,
   "metadata": {},
   "outputs": [],
   "source": [
    "iteration=[]\n",
    "for turns in range(TURNS+1):\n",
    "    agent_pos = []\n",
    "    for agent_id in range(model.current_id+1):\n",
    "        agent_pos.append(tracker[agent_id][turns][0:6])\n",
    "    \n",
    "    iteration.append(agent_pos)\n",
    "iteration = np.array(iteration)\n"
   ]
  },
  {
   "cell_type": "code",
   "execution_count": 40,
   "metadata": {},
   "outputs": [
    {
     "data": {
      "text/plain": [
       "(1.0, 0.5925925925925927, 0.0, 1.0)"
      ]
     },
     "execution_count": 40,
     "metadata": {},
     "output_type": "execute_result"
    }
   ],
   "source": [
    "N = 50\n",
    "# define the colormap\n",
    "cmap = plt.cm.jet\n",
    "# extract all colors from the .jet map\n",
    "cmaplist = [cmap(i) for i in range(cmap.N)]\n",
    "# create the new map\n",
    "cmap = cmap.from_list('Custom cmap', cmaplist, cmap.N)\n",
    "viridis = cm.get_cmap('jet', 5)\n",
    "viridis(3)"
   ]
  },
  {
   "cell_type": "code",
   "execution_count": 41,
   "metadata": {},
   "outputs": [],
   "source": [
    "grid = Polygon([(0, 0), (0, 100), (200, 100), (200, 0)])\n"
   ]
  },
  {
   "cell_type": "code",
   "execution_count": 42,
   "metadata": {},
   "outputs": [
    {
     "data": {
      "text/plain": [
       "(0.0, 100.0)"
      ]
     },
     "execution_count": 42,
     "metadata": {},
     "output_type": "execute_result"
    },
    {
     "data": {
      "image/png": "[encoded data removed]",
      "text/plain": [
       "<Figure size 432x288 with 1 Axes>"
      ]
     },
     "metadata": {
      "needs_background": "light"
     },
     "output_type": "display_data"
    }
   ],
   "source": [
    "# generate 2D mesh\n",
    "x = np.arange(0,200+1,1,)\n",
    "y = np.arange(0,100+1,1)\n",
    "x_grid, y_grid = np.meshgrid(x,y)\n",
    "# get cell center\n",
    "x_cell_center = x_grid[:-1,:-1]+0.5\n",
    "y_cell_center = y_grid[:-1,:-1]+0.5\n",
    "cell_center_which_polygon = np.zeros(len(x_cell_center.flatten()))\n",
    "which_TI_zone = np.zeros(len(x_cell_center.flatten()))\n",
    "# array to assign polygon to cell id\n",
    "all_cell_center = np.column_stack((x_cell_center.flatten(),y_cell_center.flatten(),cell_center_which_polygon,which_TI_zone))\n",
    "plt.scatter(x_cell_center,y_cell_center, c = TI_zones,cmap=viridis)\n",
    "plt.title(\"Voronoi Polygons to Grid\")\n",
    "plt.xlim([0,200])\n",
    "plt.ylim([0,100])"
   ]
  },
  {
   "cell_type": "code",
   "execution_count": 43,
   "metadata": {},
   "outputs": [
    {
     "data": {
      "text/plain": [
       "(0.0, 100.0)"
      ]
     },
     "execution_count": 43,
     "metadata": {},
     "output_type": "execute_result"
    },
    {
     "data": {
      "image/png": "[encoded data removed]",
      "text/plain": [
       "<Figure size 432x288 with 1 Axes>"
      ]
     },
     "metadata": {
      "needs_background": "light"
     },
     "output_type": "display_data"
    }
   ],
   "source": [
    "# in what voronoi polygon do cell centers plot\n",
    "for i in range(len(all_cell_center)):\n",
    "    for voronoi_polygon_id in range(len(poly_shapes)):\n",
    "        \n",
    "        polygon = poly_shapes[voronoi_polygon_id]\n",
    "        cell_id = Point(all_cell_center[i,0],all_cell_center[i,1])\n",
    "        \n",
    "        if polygon.intersects(cell_id):\n",
    "            all_cell_center[i,2] = voronoi_polygon_id\n",
    "\n",
    "plt.scatter(x_cell_center,y_cell_center, c = all_cell_center[:,2])\n",
    "plt.title(\"Voronoi Polygons to Grid\")\n",
    "plt.xlim([0,200])\n",
    "plt.ylim([0,100])\n"
   ]
  },
  {
   "cell_type": "code",
   "execution_count": 44,
   "metadata": {},
   "outputs": [
    {
     "data": {
      "text/plain": [
       "22"
      ]
     },
     "execution_count": 44,
     "metadata": {},
     "output_type": "execute_result"
    }
   ],
   "source": [
    "len(poly_shapes)"
   ]
  },
  {
   "cell_type": "code",
   "execution_count": 45,
   "metadata": {},
   "outputs": [
    {
     "data": {
      "image/png": "[encoded data removed]",
      "text/plain": [
       "<Figure size 450x450 with 1 Axes>"
      ]
     },
     "metadata": {
      "needs_background": "light"
     },
     "output_type": "display_data"
    }
   ],
   "source": [
    "fig = plt.figure(1, figsize=(5,5), dpi=90)\n",
    "color = [\"red\",\"blue\",\"green\",\"black\"]#,\"yellow\",\"red\",\"blue\",\"green\",\"black\",\"yellow\",\"red\",\"blue\",\"green\",\"black\",\"yellow\"]\n",
    "# color = 100*np.random.randint(n_voronoi)\n",
    "N = 15\n",
    "# define the colormap\n",
    "cmap = plt.cm.jet\n",
    "# extract all colors from the .jet map\n",
    "cmaplist = [cmap(i) for i in range(cmap.N)]\n",
    "# create the new map\n",
    "cmap = cmap.from_list('Custom cmap', cmaplist, cmap.N)\n",
    "# define the bins and normalize\n",
    "bounds = np.linspace(0,N,N+1)\n",
    "norm = matplotlib.colors.BoundaryNorm(bounds, cmap.N)\n",
    "ax = fig.add_subplot(111)\n",
    "# for i in range(len(poly_shapes)):\n",
    "for i in range(1):\n",
    "    TI_id = int(zone[i])\n",
    "    ring_patch = PolygonPatch(poly_shapes[i], facecolor = color[TI_id])# viridis(TI_id))\n",
    "    ax.add_patch(ring_patch)\n",
    "    ax.set_title('Voronoi tesselation')\n",
    "    xrange = [0, 200]\n",
    "    yrange = [0, 100]\n",
    "    ax.set_xlim(*xrange)\n",
    "    ax.set_ylim(*yrange)\n",
    "    ax.set_aspect(1)\n",
    "\n",
    "\n",
    "# plt.xlim([0,10])\n",
    "# plt.ylim([0,10])"
   ]
  },
  {
   "cell_type": "code",
   "execution_count": 46,
   "metadata": {},
   "outputs": [
    {
     "data": {
      "text/plain": [
       "array([26.        , 44.        ,  0.        ,  0.        ,  0.        ,\n",
       "        0.        ,  0.20571738])"
      ]
     },
     "execution_count": 46,
     "metadata": {},
     "output_type": "execute_result"
    }
   ],
   "source": [
    "tracker[0][0]"
   ]
  },
  {
   "cell_type": "code",
   "execution_count": 76,
   "metadata": {},
   "outputs": [],
   "source": [
    "color_steps = np.linspace(0.15,1,20)\n",
    "cmap_blues = matplotlib.cm.get_cmap('Blues')\n",
    "cmap_greens = matplotlib.cm.get_cmap('Greens')\n",
    "\n",
    "color_greens = []\n",
    "color_blues = []\n",
    "for i in range(len(color_steps)):\n",
    "    color_blues.append(cmap_blues(color_steps[i]))\n",
    "    color_greens.append(cmap_greens(color_steps[i]))"
   ]
  },
  {
   "cell_type": "code",
   "execution_count": 77,
   "metadata": {},
   "outputs": [
    {
     "data": {
      "image/png": "[encoded data removed]",
      "text/plain": [
       "<Figure size 450x450 with 1 Axes>"
      ]
     },
     "metadata": {
      "needs_background": "light"
     },
     "output_type": "display_data"
    }
   ],
   "source": [
    "%matplotlib inline\n",
    "iter_to_display = 40\n",
    "\n",
    "# extract voronoi point and TI_zone affiliated with them\n",
    "voronoi_points = np.vstack((iteration[iter_to_display][:,0],iteration[iter_to_display][:,1])).T\n",
    "voronoi_points = voronoi_points[~np.isnan(voronoi_points).any(axis=1)]\n",
    "\n",
    "zone = iteration[iter_to_display][:,5]\n",
    "zone = zone[~np.isnan(zone)]\n",
    "# zone[-1]=zone[-2]\n",
    "# get voronoi regions\n",
    "poly_shapes, pts, poly_to_pt_assignments = voronoi_regions_from_coords(voronoi_points, grid)\n",
    "# get polygons back into correct order with zip and sorted\n",
    "poly_to_point = []\n",
    "for i in range(len(poly_to_pt_assignments)):\n",
    "    poly_to_point.append(poly_to_pt_assignments[i][0])\n",
    "zipped_lists = zip(poly_to_point,poly_shapes)\n",
    "sorted_zipped_lists = sorted(zipped_lists)\n",
    "poly_shapes = [element for _, element in sorted_zipped_lists]\n",
    "fig = plt.figure(1, figsize=(5,5), dpi=90)\n",
    "color = [\"Green\",\"Yellow\",\"Blue\",\"Azure\",\"Red\",\"Black\",\"Brown\",\"White\",\"Ivory\",\"Teal\",\"Silver\",\"Gray\",\"Purple\",\"Orange\",\"Maroon\",\"Lime\",\"Aquamarine\",\"Coral\",\"Wheat\",\"Crimson\"]\n",
    "# color = 100*np.random.randint(len(voronoi_points))\n",
    "# viridis = cm.get_cmap('viridis', model.current_id+1)\n",
    "\n",
    "ax = fig.add_subplot(111)\n",
    "for j in range(len(poly_shapes)):\n",
    "    TI_id = int(zone[j])\n",
    "    ring_patch = PolygonPatch(poly_shapes[j], facecolor =  color[TI_id])\n",
    "    ax.add_patch(ring_patch)\n",
    "    ax.set_title('Voronoi tesselation')\n",
    "    xrange = [0, 200]\n",
    "    yrange = [0, 100]\n",
    "    ax.set_xlim(*xrange)\n",
    "    ax.set_ylim(*yrange)\n",
    "    ax.set_aspect(1)\n",
    "\n"
   ]
  },
  {
   "cell_type": "code",
   "execution_count": null,
   "metadata": {},
   "outputs": [],
   "source": []
  },
  {
   "cell_type": "code",
   "execution_count": 19,
   "metadata": {},
   "outputs": [
    {
     "data": {
      "text/plain": [
       "array([0., 0., 0., 0., 1., 0., 0., 0., 1., 1.])"
      ]
     },
     "execution_count": 19,
     "metadata": {},
     "output_type": "execute_result"
    }
   ],
   "source": [
    "zone"
   ]
  },
  {
   "cell_type": "code",
   "execution_count": 28,
   "metadata": {},
   "outputs": [
    {
     "data": {
      "text/plain": [
       "array([0., 0., 1., 0., 0., 1., 0., 0., 0., 0.])"
      ]
     },
     "execution_count": 28,
     "metadata": {},
     "output_type": "execute_result"
    }
   ],
   "source": [
    "zone"
   ]
  },
  {
   "cell_type": "code",
   "execution_count": 19,
   "metadata": {},
   "outputs": [
    {
     "data": {
      "text/plain": [
       "range(0, 6)"
      ]
     },
     "execution_count": 19,
     "metadata": {},
     "output_type": "execute_result"
    }
   ],
   "source": [
    "range(6)"
   ]
  },
  {
   "cell_type": "code",
   "execution_count": 63,
   "metadata": {},
   "outputs": [],
   "source": [
    "%matplotlib notebook\n",
    "%matplotlib notebook"
   ]
  },
  {
   "cell_type": "code",
   "execution_count": 78,
   "metadata": {
    "scrolled": false
   },
   "outputs": [
    {
     "data": {
      "image/png": "[encoded data removed]",
      "text/plain": [
       "<Figure size 720x720 with 1 Axes>"
      ]
     },
     "metadata": {
      "needs_background": "light"
     },
     "output_type": "display_data"
    }
   ],
   "source": [
    "fig = plt.figure(figsize = (10,10))\n",
    "camera = Camera(fig)\n",
    "for i in range(TURNS+1):\n",
    "    # extract voronoi points and TI_zone affiliated with them\n",
    "    voronoi_points = np.vstack((iteration[i][:,0],iteration[i][:,1])).T\n",
    "    voronoi_points = voronoi_points[~np.isnan(voronoi_points).any(axis=1)]\n",
    "\n",
    "#     zone = iteration[i][:,3]\n",
    "#     zone = zone[~np.isnan(zone)]\n",
    "    zone = iteration[i][:,5]\n",
    "    zone = zone[~np.isnan(zone)]\n",
    "    TI_zone_used = iteration[i][:,4]\n",
    "    TI_zone_used = TI_zone_used[~np.isnan(TI_zone_used)]\n",
    "\n",
    "    # get voronoi regions\n",
    "    poly_shapes, pts, poly_to_pt_assignments = voronoi_regions_from_coords(voronoi_points, grid)\n",
    "    # get polygons back into correct order with zip and sorted\n",
    "    poly_to_point = []\n",
    "    for i in range(len(poly_to_pt_assignments)):\n",
    "        poly_to_point.append(poly_to_pt_assignments[i][0])\n",
    "    zipped_lists = zip(poly_to_point,poly_shapes)\n",
    "    sorted_zipped_lists = sorted(zipped_lists)\n",
    "    poly_shapes = [element for _, element in sorted_zipped_lists]\n",
    "    fig = plt.figure(1, figsize=(5,5), dpi=90)\n",
    "    color = [\"Green\",\"Yellow\",\"Blue\",\"Azure\",\"Red\",\"Black\",\"Brown\",\"White\",\"Ivory\",\"Teal\",\"Silver\",\"Gray\",\"Purple\",\"Orange\",\"Maroon\",\"Lime\",\"Aquamarine\",\"Coral\",\"Wheat\",\"Crimson\"]\n",
    "#     color = 100*np.random.randint(len(voronoi_points))\n",
    "    viridis = cm.get_cmap('jet', 12)\n",
    "\n",
    "    ax = fig.add_subplot(111)\n",
    "    for j in range(len(poly_shapes)):\n",
    "        if TI_zone_used[j] == 0:\n",
    "            color = color_blues\n",
    "        else:\n",
    "            color = color_greens\n",
    "        TI_id = zone[j]\n",
    "        ring_patch = PolygonPatch(poly_shapes[j], facecolor =  color[int(TI_id)])\n",
    "        ax.add_patch(ring_patch)\n",
    "        ax.set_title('Voronoi tesselation iteration')\n",
    "        xrange = [0, 200]\n",
    "        yrange = [0, 100]\n",
    "        ax.set_xlim(*xrange)\n",
    "        ax.set_ylim(*yrange)\n",
    "        ax.set_aspect(1)\n",
    "#     ax.plot(voronoi_points[:,0],voronoi_points[:,1],\".\")\n",
    "\n",
    "\n",
    "    # plt.xlim([0,10])\n",
    "    # plt.ylim([0,10])\n",
    "    camera.snap()\n",
    "animation = camera.animate()"
   ]
  },
  {
   "cell_type": "code",
   "execution_count": 79,
   "metadata": {},
   "outputs": [],
   "source": [
    "### Save the animated plot as GIF ###\n",
    "\n",
    "import matplotlib.animation as mpl_anim\n",
    "\n",
    "# Set up formatting for the movie files\n",
    "Writer = mpl_anim.PillowWriter\n",
    "writer = Writer(fps=2, metadata=dict(artist='Steffens'), bitrate=1800)\n",
    "\n",
    "\n",
    "animation.save('figures/TI_zone_assigned.gif', writer=writer)"
   ]
  },
  {
   "cell_type": "code",
   "execution_count": 27,
   "metadata": {},
   "outputs": [
    {
     "data": {
      "text/plain": [
       "1"
      ]
     },
     "execution_count": 27,
     "metadata": {},
     "output_type": "execute_result"
    }
   ],
   "source": [
    "from numpy.random import choice\n",
    "agent_evaluation = [1,2,3]\n",
    "best_new_position = choice(np.arange(len(agent_evaluation)),1)[0]\n",
    "best_new_position"
   ]
  },
  {
   "cell_type": "code",
   "execution_count": 15,
   "metadata": {},
   "outputs": [
    {
     "data": {
      "text/plain": [
       "[1, 2, 3]"
      ]
     },
     "execution_count": 15,
     "metadata": {},
     "output_type": "execute_result"
    }
   ],
   "source": [
    "agent_evaluation[0:3]"
   ]
  },
  {
   "cell_type": "code",
   "execution_count": 45,
   "metadata": {},
   "outputs": [
    {
     "data": {
      "text/plain": [
       "array([0.5, 1. , 1.5, 2. , 2.5])"
      ]
     },
     "execution_count": 45,
     "metadata": {},
     "output_type": "execute_result"
    }
   ],
   "source": [
    "test = np.array([1,2,3,4,5])\n",
    "test*0.5"
   ]
  },
  {
   "cell_type": "code",
   "execution_count": null,
   "metadata": {},
   "outputs": [],
   "source": []
  }
 ],
 "metadata": {
  "kernelspec": {
   "display_name": "Python [conda env:ABRM] *",
   "language": "python",
   "name": "conda-env-ABRM-py"
  },
  "language_info": {
   "codemirror_mode": {
    "name": "ipython",
    "version": 3
   },
   "file_extension": ".py",
   "mimetype": "text/x-python",
   "name": "python",
   "nbconvert_exporter": "python",
   "pygments_lexer": "ipython3",
   "version": "3.7.6"
  }
 },
 "nbformat": 4,
 "nbformat_minor": 4
}
